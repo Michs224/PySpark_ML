{
 "cells": [
  {
   "cell_type": "code",
   "execution_count": 1,
   "metadata": {
    "id": "h7T70Tk893Ei"
   },
   "outputs": [],
   "source": [
    "# from __future__ import print_function\n",
    "# import pyspark\n",
    "# findspark.find()\n",
    "from pyspark.sql import SparkSession\n",
    "from pyspark.ml.feature import VectorAssembler,VectorIndexer\n",
    "from pyspark.ml.feature import VectorAssembler\n",
    "from pyspark.ml.regression import LinearRegression\n",
    "from pyspark.ml.regression import RandomForestRegressor\n",
    "from pyspark.ml.evaluation import RegressionEvaluator"
   ]
  },
  {
   "cell_type": "code",
   "execution_count": 2,
   "metadata": {
    "id": "ynANWs9k93Ek",
    "outputId": "066eea90-e916-4404-cd0c-8bbb036eb7bd"
   },
   "outputs": [],
   "source": [
    "# import findspark\n",
    "# findspark.init()\n",
    "# findspark.find()"
   ]
  },
  {
   "cell_type": "code",
   "execution_count": 3,
   "metadata": {
    "id": "gc4vGRuD93Ek"
   },
   "outputs": [],
   "source": [
    "spark = SparkSession.builder.appName(\"Pyspark ML Algorithms\").getOrCreate()"
   ]
  },
  {
   "cell_type": "code",
   "execution_count": 4,
   "metadata": {
    "id": "bG6KvHNM93El"
   },
   "outputs": [],
   "source": [
    "dataframe = spark.read.csv(\"Admission_Predict.csv\",header=True)"
   ]
  },
  {
   "cell_type": "code",
   "execution_count": 128,
   "metadata": {
    "id": "DRKcYtrr93El",
    "outputId": "1e84abcb-14ed-49f4-be7a-d3d22293ba64"
   },
   "outputs": [
    {
     "data": {
      "text/plain": [
       "(pyspark.sql.dataframe.DataFrame, 400)"
      ]
     },
     "execution_count": 128,
     "metadata": {},
     "output_type": "execute_result"
    }
   ],
   "source": [
    "type (dataframe), dataframe.count()"
   ]
  },
  {
   "cell_type": "code",
   "execution_count": 6,
   "metadata": {
    "id": "N2oo9P2893El",
    "outputId": "4f8d4252-9bcb-473a-b6f4-2deeb199d569"
   },
   "outputs": [
    {
     "name": "stdout",
     "output_type": "stream",
     "text": [
      "+---------+-----------+-----------------+---+----+----+--------+----------------+\n",
      "|GRE Score|TOEFL Score|University Rating|SOP|LOR |CGPA|Research|Chance of Admit |\n",
      "+---------+-----------+-----------------+---+----+----+--------+----------------+\n",
      "|      337|        118|                4|4.5| 4.5|9.65|       1|            0.92|\n",
      "|      324|        107|                4|  4| 4.5|8.87|       1|            0.76|\n",
      "|      316|        104|                3|  3| 3.5|   8|       1|            0.72|\n",
      "|      322|        110|                3|3.5| 2.5|8.67|       1|             0.8|\n",
      "|      314|        103|                2|  2|   3|8.21|       0|            0.65|\n",
      "|      330|        115|                5|4.5|   3|9.34|       1|             0.9|\n",
      "|      321|        109|                3|  3|   4| 8.2|       1|            0.75|\n",
      "|      308|        101|                2|  3|   4| 7.9|       0|            0.68|\n",
      "|      302|        102|                1|  2| 1.5|   8|       0|             0.5|\n",
      "|     NULL|        108|                3|3.5|   3| 8.6|       0|            0.45|\n",
      "|     NULL|        106|                3|3.5|   4| 8.4|       1|            0.52|\n",
      "|      327|        111|                4|  4| 4.5|   9|       1|            0.84|\n",
      "|      328|       NULL|                4|  4| 4.5| 9.1|       1|            0.78|\n",
      "|      307|        109|                3|  4|   3|   8|       1|            0.62|\n",
      "|      311|        104|                3|3.5|   2| 8.2|       1|            0.61|\n",
      "|      314|        105|                3|3.5| 2.5| 8.3|       0|            0.54|\n",
      "|      317|        107|                3|  4|   3| 8.7|       0|            0.66|\n",
      "|      319|        106|                3|  4|   3|   8|       1|            0.65|\n",
      "|      318|        110|                3|  4|   3| 8.8|       0|            0.63|\n",
      "|      303|        102|                3|3.5|   3| 8.5|       0|            0.62|\n",
      "+---------+-----------+-----------------+---+----+----+--------+----------------+\n",
      "only showing top 20 rows\n",
      "\n"
     ]
    }
   ],
   "source": [
    "dataframe.show()"
   ]
  },
  {
   "cell_type": "code",
   "execution_count": 7,
   "metadata": {
    "id": "c9a_KJMi93El",
    "outputId": "543a284a-8643-43c9-d72f-7da698daa0b3"
   },
   "outputs": [
    {
     "name": "stdout",
     "output_type": "stream",
     "text": [
      "root\n",
      " |-- GRE Score: string (nullable = true)\n",
      " |-- TOEFL Score: string (nullable = true)\n",
      " |-- University Rating: string (nullable = true)\n",
      " |-- SOP: string (nullable = true)\n",
      " |-- LOR : string (nullable = true)\n",
      " |-- CGPA: string (nullable = true)\n",
      " |-- Research: string (nullable = true)\n",
      " |-- Chance of Admit : string (nullable = true)\n",
      "\n"
     ]
    }
   ],
   "source": [
    "dataframe.printSchema()"
   ]
  },
  {
   "cell_type": "code",
   "execution_count": 8,
   "metadata": {},
   "outputs": [
    {
     "data": {
      "text/plain": [
       "['GRE Score',\n",
       " 'TOEFL Score',\n",
       " 'University Rating',\n",
       " 'SOP',\n",
       " 'LOR ',\n",
       " 'CGPA',\n",
       " 'Research',\n",
       " 'Chance of Admit ']"
      ]
     },
     "execution_count": 8,
     "metadata": {},
     "output_type": "execute_result"
    }
   ],
   "source": [
    "dataframe.columns"
   ]
  },
  {
   "cell_type": "code",
   "execution_count": 9,
   "metadata": {},
   "outputs": [
    {
     "name": "stdout",
     "output_type": "stream",
     "text": [
      "Column<'GRE Score'>\n",
      "Column<'TOEFL Score'>\n",
      "Column<'University Rating'>\n",
      "Column<'SOP'>\n",
      "Column<'LOR '>\n",
      "Column<'CGPA'>\n",
      "Column<'Research'>\n",
      "Column<'Chance of Admit '>\n"
     ]
    }
   ],
   "source": [
    "from pyspark.sql.functions import col\n",
    "\n",
    "for c in dataframe.columns:\n",
    "    print(col(c))"
   ]
  },
  {
   "cell_type": "code",
   "execution_count": 10,
   "metadata": {},
   "outputs": [
    {
     "data": {
      "text/plain": [
       "[Column<'GRE Score'>,\n",
       " Column<'TOEFL Score'>,\n",
       " Column<'University Rating'>,\n",
       " Column<'SOP'>,\n",
       " Column<'LOR '>,\n",
       " Column<'CGPA'>,\n",
       " Column<'Research'>,\n",
       " Column<'Chance of Admit '>]"
      ]
     },
     "execution_count": 10,
     "metadata": {},
     "output_type": "execute_result"
    }
   ],
   "source": [
    "[col(c) for c in dataframe.columns]"
   ]
  },
  {
   "cell_type": "code",
   "execution_count": 11,
   "metadata": {},
   "outputs": [
    {
     "name": "stdout",
     "output_type": "stream",
     "text": [
      "+---------+-----------+-----------------+---+----+----+--------+----------------+\n",
      "|GRE Score|TOEFL Score|University Rating|SOP|LOR |CGPA|Research|Chance of Admit |\n",
      "+---------+-----------+-----------------+---+----+----+--------+----------------+\n",
      "|      337|        118|                4|4.5| 4.5|9.65|       1|            0.92|\n",
      "|      324|        107|                4|  4| 4.5|8.87|       1|            0.76|\n",
      "|      316|        104|                3|  3| 3.5|   8|       1|            0.72|\n",
      "|      322|        110|                3|3.5| 2.5|8.67|       1|             0.8|\n",
      "|      314|        103|                2|  2|   3|8.21|       0|            0.65|\n",
      "|      330|        115|                5|4.5|   3|9.34|       1|             0.9|\n",
      "|      321|        109|                3|  3|   4| 8.2|       1|            0.75|\n",
      "|      308|        101|                2|  3|   4| 7.9|       0|            0.68|\n",
      "|      302|        102|                1|  2| 1.5|   8|       0|             0.5|\n",
      "|     NULL|        108|                3|3.5|   3| 8.6|       0|            0.45|\n",
      "|     NULL|        106|                3|3.5|   4| 8.4|       1|            0.52|\n",
      "|      327|        111|                4|  4| 4.5|   9|       1|            0.84|\n",
      "|      328|       NULL|                4|  4| 4.5| 9.1|       1|            0.78|\n",
      "|      307|        109|                3|  4|   3|   8|       1|            0.62|\n",
      "|      311|        104|                3|3.5|   2| 8.2|       1|            0.61|\n",
      "|      314|        105|                3|3.5| 2.5| 8.3|       0|            0.54|\n",
      "|      317|        107|                3|  4|   3| 8.7|       0|            0.66|\n",
      "|      319|        106|                3|  4|   3|   8|       1|            0.65|\n",
      "|      318|        110|                3|  4|   3| 8.8|       0|            0.63|\n",
      "|      303|        102|                3|3.5|   3| 8.5|       0|            0.62|\n",
      "+---------+-----------+-----------------+---+----+----+--------+----------------+\n",
      "only showing top 20 rows\n",
      "\n"
     ]
    }
   ],
   "source": [
    "dataframe.select(*(col(c) for c in dataframe.columns)).show()\n",
    "# unpacking -> dataframe.select(col(\"GRE Score\"), col(\"TOEFL Score\"), col....).show()"
   ]
  },
  {
   "cell_type": "code",
   "execution_count": 12,
   "metadata": {},
   "outputs": [
    {
     "name": "stdout",
     "output_type": "stream",
     "text": [
      "+---------+-----------+-----------------+---+----+----+--------+----------------+\n",
      "|GRE Score|TOEFL Score|University Rating|SOP|LOR |CGPA|Research|Chance of Admit |\n",
      "+---------+-----------+-----------------+---+----+----+--------+----------------+\n",
      "|      337|        118|                4|4.5| 4.5|9.65|       1|            0.92|\n",
      "|      324|        107|                4|  4| 4.5|8.87|       1|            0.76|\n",
      "|      316|        104|                3|  3| 3.5|   8|       1|            0.72|\n",
      "|      322|        110|                3|3.5| 2.5|8.67|       1|             0.8|\n",
      "|      314|        103|                2|  2|   3|8.21|       0|            0.65|\n",
      "|      330|        115|                5|4.5|   3|9.34|       1|             0.9|\n",
      "|      321|        109|                3|  3|   4| 8.2|       1|            0.75|\n",
      "|      308|        101|                2|  3|   4| 7.9|       0|            0.68|\n",
      "|      302|        102|                1|  2| 1.5|   8|       0|             0.5|\n",
      "|     NULL|        108|                3|3.5|   3| 8.6|       0|            0.45|\n",
      "|     NULL|        106|                3|3.5|   4| 8.4|       1|            0.52|\n",
      "|      327|        111|                4|  4| 4.5|   9|       1|            0.84|\n",
      "|      328|       NULL|                4|  4| 4.5| 9.1|       1|            0.78|\n",
      "|      307|        109|                3|  4|   3|   8|       1|            0.62|\n",
      "|      311|        104|                3|3.5|   2| 8.2|       1|            0.61|\n",
      "|      314|        105|                3|3.5| 2.5| 8.3|       0|            0.54|\n",
      "|      317|        107|                3|  4|   3| 8.7|       0|            0.66|\n",
      "|      319|        106|                3|  4|   3|   8|       1|            0.65|\n",
      "|      318|        110|                3|  4|   3| 8.8|       0|            0.63|\n",
      "|      303|        102|                3|3.5|   3| 8.5|       0|            0.62|\n",
      "+---------+-----------+-----------------+---+----+----+--------+----------------+\n",
      "only showing top 20 rows\n",
      "\n"
     ]
    }
   ],
   "source": [
    "dataframe.select([col(c) for c in dataframe.columns]).show()"
   ]
  },
  {
   "cell_type": "code",
   "execution_count": 13,
   "metadata": {},
   "outputs": [
    {
     "data": {
      "text/plain": [
       "[Column<'CAST(GRE Score AS FLOAT) AS `GRE Score`'>,\n",
       " Column<'CAST(TOEFL Score AS FLOAT) AS `TOEFL Score`'>,\n",
       " Column<'CAST(University Rating AS FLOAT) AS `University Rating`'>,\n",
       " Column<'CAST(SOP AS FLOAT) AS SOP'>,\n",
       " Column<'CAST(LOR  AS FLOAT) AS `LOR `'>,\n",
       " Column<'CAST(CGPA AS FLOAT) AS CGPA'>,\n",
       " Column<'CAST(Research AS FLOAT) AS Research'>,\n",
       " Column<'CAST(Chance of Admit  AS FLOAT) AS `Chance of Admit `'>]"
      ]
     },
     "execution_count": 13,
     "metadata": {},
     "output_type": "execute_result"
    }
   ],
   "source": [
    "[col(c).cast(\"float\").alias(c) for c in dataframe.columns]"
   ]
  },
  {
   "cell_type": "code",
   "execution_count": 14,
   "metadata": {},
   "outputs": [
    {
     "name": "stdout",
     "output_type": "stream",
     "text": [
      "+---------+-----------+-----------------+---+----+----+--------+----------------+\n",
      "|GRE Score|TOEFL Score|University Rating|SOP|LOR |CGPA|Research|Chance of Admit |\n",
      "+---------+-----------+-----------------+---+----+----+--------+----------------+\n",
      "|    337.0|      118.0|              4.0|4.5| 4.5|9.65|     1.0|            0.92|\n",
      "|    324.0|      107.0|              4.0|4.0| 4.5|8.87|     1.0|            0.76|\n",
      "|    316.0|      104.0|              3.0|3.0| 3.5| 8.0|     1.0|            0.72|\n",
      "|    322.0|      110.0|              3.0|3.5| 2.5|8.67|     1.0|             0.8|\n",
      "|    314.0|      103.0|              2.0|2.0| 3.0|8.21|     0.0|            0.65|\n",
      "|    330.0|      115.0|              5.0|4.5| 3.0|9.34|     1.0|             0.9|\n",
      "|    321.0|      109.0|              3.0|3.0| 4.0| 8.2|     1.0|            0.75|\n",
      "|    308.0|      101.0|              2.0|3.0| 4.0| 7.9|     0.0|            0.68|\n",
      "|    302.0|      102.0|              1.0|2.0| 1.5| 8.0|     0.0|             0.5|\n",
      "|     NULL|      108.0|              3.0|3.5| 3.0| 8.6|     0.0|            0.45|\n",
      "|     NULL|      106.0|              3.0|3.5| 4.0| 8.4|     1.0|            0.52|\n",
      "|    327.0|      111.0|              4.0|4.0| 4.5| 9.0|     1.0|            0.84|\n",
      "|    328.0|       NULL|              4.0|4.0| 4.5| 9.1|     1.0|            0.78|\n",
      "|    307.0|      109.0|              3.0|4.0| 3.0| 8.0|     1.0|            0.62|\n",
      "|    311.0|      104.0|              3.0|3.5| 2.0| 8.2|     1.0|            0.61|\n",
      "|    314.0|      105.0|              3.0|3.5| 2.5| 8.3|     0.0|            0.54|\n",
      "|    317.0|      107.0|              3.0|4.0| 3.0| 8.7|     0.0|            0.66|\n",
      "|    319.0|      106.0|              3.0|4.0| 3.0| 8.0|     1.0|            0.65|\n",
      "|    318.0|      110.0|              3.0|4.0| 3.0| 8.8|     0.0|            0.63|\n",
      "|    303.0|      102.0|              3.0|3.5| 3.0| 8.5|     0.0|            0.62|\n",
      "+---------+-----------+-----------------+---+----+----+--------+----------------+\n",
      "only showing top 20 rows\n",
      "\n"
     ]
    }
   ],
   "source": [
    "dataframe.select([col(c).cast(\"float\").alias(c) for c in dataframe.columns]).show()"
   ]
  },
  {
   "cell_type": "code",
   "execution_count": 15,
   "metadata": {},
   "outputs": [
    {
     "name": "stdout",
     "output_type": "stream",
     "text": [
      "root\n",
      " |-- GRE Score: float (nullable = true)\n",
      " |-- TOEFL Score: float (nullable = true)\n",
      " |-- University Rating: float (nullable = true)\n",
      " |-- SOP: float (nullable = true)\n",
      " |-- LOR : float (nullable = true)\n",
      " |-- CGPA: float (nullable = true)\n",
      " |-- Research: float (nullable = true)\n",
      " |-- Chance of Admit : float (nullable = true)\n",
      "\n"
     ]
    }
   ],
   "source": [
    "new_dataframe = dataframe.select(*(col(c).cast(\"float\").alias(c) for c in dataframe.columns))\n",
    "new_dataframe.printSchema()"
   ]
  },
  {
   "cell_type": "code",
   "execution_count": 16,
   "metadata": {
    "id": "veHqQOey93Em"
   },
   "outputs": [],
   "source": [
    "new_dataframe = dataframe.select([col(c).cast(\"float\").alias(c) for c in dataframe.columns])"
   ]
  },
  {
   "cell_type": "code",
   "execution_count": 17,
   "metadata": {
    "id": "bLlm0G_e93Em",
    "outputId": "746299db-26e9-4116-a28d-543d1660e5d4"
   },
   "outputs": [
    {
     "name": "stdout",
     "output_type": "stream",
     "text": [
      "root\n",
      " |-- GRE Score: float (nullable = true)\n",
      " |-- TOEFL Score: float (nullable = true)\n",
      " |-- University Rating: float (nullable = true)\n",
      " |-- SOP: float (nullable = true)\n",
      " |-- LOR : float (nullable = true)\n",
      " |-- CGPA: float (nullable = true)\n",
      " |-- Research: float (nullable = true)\n",
      " |-- Chance of Admit : float (nullable = true)\n",
      "\n"
     ]
    }
   ],
   "source": [
    "new_dataframe.printSchema()"
   ]
  },
  {
   "cell_type": "code",
   "execution_count": 18,
   "metadata": {
    "id": "ucxGx4Ok93Em"
   },
   "outputs": [],
   "source": [
    "from pyspark.sql.functions import col, count, isnan, when"
   ]
  },
  {
   "cell_type": "code",
   "execution_count": 19,
   "metadata": {
    "id": "2AVL72Kl93Em",
    "outputId": "27edaabb-d2ba-442c-8789-7126242b2360"
   },
   "outputs": [
    {
     "name": "stdout",
     "output_type": "stream",
     "text": [
      "GRE Score\n",
      "TOEFL Score\n",
      "University Rating\n",
      "SOP\n",
      "LOR \n",
      "CGPA\n",
      "Research\n",
      "Chance of Admit \n"
     ]
    }
   ],
   "source": [
    "for c in new_dataframe.columns:\n",
    "    print(c)"
   ]
  },
  {
   "cell_type": "code",
   "execution_count": 20,
   "metadata": {},
   "outputs": [],
   "source": [
    "# help(when)"
   ]
  },
  {
   "cell_type": "markdown",
   "metadata": {},
   "source": [
    "    when   \n",
    "    Parameters\n",
    "    ----------\n",
    "    condition : :class:`~pyspark.sql.Column`\n",
    "        a boolean :class:`~pyspark.sql.Column` expression.\n",
    "    value :\n",
    "        a literal value, or a :class:`~pyspark.sql.Column` expression."
   ]
  },
  {
   "cell_type": "code",
   "execution_count": 21,
   "metadata": {},
   "outputs": [
    {
     "data": {
      "text/plain": [
       "[Column<'count(CASE WHEN (GRE Score = NULL) THEN GRE Score END) AS `GRE Score_Null`'>,\n",
       " Column<'count(CASE WHEN (TOEFL Score = NULL) THEN TOEFL Score END) AS `TOEFL Score_Null`'>,\n",
       " Column<'count(CASE WHEN (University Rating = NULL) THEN University Rating END) AS `University Rating_Null`'>,\n",
       " Column<'count(CASE WHEN (SOP = NULL) THEN SOP END) AS SOP_Null'>,\n",
       " Column<'count(CASE WHEN (LOR  = NULL) THEN LOR  END) AS `LOR _Null`'>,\n",
       " Column<'count(CASE WHEN (CGPA = NULL) THEN CGPA END) AS CGPA_Null'>,\n",
       " Column<'count(CASE WHEN (Research = NULL) THEN Research END) AS Research_Null'>,\n",
       " Column<'count(CASE WHEN (Chance of Admit  = NULL) THEN Chance of Admit  END) AS `Chance of Admit _Null`'>]"
      ]
     },
     "execution_count": 21,
     "metadata": {},
     "output_type": "execute_result"
    }
   ],
   "source": [
    "[count(when(col(c)==None,c)).alias(f\"{c}_Null\") for c in new_dataframe.columns]"
   ]
  },
  {
   "cell_type": "code",
   "execution_count": 22,
   "metadata": {},
   "outputs": [
    {
     "data": {
      "text/plain": [
       "[Column<'count(CASE WHEN (GRE Score IS NULL) THEN GRE Score END) AS `GRE Score_Null`'>,\n",
       " Column<'count(CASE WHEN (TOEFL Score IS NULL) THEN TOEFL Score END) AS `TOEFL Score_Null`'>,\n",
       " Column<'count(CASE WHEN (University Rating IS NULL) THEN University Rating END) AS `University Rating_Null`'>,\n",
       " Column<'count(CASE WHEN (SOP IS NULL) THEN SOP END) AS SOP_Null'>,\n",
       " Column<'count(CASE WHEN (LOR  IS NULL) THEN LOR  END) AS `LOR _Null`'>,\n",
       " Column<'count(CASE WHEN (CGPA IS NULL) THEN CGPA END) AS CGPA_Null'>,\n",
       " Column<'count(CASE WHEN (Research IS NULL) THEN Research END) AS Research_Null'>,\n",
       " Column<'count(CASE WHEN (Chance of Admit  IS NULL) THEN Chance of Admit  END) AS `Chance of Admit _Null`'>]"
      ]
     },
     "execution_count": 22,
     "metadata": {},
     "output_type": "execute_result"
    }
   ],
   "source": [
    "[count(when(col(c).isNull(),c)).alias(f\"{c}_Null\") for c in new_dataframe.columns]"
   ]
  },
  {
   "cell_type": "code",
   "execution_count": 23,
   "metadata": {},
   "outputs": [
    {
     "name": "stdout",
     "output_type": "stream",
     "text": [
      "+--------------+----------------+----------------------+--------+---------+---------+-------------+---------------------+\n",
      "|GRE Score_Null|TOEFL Score_Null|University Rating_Null|SOP_Null|LOR _Null|CGPA_Null|Research_Null|Chance of Admit _Null|\n",
      "+--------------+----------------+----------------------+--------+---------+---------+-------------+---------------------+\n",
      "|             0|               0|                     0|       0|        0|        0|            0|                    0|\n",
      "+--------------+----------------+----------------------+--------+---------+---------+-------------+---------------------+\n",
      "\n"
     ]
    }
   ],
   "source": [
    "new_dataframe.select([count(when(col(c)==None, c)).alias(f\"{c}_Null\") for c in new_dataframe.columns]).show() # it cant detect null values"
   ]
  },
  {
   "cell_type": "code",
   "execution_count": 24,
   "metadata": {
    "id": "r-aHqoyO93Em",
    "outputId": "c3cfe972-9947-406a-cf4c-a68d1536d16e"
   },
   "outputs": [
    {
     "name": "stdout",
     "output_type": "stream",
     "text": [
      "+--------------+----------------+----------------------+--------+---------+---------+-------------+---------------------+\n",
      "|GRE Score_Null|TOEFL Score_Null|University Rating_Null|SOP_Null|LOR _Null|CGPA_Null|Research_Null|Chance of Admit _Null|\n",
      "+--------------+----------------+----------------------+--------+---------+---------+-------------+---------------------+\n",
      "|             2|               2|                     0|       0|        0|        0|            0|                    0|\n",
      "+--------------+----------------+----------------------+--------+---------+---------+-------------+---------------------+\n",
      "\n"
     ]
    }
   ],
   "source": [
    "#checking for null ir nan type values in our columns\n",
    "new_dataframe.select([count(when(col(c).isNull(), c)).alias(f\"{c}_Null\") for c in new_dataframe.columns]).show()"
   ]
  },
  {
   "cell_type": "code",
   "execution_count": 25,
   "metadata": {
    "id": "Mz9Slo9293En"
   },
   "outputs": [],
   "source": [
    "from pyspark.ml.feature import Imputer"
   ]
  },
  {
   "cell_type": "code",
   "execution_count": 26,
   "metadata": {},
   "outputs": [],
   "source": [
    "# help(Imputer)"
   ]
  },
  {
   "cell_type": "code",
   "execution_count": 27,
   "metadata": {
    "id": "dBLagCv793En"
   },
   "outputs": [],
   "source": [
    "imputer = Imputer(inputCols=[\"GRE Score\", \"TOEFL Score\"],\n",
    "                  outputCols=[\"GRE Score\", \"TOEFL Score\"], strategy=\"mean\")\n",
    "# The default strategy is \"mean\"\n",
    "model = imputer.fit(new_dataframe)\n",
    "imputed_data = model.transform(new_dataframe)"
   ]
  },
  {
   "cell_type": "code",
   "execution_count": 28,
   "metadata": {
    "id": "-zJl0r3593En",
    "outputId": "8d11b020-30de-420a-b3e2-3e075f7f1342"
   },
   "outputs": [
    {
     "name": "stdout",
     "output_type": "stream",
     "text": [
      "+---------+-----------+-----------------+---+----+----+--------+----------------+\n",
      "|GRE Score|TOEFL Score|University Rating|SOP|LOR |CGPA|Research|Chance of Admit |\n",
      "+---------+-----------+-----------------+---+----+----+--------+----------------+\n",
      "|    337.0|      118.0|              4.0|4.5| 4.5|9.65|     1.0|            0.92|\n",
      "|    324.0|      107.0|              4.0|4.0| 4.5|8.87|     1.0|            0.76|\n",
      "|    316.0|      104.0|              3.0|3.0| 3.5| 8.0|     1.0|            0.72|\n",
      "|    322.0|      110.0|              3.0|3.5| 2.5|8.67|     1.0|             0.8|\n",
      "|    314.0|      103.0|              2.0|2.0| 3.0|8.21|     0.0|            0.65|\n",
      "|    330.0|      115.0|              5.0|4.5| 3.0|9.34|     1.0|             0.9|\n",
      "|    321.0|      109.0|              3.0|3.0| 4.0| 8.2|     1.0|            0.75|\n",
      "|    308.0|      101.0|              2.0|3.0| 4.0| 7.9|     0.0|            0.68|\n",
      "|    302.0|      102.0|              1.0|2.0| 1.5| 8.0|     0.0|             0.5|\n",
      "|316.77136|      108.0|              3.0|3.5| 3.0| 8.6|     0.0|            0.45|\n",
      "|316.77136|      106.0|              3.0|3.5| 4.0| 8.4|     1.0|            0.52|\n",
      "|    327.0|      111.0|              4.0|4.0| 4.5| 9.0|     1.0|            0.84|\n",
      "|    328.0| 107.407036|              4.0|4.0| 4.5| 9.1|     1.0|            0.78|\n",
      "|    307.0|      109.0|              3.0|4.0| 3.0| 8.0|     1.0|            0.62|\n",
      "|    311.0|      104.0|              3.0|3.5| 2.0| 8.2|     1.0|            0.61|\n",
      "|    314.0|      105.0|              3.0|3.5| 2.5| 8.3|     0.0|            0.54|\n",
      "|    317.0|      107.0|              3.0|4.0| 3.0| 8.7|     0.0|            0.66|\n",
      "|    319.0|      106.0|              3.0|4.0| 3.0| 8.0|     1.0|            0.65|\n",
      "|    318.0|      110.0|              3.0|4.0| 3.0| 8.8|     0.0|            0.63|\n",
      "|    303.0|      102.0|              3.0|3.5| 3.0| 8.5|     0.0|            0.62|\n",
      "+---------+-----------+-----------------+---+----+----+--------+----------------+\n",
      "only showing top 20 rows\n",
      "\n"
     ]
    }
   ],
   "source": [
    "imputed_data.show()"
   ]
  },
  {
   "cell_type": "code",
   "execution_count": 29,
   "metadata": {
    "id": "7ba6DqFj93En",
    "outputId": "f98b36f9-7ea6-486a-9bbe-fb421c2e139d"
   },
   "outputs": [
    {
     "name": "stdout",
     "output_type": "stream",
     "text": [
      "+---------+-----------+-----------------+---+----+----+--------+----------------+\n",
      "|GRE Score|TOEFL Score|University Rating|SOP|LOR |CGPA|Research|Chance of Admit |\n",
      "+---------+-----------+-----------------+---+----+----+--------+----------------+\n",
      "|        0|          0|                0|  0|   0|   0|       0|               0|\n",
      "+---------+-----------+-----------------+---+----+----+--------+----------------+\n",
      "\n"
     ]
    }
   ],
   "source": [
    "# checking for null ir nan type values in our columns\n",
    "imputed_data.select([count(when(col(c).isNull(), c)).alias(c) for c in imputed_data.columns]).show()"
   ]
  },
  {
   "cell_type": "code",
   "execution_count": 46,
   "metadata": {},
   "outputs": [
    {
     "data": {
      "text/plain": [
       "['GRE Score',\n",
       " 'TOEFL Score',\n",
       " 'University Rating',\n",
       " 'SOP',\n",
       " 'LOR ',\n",
       " 'CGPA',\n",
       " 'Research',\n",
       " 'Chance of Admit']"
      ]
     },
     "execution_count": 46,
     "metadata": {},
     "output_type": "execute_result"
    }
   ],
   "source": [
    "imputed_data.columns"
   ]
  },
  {
   "cell_type": "code",
   "execution_count": 51,
   "metadata": {},
   "outputs": [
    {
     "data": {
      "text/plain": [
       "['GRE Score',\n",
       " 'TOEFL Score',\n",
       " 'University Rating',\n",
       " 'SOP',\n",
       " 'LOR ',\n",
       " 'CGPA',\n",
       " 'Research',\n",
       " 'Chance of Admit']"
      ]
     },
     "execution_count": 51,
     "metadata": {},
     "output_type": "execute_result"
    }
   ],
   "source": [
    "imputed_data = imputed_data.withColumnRenamed(\"Chance of Admit \", \"Chance of Admit\")\n",
    "imputed_data.columns"
   ]
  },
  {
   "cell_type": "code",
   "execution_count": 52,
   "metadata": {
    "id": "mGTxz99P93En"
   },
   "outputs": [],
   "source": [
    "features = imputed_data.drop('Chance of Admit')"
   ]
  },
  {
   "cell_type": "code",
   "execution_count": 53,
   "metadata": {
    "id": "gl0Is4uX93En",
    "outputId": "9e0b0b6c-104e-4062-c505-7acb1f54be62"
   },
   "outputs": [
    {
     "data": {
      "text/plain": [
       "['GRE Score',\n",
       " 'TOEFL Score',\n",
       " 'University Rating',\n",
       " 'SOP',\n",
       " 'LOR ',\n",
       " 'CGPA',\n",
       " 'Research']"
      ]
     },
     "execution_count": 53,
     "metadata": {},
     "output_type": "execute_result"
    }
   ],
   "source": [
    "features.columns"
   ]
  },
  {
   "cell_type": "code",
   "execution_count": 54,
   "metadata": {},
   "outputs": [
    {
     "name": "stdout",
     "output_type": "stream",
     "text": [
      "+---------+-----------+-----------------+---+----+----+--------+\n",
      "|GRE Score|TOEFL Score|University Rating|SOP|LOR |CGPA|Research|\n",
      "+---------+-----------+-----------------+---+----+----+--------+\n",
      "|    337.0|      118.0|              4.0|4.5| 4.5|9.65|     1.0|\n",
      "|    324.0|      107.0|              4.0|4.0| 4.5|8.87|     1.0|\n",
      "|    316.0|      104.0|              3.0|3.0| 3.5| 8.0|     1.0|\n",
      "|    322.0|      110.0|              3.0|3.5| 2.5|8.67|     1.0|\n",
      "|    314.0|      103.0|              2.0|2.0| 3.0|8.21|     0.0|\n",
      "|    330.0|      115.0|              5.0|4.5| 3.0|9.34|     1.0|\n",
      "|    321.0|      109.0|              3.0|3.0| 4.0| 8.2|     1.0|\n",
      "|    308.0|      101.0|              2.0|3.0| 4.0| 7.9|     0.0|\n",
      "|    302.0|      102.0|              1.0|2.0| 1.5| 8.0|     0.0|\n",
      "|316.77136|      108.0|              3.0|3.5| 3.0| 8.6|     0.0|\n",
      "|316.77136|      106.0|              3.0|3.5| 4.0| 8.4|     1.0|\n",
      "|    327.0|      111.0|              4.0|4.0| 4.5| 9.0|     1.0|\n",
      "|    328.0| 107.407036|              4.0|4.0| 4.5| 9.1|     1.0|\n",
      "|    307.0|      109.0|              3.0|4.0| 3.0| 8.0|     1.0|\n",
      "|    311.0|      104.0|              3.0|3.5| 2.0| 8.2|     1.0|\n",
      "|    314.0|      105.0|              3.0|3.5| 2.5| 8.3|     0.0|\n",
      "|    317.0|      107.0|              3.0|4.0| 3.0| 8.7|     0.0|\n",
      "|    319.0|      106.0|              3.0|4.0| 3.0| 8.0|     1.0|\n",
      "|    318.0|      110.0|              3.0|4.0| 3.0| 8.8|     0.0|\n",
      "|    303.0|      102.0|              3.0|3.5| 3.0| 8.5|     0.0|\n",
      "+---------+-----------+-----------------+---+----+----+--------+\n",
      "only showing top 20 rows\n",
      "\n"
     ]
    }
   ],
   "source": [
    "features.show()"
   ]
  },
  {
   "cell_type": "markdown",
   "metadata": {},
   "source": [
    "## Split"
   ]
  },
  {
   "cell_type": "code",
   "execution_count": 57,
   "metadata": {
    "id": "wMRGLnRZ93En"
   },
   "outputs": [],
   "source": [
    "#let's assemble our features together using vectorAssembler\n",
    "assembler = VectorAssembler(inputCols=features.columns, outputCol=\"features\")"
   ]
  },
  {
   "cell_type": "code",
   "execution_count": 58,
   "metadata": {
    "id": "SWplIo-O93En"
   },
   "outputs": [],
   "source": [
    "output = assembler.transform(imputed_data)"
   ]
  },
  {
   "cell_type": "code",
   "execution_count": 59,
   "metadata": {
    "id": "aJmi4kdY93En"
   },
   "outputs": [
    {
     "name": "stdout",
     "output_type": "stream",
     "text": [
      "+---------+-----------+-----------------+---+----+----+--------+---------------+--------------------+\n",
      "|GRE Score|TOEFL Score|University Rating|SOP|LOR |CGPA|Research|Chance of Admit|            features|\n",
      "+---------+-----------+-----------------+---+----+----+--------+---------------+--------------------+\n",
      "|    337.0|      118.0|              4.0|4.5| 4.5|9.65|     1.0|           0.92|[337.0,118.0,4.0,...|\n",
      "|    324.0|      107.0|              4.0|4.0| 4.5|8.87|     1.0|           0.76|[324.0,107.0,4.0,...|\n",
      "|    316.0|      104.0|              3.0|3.0| 3.5| 8.0|     1.0|           0.72|[316.0,104.0,3.0,...|\n",
      "|    322.0|      110.0|              3.0|3.5| 2.5|8.67|     1.0|            0.8|[322.0,110.0,3.0,...|\n",
      "|    314.0|      103.0|              2.0|2.0| 3.0|8.21|     0.0|           0.65|[314.0,103.0,2.0,...|\n",
      "|    330.0|      115.0|              5.0|4.5| 3.0|9.34|     1.0|            0.9|[330.0,115.0,5.0,...|\n",
      "|    321.0|      109.0|              3.0|3.0| 4.0| 8.2|     1.0|           0.75|[321.0,109.0,3.0,...|\n",
      "|    308.0|      101.0|              2.0|3.0| 4.0| 7.9|     0.0|           0.68|[308.0,101.0,2.0,...|\n",
      "|    302.0|      102.0|              1.0|2.0| 1.5| 8.0|     0.0|            0.5|[302.0,102.0,1.0,...|\n",
      "|316.77136|      108.0|              3.0|3.5| 3.0| 8.6|     0.0|           0.45|[316.771362304687...|\n",
      "|316.77136|      106.0|              3.0|3.5| 4.0| 8.4|     1.0|           0.52|[316.771362304687...|\n",
      "|    327.0|      111.0|              4.0|4.0| 4.5| 9.0|     1.0|           0.84|[327.0,111.0,4.0,...|\n",
      "|    328.0| 107.407036|              4.0|4.0| 4.5| 9.1|     1.0|           0.78|[328.0,107.407035...|\n",
      "|    307.0|      109.0|              3.0|4.0| 3.0| 8.0|     1.0|           0.62|[307.0,109.0,3.0,...|\n",
      "|    311.0|      104.0|              3.0|3.5| 2.0| 8.2|     1.0|           0.61|[311.0,104.0,3.0,...|\n",
      "|    314.0|      105.0|              3.0|3.5| 2.5| 8.3|     0.0|           0.54|[314.0,105.0,3.0,...|\n",
      "|    317.0|      107.0|              3.0|4.0| 3.0| 8.7|     0.0|           0.66|[317.0,107.0,3.0,...|\n",
      "|    319.0|      106.0|              3.0|4.0| 3.0| 8.0|     1.0|           0.65|[319.0,106.0,3.0,...|\n",
      "|    318.0|      110.0|              3.0|4.0| 3.0| 8.8|     0.0|           0.63|[318.0,110.0,3.0,...|\n",
      "|    303.0|      102.0|              3.0|3.5| 3.0| 8.5|     0.0|           0.62|[303.0,102.0,3.0,...|\n",
      "+---------+-----------+-----------------+---+----+----+--------+---------------+--------------------+\n",
      "only showing top 20 rows\n",
      "\n"
     ]
    }
   ],
   "source": [
    "output.show()"
   ]
  },
  {
   "cell_type": "code",
   "execution_count": 77,
   "metadata": {},
   "outputs": [
    {
     "data": {
      "text/plain": [
       "array([[DenseVector([337.0, 118.0, 4.0, 4.5, 4.5, 9.65, 1.0])],\n",
       "       [DenseVector([324.0, 107.0, 4.0, 4.0, 4.5, 8.87, 1.0])],\n",
       "       [DenseVector([316.0, 104.0, 3.0, 3.0, 3.5, 8.0, 1.0])],\n",
       "       [DenseVector([322.0, 110.0, 3.0, 3.5, 2.5, 8.67, 1.0])],\n",
       "       [DenseVector([314.0, 103.0, 2.0, 2.0, 3.0, 8.21, 0.0])],\n",
       "       [DenseVector([330.0, 115.0, 5.0, 4.5, 3.0, 9.34, 1.0])],\n",
       "       [DenseVector([321.0, 109.0, 3.0, 3.0, 4.0, 8.2, 1.0])],\n",
       "       [DenseVector([308.0, 101.0, 2.0, 3.0, 4.0, 7.9, 0.0])],\n",
       "       [DenseVector([302.0, 102.0, 1.0, 2.0, 1.5, 8.0, 0.0])],\n",
       "       [DenseVector([316.7714, 108.0, 3.0, 3.5, 3.0, 8.6, 0.0])],\n",
       "       [DenseVector([316.7714, 106.0, 3.0, 3.5, 4.0, 8.4, 1.0])],\n",
       "       [DenseVector([327.0, 111.0, 4.0, 4.0, 4.5, 9.0, 1.0])],\n",
       "       [DenseVector([328.0, 107.407, 4.0, 4.0, 4.5, 9.1, 1.0])],\n",
       "       [DenseVector([307.0, 109.0, 3.0, 4.0, 3.0, 8.0, 1.0])],\n",
       "       [DenseVector([311.0, 104.0, 3.0, 3.5, 2.0, 8.2, 1.0])],\n",
       "       [DenseVector([314.0, 105.0, 3.0, 3.5, 2.5, 8.3, 0.0])],\n",
       "       [DenseVector([317.0, 107.0, 3.0, 4.0, 3.0, 8.7, 0.0])],\n",
       "       [DenseVector([319.0, 106.0, 3.0, 4.0, 3.0, 8.0, 1.0])],\n",
       "       [DenseVector([318.0, 110.0, 3.0, 4.0, 3.0, 8.8, 0.0])],\n",
       "       [DenseVector([303.0, 102.0, 3.0, 3.5, 3.0, 8.5, 0.0])],\n",
       "       [DenseVector([312.0, 107.0, 3.0, 3.0, 2.0, 7.9, 1.0])],\n",
       "       [DenseVector([325.0, 114.0, 4.0, 3.0, 2.0, 8.4, 0.0])],\n",
       "       [DenseVector([328.0, 116.0, 5.0, 5.0, 5.0, 9.5, 1.0])],\n",
       "       [DenseVector([334.0, 119.0, 5.0, 5.0, 4.5, 9.7, 1.0])],\n",
       "       [DenseVector([336.0, 119.0, 5.0, 4.0, 3.5, 9.8, 1.0])],\n",
       "       [DenseVector([340.0, 120.0, 5.0, 4.5, 4.5, 9.6, 1.0])],\n",
       "       [DenseVector([322.0, 109.0, 5.0, 4.5, 3.5, 8.8, 0.0])],\n",
       "       [DenseVector([298.0, 98.0, 2.0, 1.5, 2.5, 7.5, 1.0])],\n",
       "       [DenseVector([295.0, 93.0, 1.0, 2.0, 2.0, 7.2, 0.0])],\n",
       "       [DenseVector([310.0, 99.0, 2.0, 1.5, 2.0, 7.3, 0.0])],\n",
       "       [DenseVector([300.0, 97.0, 2.0, 3.0, 3.0, 8.1, 1.0])],\n",
       "       [DenseVector([327.0, 103.0, 3.0, 4.0, 4.0, 8.3, 1.0])],\n",
       "       [DenseVector([338.0, 118.0, 4.0, 3.0, 4.5, 9.4, 1.0])],\n",
       "       [DenseVector([340.0, 114.0, 5.0, 4.0, 4.0, 9.6, 1.0])],\n",
       "       [DenseVector([331.0, 112.0, 5.0, 4.0, 5.0, 9.8, 1.0])],\n",
       "       [DenseVector([320.0, 110.0, 5.0, 5.0, 5.0, 9.2, 1.0])],\n",
       "       [DenseVector([299.0, 106.0, 2.0, 4.0, 4.0, 8.4, 0.0])],\n",
       "       [DenseVector([300.0, 105.0, 1.0, 1.0, 2.0, 7.8, 0.0])],\n",
       "       [DenseVector([304.0, 105.0, 1.0, 3.0, 1.5, 7.5, 0.0])],\n",
       "       [DenseVector([307.0, 108.0, 2.0, 4.0, 3.5, 7.7, 0.0])],\n",
       "       [DenseVector([308.0, 110.0, 3.0, 3.5, 3.0, 8.0, 1.0])],\n",
       "       [DenseVector([316.0, 105.0, 2.0, 2.5, 2.5, 8.2, 1.0])],\n",
       "       [DenseVector([313.0, 107.0, 2.0, 2.5, 2.0, 8.5, 1.0])],\n",
       "       [DenseVector([332.0, 117.0, 4.0, 4.5, 4.0, 9.1, 0.0])],\n",
       "       [DenseVector([326.0, 113.0, 5.0, 4.5, 4.0, 9.4, 1.0])],\n",
       "       [DenseVector([322.0, 110.0, 5.0, 5.0, 4.0, 9.1, 1.0])],\n",
       "       [DenseVector([329.0, 114.0, 5.0, 4.0, 5.0, 9.3, 1.0])],\n",
       "       [DenseVector([339.0, 119.0, 5.0, 4.5, 4.0, 9.7, 0.0])],\n",
       "       [DenseVector([321.0, 110.0, 3.0, 3.5, 5.0, 8.85, 1.0])],\n",
       "       [DenseVector([327.0, 111.0, 4.0, 3.0, 4.0, 8.4, 1.0])],\n",
       "       [DenseVector([313.0, 98.0, 3.0, 2.5, 4.5, 8.3, 1.0])],\n",
       "       [DenseVector([312.0, 100.0, 2.0, 1.5, 3.5, 7.9, 1.0])],\n",
       "       [DenseVector([334.0, 116.0, 4.0, 4.0, 3.0, 8.0, 1.0])],\n",
       "       [DenseVector([324.0, 112.0, 4.0, 4.0, 2.5, 8.1, 1.0])],\n",
       "       [DenseVector([322.0, 110.0, 3.0, 3.0, 3.5, 8.0, 0.0])],\n",
       "       [DenseVector([320.0, 103.0, 3.0, 3.0, 3.0, 7.7, 0.0])],\n",
       "       [DenseVector([316.0, 102.0, 3.0, 2.0, 3.0, 7.4, 0.0])],\n",
       "       [DenseVector([298.0, 99.0, 2.0, 4.0, 2.0, 7.6, 0.0])],\n",
       "       [DenseVector([300.0, 99.0, 1.0, 3.0, 2.0, 6.8, 1.0])],\n",
       "       [DenseVector([311.0, 104.0, 2.0, 2.0, 2.0, 8.3, 0.0])],\n",
       "       [DenseVector([309.0, 100.0, 2.0, 3.0, 3.0, 8.1, 0.0])],\n",
       "       [DenseVector([307.0, 101.0, 3.0, 4.0, 3.0, 8.2, 0.0])],\n",
       "       [DenseVector([304.0, 105.0, 2.0, 3.0, 3.0, 8.2, 1.0])],\n",
       "       [DenseVector([315.0, 107.0, 2.0, 4.0, 3.0, 8.5, 1.0])],\n",
       "       [DenseVector([325.0, 111.0, 3.0, 3.0, 3.5, 8.7, 0.0])],\n",
       "       [DenseVector([325.0, 112.0, 4.0, 3.5, 3.5, 8.92, 0.0])],\n",
       "       [DenseVector([327.0, 114.0, 3.0, 3.0, 3.0, 9.02, 0.0])],\n",
       "       [DenseVector([316.0, 107.0, 2.0, 3.5, 3.5, 8.64, 1.0])],\n",
       "       [DenseVector([318.0, 109.0, 3.0, 3.5, 4.0, 9.22, 1.0])],\n",
       "       [DenseVector([328.0, 115.0, 4.0, 4.5, 4.0, 9.16, 1.0])],\n",
       "       [DenseVector([332.0, 118.0, 5.0, 5.0, 5.0, 9.64, 1.0])],\n",
       "       [DenseVector([336.0, 112.0, 5.0, 5.0, 5.0, 9.76, 1.0])],\n",
       "       [DenseVector([321.0, 111.0, 5.0, 5.0, 5.0, 9.45, 1.0])],\n",
       "       [DenseVector([314.0, 108.0, 4.0, 4.5, 4.0, 9.04, 1.0])],\n",
       "       [DenseVector([314.0, 106.0, 3.0, 3.0, 5.0, 8.9, 0.0])],\n",
       "       [DenseVector([329.0, 114.0, 2.0, 2.0, 4.0, 8.56, 1.0])],\n",
       "       [DenseVector([327.0, 112.0, 3.0, 3.0, 3.0, 8.72, 1.0])],\n",
       "       [DenseVector([301.0, 99.0, 2.0, 3.0, 2.0, 8.22, 0.0])],\n",
       "       [DenseVector([296.0, 95.0, 2.0, 3.0, 2.0, 7.54, 1.0])],\n",
       "       [DenseVector([294.0, 93.0, 1.0, 1.5, 2.0, 7.36, 0.0])],\n",
       "       [DenseVector([312.0, 105.0, 3.0, 2.0, 3.0, 8.02, 1.0])],\n",
       "       [DenseVector([340.0, 120.0, 4.0, 5.0, 5.0, 9.5, 1.0])],\n",
       "       [DenseVector([320.0, 110.0, 5.0, 5.0, 4.5, 9.22, 1.0])],\n",
       "       [DenseVector([322.0, 115.0, 5.0, 4.0, 4.5, 9.36, 1.0])],\n",
       "       [DenseVector([340.0, 115.0, 5.0, 4.5, 4.5, 9.45, 1.0])],\n",
       "       [DenseVector([319.0, 103.0, 4.0, 4.5, 3.5, 8.66, 0.0])],\n",
       "       [DenseVector([315.0, 106.0, 3.0, 4.5, 3.5, 8.42, 0.0])],\n",
       "       [DenseVector([317.0, 107.0, 2.0, 3.5, 3.0, 8.28, 0.0])],\n",
       "       [DenseVector([314.0, 108.0, 3.0, 4.5, 3.5, 8.14, 0.0])],\n",
       "       [DenseVector([316.0, 109.0, 4.0, 4.5, 3.5, 8.76, 1.0])],\n",
       "       [DenseVector([318.0, 106.0, 2.0, 4.0, 4.0, 7.92, 1.0])],\n",
       "       [DenseVector([299.0, 97.0, 3.0, 5.0, 3.5, 7.66, 0.0])],\n",
       "       [DenseVector([298.0, 98.0, 2.0, 4.0, 3.0, 8.03, 0.0])],\n",
       "       [DenseVector([301.0, 97.0, 2.0, 3.0, 3.0, 7.88, 1.0])],\n",
       "       [DenseVector([303.0, 99.0, 3.0, 2.0, 2.5, 7.66, 0.0])],\n",
       "       [DenseVector([304.0, 100.0, 4.0, 1.5, 2.5, 7.84, 0.0])],\n",
       "       [DenseVector([306.0, 100.0, 2.0, 3.0, 3.0, 8.0, 0.0])],\n",
       "       [DenseVector([331.0, 120.0, 3.0, 4.0, 4.0, 8.96, 1.0])],\n",
       "       [DenseVector([332.0, 119.0, 4.0, 5.0, 4.5, 9.24, 1.0])],\n",
       "       [DenseVector([323.0, 113.0, 3.0, 4.0, 4.0, 8.88, 1.0])],\n",
       "       [DenseVector([322.0, 107.0, 3.0, 3.5, 3.5, 8.46, 1.0])],\n",
       "       [DenseVector([312.0, 105.0, 2.0, 2.5, 3.0, 8.12, 0.0])],\n",
       "       [DenseVector([314.0, 106.0, 2.0, 4.0, 3.5, 8.25, 0.0])],\n",
       "       [DenseVector([317.0, 104.0, 2.0, 4.5, 4.0, 8.47, 0.0])],\n",
       "       [DenseVector([326.0, 112.0, 3.0, 3.5, 3.0, 9.05, 1.0])],\n",
       "       [DenseVector([316.0, 110.0, 3.0, 4.0, 4.5, 8.78, 1.0])],\n",
       "       [DenseVector([329.0, 111.0, 4.0, 4.5, 4.5, 9.18, 1.0])],\n",
       "       [DenseVector([338.0, 117.0, 4.0, 3.5, 4.5, 9.46, 1.0])],\n",
       "       [DenseVector([331.0, 116.0, 5.0, 5.0, 5.0, 9.38, 1.0])],\n",
       "       [DenseVector([304.0, 103.0, 5.0, 5.0, 4.0, 8.64, 0.0])],\n",
       "       [DenseVector([305.0, 108.0, 5.0, 3.0, 3.0, 8.48, 0.0])],\n",
       "       [DenseVector([321.0, 109.0, 4.0, 4.0, 4.0, 8.68, 1.0])],\n",
       "       [DenseVector([301.0, 107.0, 3.0, 3.5, 3.5, 8.34, 1.0])],\n",
       "       [DenseVector([320.0, 110.0, 2.0, 4.0, 3.5, 8.56, 0.0])],\n",
       "       [DenseVector([311.0, 105.0, 3.0, 3.5, 3.0, 8.45, 1.0])],\n",
       "       [DenseVector([310.0, 106.0, 4.0, 4.5, 4.5, 9.04, 1.0])],\n",
       "       [DenseVector([299.0, 102.0, 3.0, 4.0, 3.5, 8.62, 0.0])],\n",
       "       [DenseVector([290.0, 104.0, 4.0, 2.0, 2.5, 7.46, 0.0])],\n",
       "       [DenseVector([296.0, 99.0, 2.0, 3.0, 3.5, 7.28, 0.0])],\n",
       "       [DenseVector([327.0, 104.0, 5.0, 3.0, 3.5, 8.84, 1.0])],\n",
       "       [DenseVector([335.0, 117.0, 5.0, 5.0, 5.0, 9.56, 1.0])],\n",
       "       [DenseVector([334.0, 119.0, 5.0, 4.5, 4.5, 9.48, 1.0])],\n",
       "       [DenseVector([310.0, 106.0, 4.0, 1.5, 2.5, 8.36, 0.0])],\n",
       "       [DenseVector([308.0, 108.0, 3.0, 3.5, 3.5, 8.22, 0.0])],\n",
       "       [DenseVector([301.0, 106.0, 4.0, 2.5, 3.0, 8.47, 0.0])],\n",
       "       [DenseVector([300.0, 100.0, 3.0, 2.0, 3.0, 8.66, 1.0])],\n",
       "       [DenseVector([323.0, 113.0, 3.0, 4.0, 3.0, 9.32, 1.0])],\n",
       "       [DenseVector([319.0, 112.0, 3.0, 2.5, 2.0, 8.71, 1.0])],\n",
       "       [DenseVector([326.0, 112.0, 3.0, 3.5, 3.0, 9.1, 1.0])],\n",
       "       [DenseVector([333.0, 118.0, 5.0, 5.0, 5.0, 9.35, 1.0])],\n",
       "       [DenseVector([339.0, 114.0, 5.0, 4.0, 4.5, 9.76, 1.0])],\n",
       "       [DenseVector([303.0, 105.0, 5.0, 5.0, 4.5, 8.65, 0.0])],\n",
       "       [DenseVector([309.0, 105.0, 5.0, 3.5, 3.5, 8.56, 0.0])],\n",
       "       [DenseVector([323.0, 112.0, 5.0, 4.0, 4.5, 8.78, 0.0])],\n",
       "       [DenseVector([333.0, 113.0, 5.0, 4.0, 4.0, 9.28, 1.0])],\n",
       "       [DenseVector([314.0, 109.0, 4.0, 3.5, 4.0, 8.77, 1.0])],\n",
       "       [DenseVector([312.0, 103.0, 3.0, 5.0, 4.0, 8.45, 0.0])],\n",
       "       [DenseVector([316.0, 100.0, 2.0, 1.5, 3.0, 8.16, 1.0])],\n",
       "       [DenseVector([326.0, 116.0, 2.0, 4.5, 3.0, 9.08, 1.0])],\n",
       "       [DenseVector([318.0, 109.0, 1.0, 3.5, 3.5, 9.12, 0.0])],\n",
       "       [DenseVector([329.0, 110.0, 2.0, 4.0, 3.0, 9.15, 1.0])],\n",
       "       [DenseVector([332.0, 118.0, 2.0, 4.5, 3.5, 9.36, 1.0])],\n",
       "       [DenseVector([331.0, 115.0, 5.0, 4.0, 3.5, 9.44, 1.0])],\n",
       "       [DenseVector([340.0, 120.0, 4.0, 4.5, 4.0, 9.92, 1.0])],\n",
       "       [DenseVector([325.0, 112.0, 2.0, 3.0, 3.5, 8.96, 1.0])],\n",
       "       [DenseVector([320.0, 113.0, 2.0, 2.0, 2.5, 8.64, 1.0])],\n",
       "       [DenseVector([315.0, 105.0, 3.0, 2.0, 2.5, 8.48, 0.0])],\n",
       "       [DenseVector([326.0, 114.0, 3.0, 3.0, 3.0, 9.11, 1.0])],\n",
       "       [DenseVector([339.0, 116.0, 4.0, 4.0, 3.5, 9.8, 1.0])],\n",
       "       [DenseVector([311.0, 106.0, 2.0, 3.5, 3.0, 8.26, 1.0])],\n",
       "       [DenseVector([334.0, 114.0, 4.0, 4.0, 4.0, 9.43, 1.0])],\n",
       "       [DenseVector([332.0, 116.0, 5.0, 5.0, 5.0, 9.28, 1.0])],\n",
       "       [DenseVector([321.0, 112.0, 5.0, 5.0, 5.0, 9.06, 1.0])],\n",
       "       [DenseVector([324.0, 105.0, 3.0, 3.0, 4.0, 8.75, 0.0])],\n",
       "       [DenseVector([326.0, 108.0, 3.0, 3.0, 3.5, 8.89, 0.0])],\n",
       "       [DenseVector([312.0, 109.0, 3.0, 3.0, 3.0, 8.69, 0.0])],\n",
       "       [DenseVector([315.0, 105.0, 3.0, 2.0, 2.5, 8.34, 0.0])],\n",
       "       [DenseVector([309.0, 104.0, 2.0, 2.0, 2.5, 8.26, 0.0])],\n",
       "       [DenseVector([306.0, 106.0, 2.0, 2.0, 2.5, 8.14, 0.0])],\n",
       "       [DenseVector([297.0, 100.0, 1.0, 1.5, 2.0, 7.9, 0.0])],\n",
       "       [DenseVector([315.0, 103.0, 1.0, 1.5, 2.0, 7.86, 0.0])],\n",
       "       [DenseVector([298.0, 99.0, 1.0, 1.5, 3.0, 7.46, 0.0])],\n",
       "       [DenseVector([318.0, 109.0, 3.0, 3.0, 3.0, 8.5, 0.0])],\n",
       "       [DenseVector([317.0, 105.0, 3.0, 3.5, 3.0, 8.56, 0.0])],\n",
       "       [DenseVector([329.0, 111.0, 4.0, 4.5, 4.0, 9.01, 1.0])],\n",
       "       [DenseVector([322.0, 110.0, 5.0, 4.5, 4.0, 8.97, 0.0])],\n",
       "       [DenseVector([302.0, 102.0, 3.0, 3.5, 5.0, 8.33, 0.0])],\n",
       "       [DenseVector([313.0, 102.0, 3.0, 2.0, 3.0, 8.27, 0.0])],\n",
       "       [DenseVector([293.0, 97.0, 2.0, 2.0, 4.0, 7.8, 1.0])],\n",
       "       [DenseVector([311.0, 99.0, 2.0, 2.5, 3.0, 7.98, 0.0])],\n",
       "       [DenseVector([312.0, 101.0, 2.0, 2.5, 3.5, 8.04, 1.0])],\n",
       "       [DenseVector([334.0, 117.0, 5.0, 4.0, 4.5, 9.07, 1.0])],\n",
       "       [DenseVector([322.0, 110.0, 4.0, 4.0, 5.0, 9.13, 1.0])],\n",
       "       [DenseVector([323.0, 113.0, 4.0, 4.0, 4.5, 9.23, 1.0])],\n",
       "       [DenseVector([321.0, 111.0, 4.0, 4.0, 4.0, 8.97, 1.0])],\n",
       "       [DenseVector([320.0, 111.0, 4.0, 4.5, 3.5, 8.87, 1.0])],\n",
       "       [DenseVector([329.0, 119.0, 4.0, 4.5, 4.5, 9.16, 1.0])],\n",
       "       [DenseVector([319.0, 110.0, 3.0, 3.5, 3.5, 9.04, 0.0])],\n",
       "       [DenseVector([309.0, 108.0, 3.0, 2.5, 3.0, 8.12, 0.0])],\n",
       "       [DenseVector([307.0, 102.0, 3.0, 3.0, 3.0, 8.27, 0.0])],\n",
       "       [DenseVector([300.0, 104.0, 3.0, 3.5, 3.0, 8.16, 0.0])],\n",
       "       [DenseVector([305.0, 107.0, 2.0, 2.5, 2.5, 8.42, 0.0])],\n",
       "       [DenseVector([299.0, 100.0, 2.0, 3.0, 3.5, 7.88, 0.0])],\n",
       "       [DenseVector([314.0, 110.0, 3.0, 4.0, 4.0, 8.8, 0.0])],\n",
       "       [DenseVector([316.0, 106.0, 2.0, 2.5, 4.0, 8.32, 0.0])],\n",
       "       [DenseVector([327.0, 113.0, 4.0, 4.5, 4.5, 9.11, 1.0])],\n",
       "       [DenseVector([317.0, 107.0, 3.0, 3.5, 3.0, 8.68, 1.0])],\n",
       "       [DenseVector([335.0, 118.0, 5.0, 4.5, 3.5, 9.44, 1.0])],\n",
       "       [DenseVector([331.0, 115.0, 5.0, 4.5, 3.5, 9.36, 1.0])],\n",
       "       [DenseVector([324.0, 112.0, 5.0, 5.0, 5.0, 9.08, 1.0])],\n",
       "       [DenseVector([324.0, 111.0, 5.0, 4.5, 4.0, 9.16, 1.0])],\n",
       "       [DenseVector([323.0, 110.0, 5.0, 4.0, 5.0, 8.98, 1.0])],\n",
       "       [DenseVector([322.0, 114.0, 5.0, 4.5, 4.0, 8.94, 1.0])],\n",
       "       [DenseVector([336.0, 118.0, 5.0, 4.5, 5.0, 9.53, 1.0])],\n",
       "       [DenseVector([316.0, 109.0, 3.0, 3.5, 3.0, 8.76, 0.0])],\n",
       "       [DenseVector([307.0, 107.0, 2.0, 3.0, 3.5, 8.52, 1.0])],\n",
       "       [DenseVector([306.0, 105.0, 2.0, 3.0, 2.5, 8.26, 0.0])],\n",
       "       [DenseVector([310.0, 106.0, 2.0, 3.5, 2.5, 8.33, 0.0])],\n",
       "       [DenseVector([311.0, 104.0, 3.0, 4.5, 4.5, 8.43, 0.0])],\n",
       "       [DenseVector([313.0, 107.0, 3.0, 4.0, 4.5, 8.69, 0.0])],\n",
       "       [DenseVector([317.0, 103.0, 3.0, 2.5, 3.0, 8.54, 1.0])],\n",
       "       [DenseVector([315.0, 110.0, 2.0, 3.5, 3.0, 8.46, 1.0])],\n",
       "       [DenseVector([340.0, 120.0, 5.0, 4.5, 4.5, 9.91, 1.0])],\n",
       "       [DenseVector([334.0, 120.0, 5.0, 4.0, 5.0, 9.87, 1.0])],\n",
       "       [DenseVector([298.0, 105.0, 3.0, 3.5, 4.0, 8.54, 0.0])],\n",
       "       [DenseVector([295.0, 99.0, 2.0, 2.5, 3.0, 7.65, 0.0])],\n",
       "       [DenseVector([315.0, 99.0, 2.0, 3.5, 3.0, 7.89, 0.0])],\n",
       "       [DenseVector([310.0, 102.0, 3.0, 3.5, 4.0, 8.02, 1.0])],\n",
       "       [DenseVector([305.0, 106.0, 2.0, 3.0, 3.0, 8.16, 0.0])],\n",
       "       [DenseVector([301.0, 104.0, 3.0, 3.5, 4.0, 8.12, 1.0])],\n",
       "       [DenseVector([325.0, 108.0, 4.0, 4.5, 4.0, 9.06, 1.0])],\n",
       "       [DenseVector([328.0, 110.0, 4.0, 5.0, 4.0, 9.14, 1.0])],\n",
       "       [DenseVector([338.0, 120.0, 4.0, 5.0, 5.0, 9.66, 1.0])],\n",
       "       [DenseVector([333.0, 119.0, 5.0, 5.0, 4.5, 9.78, 1.0])],\n",
       "       [DenseVector([331.0, 117.0, 4.0, 4.5, 5.0, 9.42, 1.0])],\n",
       "       [DenseVector([330.0, 116.0, 5.0, 5.0, 4.5, 9.36, 1.0])],\n",
       "       [DenseVector([322.0, 112.0, 4.0, 4.5, 4.5, 9.26, 1.0])],\n",
       "       [DenseVector([321.0, 109.0, 4.0, 4.0, 4.0, 9.13, 1.0])],\n",
       "       [DenseVector([324.0, 110.0, 4.0, 3.0, 3.5, 8.97, 1.0])],\n",
       "       [DenseVector([312.0, 104.0, 3.0, 3.5, 3.5, 8.42, 0.0])],\n",
       "       [DenseVector([313.0, 103.0, 3.0, 4.0, 4.0, 8.75, 0.0])],\n",
       "       [DenseVector([316.0, 110.0, 3.0, 3.5, 4.0, 8.56, 0.0])],\n",
       "       [DenseVector([324.0, 113.0, 4.0, 4.5, 4.0, 8.79, 0.0])],\n",
       "       [DenseVector([308.0, 109.0, 2.0, 3.0, 4.0, 8.45, 0.0])],\n",
       "       [DenseVector([305.0, 105.0, 2.0, 3.0, 2.0, 8.23, 0.0])],\n",
       "       [DenseVector([296.0, 99.0, 2.0, 2.5, 2.5, 8.03, 0.0])],\n",
       "       [DenseVector([306.0, 110.0, 2.0, 3.5, 4.0, 8.45, 0.0])],\n",
       "       [DenseVector([312.0, 110.0, 2.0, 3.5, 3.0, 8.53, 0.0])],\n",
       "       [DenseVector([318.0, 112.0, 3.0, 4.0, 3.5, 8.67, 0.0])],\n",
       "       [DenseVector([324.0, 111.0, 4.0, 3.0, 3.0, 9.01, 1.0])],\n",
       "       [DenseVector([313.0, 104.0, 3.0, 4.0, 4.5, 8.65, 0.0])],\n",
       "       [DenseVector([319.0, 106.0, 3.0, 3.5, 2.5, 8.33, 1.0])],\n",
       "       [DenseVector([312.0, 107.0, 2.0, 2.5, 3.5, 8.27, 0.0])],\n",
       "       [DenseVector([304.0, 100.0, 2.0, 2.5, 3.5, 8.07, 0.0])],\n",
       "       [DenseVector([330.0, 113.0, 5.0, 5.0, 4.0, 9.31, 1.0])],\n",
       "       [DenseVector([326.0, 111.0, 5.0, 4.5, 4.0, 9.23, 1.0])],\n",
       "       [DenseVector([325.0, 112.0, 4.0, 4.0, 4.5, 9.17, 1.0])],\n",
       "       [DenseVector([329.0, 114.0, 5.0, 4.5, 5.0, 9.19, 1.0])],\n",
       "       [DenseVector([310.0, 104.0, 3.0, 2.0, 3.5, 8.37, 0.0])],\n",
       "       [DenseVector([299.0, 100.0, 1.0, 1.5, 2.0, 7.89, 0.0])],\n",
       "       [DenseVector([296.0, 101.0, 1.0, 2.5, 3.0, 7.68, 0.0])],\n",
       "       [DenseVector([317.0, 103.0, 2.0, 2.5, 2.0, 8.15, 0.0])],\n",
       "       [DenseVector([324.0, 115.0, 3.0, 3.5, 3.0, 8.76, 1.0])],\n",
       "       [DenseVector([325.0, 114.0, 3.0, 3.5, 3.0, 9.04, 1.0])],\n",
       "       [DenseVector([314.0, 107.0, 2.0, 2.5, 4.0, 8.56, 0.0])],\n",
       "       [DenseVector([328.0, 110.0, 4.0, 4.0, 2.5, 9.02, 1.0])],\n",
       "       [DenseVector([316.0, 105.0, 3.0, 3.0, 3.5, 8.73, 0.0])],\n",
       "       [DenseVector([311.0, 104.0, 2.0, 2.5, 3.5, 8.48, 0.0])],\n",
       "       [DenseVector([324.0, 110.0, 3.0, 3.5, 4.0, 8.87, 1.0])],\n",
       "       [DenseVector([321.0, 111.0, 3.0, 3.5, 4.0, 8.83, 1.0])],\n",
       "       [DenseVector([320.0, 104.0, 3.0, 3.0, 2.5, 8.57, 1.0])],\n",
       "       [DenseVector([316.0, 99.0, 2.0, 2.5, 3.0, 9.0, 0.0])],\n",
       "       [DenseVector([318.0, 100.0, 2.0, 2.5, 3.5, 8.54, 1.0])],\n",
       "       [DenseVector([335.0, 115.0, 4.0, 4.5, 4.5, 9.68, 1.0])],\n",
       "       [DenseVector([321.0, 114.0, 4.0, 4.0, 5.0, 9.12, 0.0])],\n",
       "       [DenseVector([307.0, 110.0, 4.0, 4.0, 4.5, 8.37, 0.0])],\n",
       "       [DenseVector([309.0, 99.0, 3.0, 4.0, 4.0, 8.56, 0.0])],\n",
       "       [DenseVector([324.0, 100.0, 3.0, 4.0, 5.0, 8.64, 1.0])],\n",
       "       [DenseVector([326.0, 102.0, 4.0, 5.0, 5.0, 8.76, 1.0])],\n",
       "       [DenseVector([331.0, 119.0, 4.0, 5.0, 4.5, 9.34, 1.0])],\n",
       "       [DenseVector([327.0, 108.0, 5.0, 5.0, 3.5, 9.13, 1.0])],\n",
       "       [DenseVector([312.0, 104.0, 3.0, 3.5, 4.0, 8.09, 0.0])],\n",
       "       [DenseVector([308.0, 103.0, 2.0, 2.5, 4.0, 8.36, 1.0])],\n",
       "       [DenseVector([324.0, 111.0, 3.0, 2.5, 1.5, 8.79, 1.0])],\n",
       "       [DenseVector([325.0, 110.0, 2.0, 3.0, 2.5, 8.76, 1.0])],\n",
       "       [DenseVector([313.0, 102.0, 3.0, 2.5, 2.5, 8.68, 0.0])],\n",
       "       [DenseVector([312.0, 105.0, 2.0, 2.0, 2.5, 8.45, 0.0])],\n",
       "       [DenseVector([314.0, 107.0, 3.0, 3.0, 3.5, 8.17, 1.0])],\n",
       "       [DenseVector([327.0, 113.0, 4.0, 4.5, 5.0, 9.14, 0.0])],\n",
       "       [DenseVector([308.0, 108.0, 4.0, 4.5, 5.0, 8.34, 0.0])],\n",
       "       [DenseVector([306.0, 105.0, 2.0, 2.5, 3.0, 8.22, 1.0])],\n",
       "       [DenseVector([299.0, 96.0, 2.0, 1.5, 2.0, 7.86, 0.0])],\n",
       "       [DenseVector([294.0, 95.0, 1.0, 1.5, 1.5, 7.64, 0.0])],\n",
       "       [DenseVector([312.0, 99.0, 1.0, 1.0, 1.5, 8.01, 1.0])],\n",
       "       [DenseVector([315.0, 100.0, 1.0, 2.0, 2.5, 7.95, 0.0])],\n",
       "       [DenseVector([322.0, 110.0, 3.0, 3.5, 3.0, 8.96, 1.0])],\n",
       "       [DenseVector([329.0, 113.0, 5.0, 5.0, 4.5, 9.45, 1.0])],\n",
       "       [DenseVector([320.0, 101.0, 2.0, 2.5, 3.0, 8.62, 0.0])],\n",
       "       [DenseVector([308.0, 103.0, 2.0, 3.0, 3.5, 8.49, 0.0])],\n",
       "       [DenseVector([304.0, 102.0, 2.0, 3.0, 4.0, 8.73, 0.0])],\n",
       "       [DenseVector([311.0, 102.0, 3.0, 4.5, 4.0, 8.64, 1.0])],\n",
       "       [DenseVector([317.0, 110.0, 3.0, 4.0, 4.5, 9.11, 1.0])],\n",
       "       [DenseVector([312.0, 106.0, 3.0, 4.0, 3.5, 8.79, 1.0])],\n",
       "       [DenseVector([321.0, 111.0, 3.0, 2.5, 3.0, 8.9, 1.0])],\n",
       "       [DenseVector([340.0, 112.0, 4.0, 5.0, 4.5, 9.66, 1.0])],\n",
       "       [DenseVector([331.0, 116.0, 5.0, 4.0, 4.0, 9.26, 1.0])],\n",
       "       [DenseVector([336.0, 118.0, 5.0, 4.5, 4.0, 9.19, 1.0])],\n",
       "       [DenseVector([324.0, 114.0, 5.0, 5.0, 4.5, 9.08, 1.0])],\n",
       "       [DenseVector([314.0, 104.0, 4.0, 5.0, 5.0, 9.02, 0.0])],\n",
       "       [DenseVector([313.0, 109.0, 3.0, 4.0, 3.5, 9.0, 0.0])],\n",
       "       [DenseVector([307.0, 105.0, 2.0, 2.5, 3.0, 7.65, 0.0])],\n",
       "       [DenseVector([300.0, 102.0, 2.0, 1.5, 2.0, 7.87, 0.0])],\n",
       "       [DenseVector([302.0, 99.0, 2.0, 1.0, 2.0, 7.97, 0.0])],\n",
       "       [DenseVector([312.0, 98.0, 1.0, 3.5, 3.0, 8.18, 1.0])],\n",
       "       [DenseVector([316.0, 101.0, 2.0, 2.5, 2.0, 8.32, 1.0])],\n",
       "       [DenseVector([317.0, 100.0, 2.0, 3.0, 2.5, 8.57, 0.0])],\n",
       "       [DenseVector([310.0, 107.0, 3.0, 3.5, 3.5, 8.67, 0.0])],\n",
       "       [DenseVector([320.0, 120.0, 3.0, 4.0, 4.5, 9.11, 0.0])],\n",
       "       [DenseVector([330.0, 114.0, 3.0, 4.5, 4.5, 9.24, 1.0])],\n",
       "       [DenseVector([305.0, 112.0, 3.0, 3.0, 3.5, 8.65, 0.0])],\n",
       "       [DenseVector([309.0, 106.0, 2.0, 2.5, 2.5, 8.0, 0.0])],\n",
       "       [DenseVector([319.0, 108.0, 2.0, 2.5, 3.0, 8.76, 0.0])],\n",
       "       [DenseVector([322.0, 105.0, 2.0, 3.0, 3.0, 8.45, 1.0])],\n",
       "       [DenseVector([323.0, 107.0, 3.0, 3.5, 3.5, 8.55, 1.0])],\n",
       "       [DenseVector([313.0, 106.0, 2.0, 2.5, 2.0, 8.43, 0.0])],\n",
       "       [DenseVector([321.0, 109.0, 3.0, 3.5, 3.5, 8.8, 1.0])],\n",
       "       [DenseVector([323.0, 110.0, 3.0, 4.0, 3.5, 9.1, 1.0])],\n",
       "       [DenseVector([325.0, 112.0, 4.0, 4.0, 4.0, 9.0, 1.0])],\n",
       "       [DenseVector([312.0, 108.0, 3.0, 3.5, 3.0, 8.53, 0.0])],\n",
       "       [DenseVector([308.0, 110.0, 4.0, 3.5, 3.0, 8.6, 0.0])],\n",
       "       [DenseVector([320.0, 104.0, 3.0, 3.0, 3.5, 8.74, 1.0])],\n",
       "       [DenseVector([328.0, 108.0, 4.0, 4.5, 4.0, 9.18, 1.0])],\n",
       "       [DenseVector([311.0, 107.0, 4.0, 4.5, 4.5, 9.0, 1.0])],\n",
       "       [DenseVector([301.0, 100.0, 3.0, 3.5, 3.0, 8.04, 0.0])],\n",
       "       [DenseVector([305.0, 105.0, 2.0, 3.0, 4.0, 8.13, 0.0])],\n",
       "       [DenseVector([308.0, 104.0, 2.0, 2.5, 3.0, 8.07, 0.0])],\n",
       "       [DenseVector([298.0, 101.0, 2.0, 1.5, 2.0, 7.86, 0.0])],\n",
       "       [DenseVector([300.0, 99.0, 1.0, 1.0, 2.5, 8.01, 0.0])],\n",
       "       [DenseVector([324.0, 111.0, 3.0, 2.5, 2.0, 8.8, 1.0])],\n",
       "       [DenseVector([327.0, 113.0, 4.0, 3.5, 3.0, 8.69, 1.0])],\n",
       "       [DenseVector([317.0, 106.0, 3.0, 4.0, 3.5, 8.5, 1.0])],\n",
       "       [DenseVector([323.0, 104.0, 3.0, 4.0, 4.0, 8.44, 1.0])],\n",
       "       [DenseVector([314.0, 107.0, 2.0, 2.5, 4.0, 8.27, 0.0])],\n",
       "       [DenseVector([305.0, 102.0, 2.0, 2.0, 2.5, 8.18, 0.0])],\n",
       "       [DenseVector([315.0, 104.0, 3.0, 3.0, 2.5, 8.33, 0.0])],\n",
       "       [DenseVector([326.0, 116.0, 3.0, 3.5, 4.0, 9.14, 1.0])],\n",
       "       [DenseVector([299.0, 100.0, 3.0, 2.0, 2.0, 8.02, 0.0])],\n",
       "       [DenseVector([295.0, 101.0, 2.0, 2.5, 2.0, 7.86, 0.0])],\n",
       "       [DenseVector([324.0, 112.0, 4.0, 4.0, 3.5, 8.77, 1.0])],\n",
       "       [DenseVector([297.0, 96.0, 2.0, 2.5, 1.5, 7.89, 0.0])],\n",
       "       [DenseVector([327.0, 113.0, 3.0, 3.5, 3.0, 8.66, 1.0])],\n",
       "       [DenseVector([311.0, 105.0, 2.0, 3.0, 2.0, 8.12, 1.0])],\n",
       "       [DenseVector([308.0, 106.0, 3.0, 3.5, 2.5, 8.21, 1.0])],\n",
       "       [DenseVector([319.0, 108.0, 3.0, 3.0, 3.5, 8.54, 1.0])],\n",
       "       [DenseVector([312.0, 107.0, 4.0, 4.5, 4.0, 8.65, 1.0])],\n",
       "       [DenseVector([325.0, 111.0, 4.0, 4.0, 4.5, 9.11, 1.0])],\n",
       "       [DenseVector([319.0, 110.0, 3.0, 3.0, 2.5, 8.79, 0.0])],\n",
       "       [DenseVector([332.0, 118.0, 5.0, 5.0, 5.0, 9.47, 1.0])],\n",
       "       [DenseVector([323.0, 108.0, 5.0, 4.0, 4.0, 8.74, 1.0])],\n",
       "       [DenseVector([324.0, 107.0, 5.0, 3.5, 4.0, 8.66, 1.0])],\n",
       "       [DenseVector([312.0, 107.0, 3.0, 3.0, 3.0, 8.46, 1.0])],\n",
       "       [DenseVector([326.0, 110.0, 3.0, 3.5, 3.5, 8.76, 1.0])],\n",
       "       [DenseVector([308.0, 106.0, 3.0, 3.0, 3.0, 8.24, 0.0])],\n",
       "       [DenseVector([305.0, 103.0, 2.0, 2.5, 3.5, 8.13, 0.0])],\n",
       "       [DenseVector([295.0, 96.0, 2.0, 1.5, 2.0, 7.34, 0.0])],\n",
       "       [DenseVector([316.0, 98.0, 1.0, 1.5, 2.0, 7.43, 0.0])],\n",
       "       [DenseVector([304.0, 97.0, 2.0, 1.5, 2.0, 7.64, 0.0])],\n",
       "       [DenseVector([299.0, 94.0, 1.0, 1.0, 1.0, 7.34, 0.0])],\n",
       "       [DenseVector([302.0, 99.0, 1.0, 2.0, 2.0, 7.25, 0.0])],\n",
       "       [DenseVector([313.0, 101.0, 3.0, 2.5, 3.0, 8.04, 0.0])],\n",
       "       [DenseVector([318.0, 107.0, 3.0, 3.0, 3.5, 8.27, 1.0])],\n",
       "       [DenseVector([325.0, 110.0, 4.0, 3.5, 4.0, 8.67, 1.0])],\n",
       "       [DenseVector([303.0, 100.0, 2.0, 3.0, 3.5, 8.06, 1.0])],\n",
       "       [DenseVector([300.0, 102.0, 3.0, 3.5, 2.5, 8.17, 0.0])],\n",
       "       [DenseVector([297.0, 98.0, 2.0, 2.5, 3.0, 7.67, 0.0])],\n",
       "       [DenseVector([317.0, 106.0, 2.0, 2.0, 3.5, 8.12, 0.0])],\n",
       "       [DenseVector([327.0, 109.0, 3.0, 3.5, 4.0, 8.77, 1.0])],\n",
       "       [DenseVector([301.0, 104.0, 2.0, 3.5, 3.5, 7.89, 1.0])],\n",
       "       [DenseVector([314.0, 105.0, 2.0, 2.5, 2.0, 7.64, 0.0])],\n",
       "       [DenseVector([321.0, 107.0, 2.0, 2.0, 1.5, 8.44, 0.0])],\n",
       "       [DenseVector([322.0, 110.0, 3.0, 4.0, 5.0, 8.64, 1.0])],\n",
       "       [DenseVector([334.0, 116.0, 4.0, 4.0, 3.5, 9.54, 1.0])],\n",
       "       [DenseVector([338.0, 115.0, 5.0, 4.5, 5.0, 9.23, 1.0])],\n",
       "       [DenseVector([306.0, 103.0, 2.0, 2.5, 3.0, 8.36, 0.0])],\n",
       "       [DenseVector([313.0, 102.0, 3.0, 3.5, 4.0, 8.9, 1.0])],\n",
       "       [DenseVector([330.0, 114.0, 4.0, 4.5, 3.0, 9.17, 1.0])],\n",
       "       [DenseVector([320.0, 104.0, 3.0, 3.5, 4.5, 8.34, 1.0])],\n",
       "       [DenseVector([311.0, 98.0, 1.0, 1.0, 2.5, 7.46, 0.0])],\n",
       "       [DenseVector([298.0, 92.0, 1.0, 2.0, 2.0, 7.88, 0.0])],\n",
       "       [DenseVector([301.0, 98.0, 1.0, 2.0, 3.0, 8.03, 1.0])],\n",
       "       [DenseVector([310.0, 103.0, 2.0, 2.5, 2.5, 8.24, 0.0])],\n",
       "       [DenseVector([324.0, 110.0, 3.0, 3.5, 3.0, 9.22, 1.0])],\n",
       "       [DenseVector([336.0, 119.0, 4.0, 4.5, 4.0, 9.62, 1.0])],\n",
       "       [DenseVector([321.0, 109.0, 3.0, 3.0, 3.0, 8.54, 1.0])],\n",
       "       [DenseVector([315.0, 105.0, 2.0, 2.0, 2.5, 7.65, 0.0])],\n",
       "       [DenseVector([304.0, 101.0, 2.0, 2.0, 2.5, 7.66, 0.0])],\n",
       "       [DenseVector([297.0, 96.0, 2.0, 2.5, 2.0, 7.43, 0.0])],\n",
       "       [DenseVector([290.0, 100.0, 1.0, 1.5, 2.0, 7.56, 0.0])],\n",
       "       [DenseVector([303.0, 98.0, 1.0, 2.0, 2.5, 7.65, 0.0])],\n",
       "       [DenseVector([311.0, 99.0, 1.0, 2.5, 3.0, 8.43, 1.0])],\n",
       "       [DenseVector([322.0, 104.0, 3.0, 3.5, 4.0, 8.84, 1.0])],\n",
       "       [DenseVector([319.0, 105.0, 3.0, 3.0, 3.5, 8.67, 1.0])],\n",
       "       [DenseVector([324.0, 110.0, 4.0, 4.5, 4.0, 9.15, 1.0])],\n",
       "       [DenseVector([300.0, 100.0, 3.0, 3.0, 3.5, 8.26, 0.0])],\n",
       "       [DenseVector([340.0, 113.0, 4.0, 5.0, 5.0, 9.74, 1.0])],\n",
       "       [DenseVector([335.0, 117.0, 5.0, 5.0, 5.0, 9.82, 1.0])],\n",
       "       [DenseVector([302.0, 101.0, 2.0, 2.5, 3.5, 7.96, 0.0])],\n",
       "       [DenseVector([307.0, 105.0, 2.0, 2.0, 3.5, 8.1, 0.0])],\n",
       "       [DenseVector([296.0, 97.0, 2.0, 1.5, 2.0, 7.8, 0.0])],\n",
       "       [DenseVector([320.0, 108.0, 3.0, 3.5, 4.0, 8.44, 1.0])],\n",
       "       [DenseVector([314.0, 102.0, 2.0, 2.0, 2.5, 8.24, 0.0])],\n",
       "       [DenseVector([318.0, 106.0, 3.0, 2.0, 3.0, 8.65, 0.0])],\n",
       "       [DenseVector([326.0, 112.0, 4.0, 4.0, 3.5, 9.12, 1.0])],\n",
       "       [DenseVector([317.0, 107.407, 2.0, 3.0, 3.0, 8.76, 0.0])],\n",
       "       [DenseVector([329.0, 111.0, 4.0, 4.5, 4.0, 9.23, 1.0])],\n",
       "       [DenseVector([324.0, 110.0, 3.0, 3.5, 3.5, 9.04, 1.0])],\n",
       "       [DenseVector([325.0, 107.0, 3.0, 3.0, 3.5, 9.11, 1.0])],\n",
       "       [DenseVector([330.0, 116.0, 4.0, 5.0, 4.5, 9.45, 1.0])],\n",
       "       [DenseVector([312.0, 103.0, 3.0, 3.5, 4.0, 8.78, 0.0])],\n",
       "       [DenseVector([333.0, 117.0, 4.0, 5.0, 4.0, 9.66, 1.0])]],\n",
       "      dtype=object)"
      ]
     },
     "execution_count": 77,
     "metadata": {},
     "output_type": "execute_result"
    }
   ],
   "source": [
    "output.select('features').toPandas().values"
   ]
  },
  {
   "cell_type": "code",
   "execution_count": 89,
   "metadata": {
    "id": "SO_zkscn93Eo"
   },
   "outputs": [],
   "source": [
    "data = output.select(\"features\", \"Chance of Admit\")"
   ]
  },
  {
   "cell_type": "code",
   "execution_count": 90,
   "metadata": {},
   "outputs": [
    {
     "name": "stdout",
     "output_type": "stream",
     "text": [
      "+--------------------+---------------+\n",
      "|            features|Chance of Admit|\n",
      "+--------------------+---------------+\n",
      "|[337.0,118.0,4.0,...|           0.92|\n",
      "|[324.0,107.0,4.0,...|           0.76|\n",
      "|[316.0,104.0,3.0,...|           0.72|\n",
      "|[322.0,110.0,3.0,...|            0.8|\n",
      "|[314.0,103.0,2.0,...|           0.65|\n",
      "|[330.0,115.0,5.0,...|            0.9|\n",
      "|[321.0,109.0,3.0,...|           0.75|\n",
      "|[308.0,101.0,2.0,...|           0.68|\n",
      "|[302.0,102.0,1.0,...|            0.5|\n",
      "|[316.771362304687...|           0.45|\n",
      "|[316.771362304687...|           0.52|\n",
      "|[327.0,111.0,4.0,...|           0.84|\n",
      "|[328.0,107.407035...|           0.78|\n",
      "|[307.0,109.0,3.0,...|           0.62|\n",
      "|[311.0,104.0,3.0,...|           0.61|\n",
      "|[314.0,105.0,3.0,...|           0.54|\n",
      "|[317.0,107.0,3.0,...|           0.66|\n",
      "|[319.0,106.0,3.0,...|           0.65|\n",
      "|[318.0,110.0,3.0,...|           0.63|\n",
      "|[303.0,102.0,3.0,...|           0.62|\n",
      "+--------------------+---------------+\n",
      "only showing top 20 rows\n",
      "\n"
     ]
    }
   ],
   "source": [
    "data.show()"
   ]
  },
  {
   "cell_type": "code",
   "execution_count": 107,
   "metadata": {},
   "outputs": [
    {
     "name": "stdout",
     "output_type": "stream",
     "text": [
      "Help on method randomSplit in module pyspark.sql.dataframe:\n",
      "\n",
      "randomSplit(weights: List[float], seed: Optional[int] = None) -> List[ForwardRef('DataFrame')] method of pyspark.sql.dataframe.DataFrame instance\n",
      "    Randomly splits this :class:`DataFrame` with the provided weights.\n",
      "    \n",
      "    .. versionadded:: 1.4.0\n",
      "    \n",
      "    .. versionchanged:: 3.4.0\n",
      "        Supports Spark Connect.\n",
      "    \n",
      "    Parameters\n",
      "    ----------\n",
      "    weights : list\n",
      "        list of doubles as weights with which to split the :class:`DataFrame`.\n",
      "        Weights will be normalized if they don't sum up to 1.0.\n",
      "    seed : int, optional\n",
      "        The seed for sampling.\n",
      "    \n",
      "    Returns\n",
      "    -------\n",
      "    list\n",
      "        List of DataFrames.\n",
      "    \n",
      "    Examples\n",
      "    --------\n",
      "    >>> from pyspark.sql import Row\n",
      "    >>> df = spark.createDataFrame([\n",
      "    ...     Row(age=10, height=80, name=\"Alice\"),\n",
      "    ...     Row(age=5, height=None, name=\"Bob\"),\n",
      "    ...     Row(age=None, height=None, name=\"Tom\"),\n",
      "    ...     Row(age=None, height=None, name=None),\n",
      "    ... ])\n",
      "    \n",
      "    >>> splits = df.randomSplit([1.0, 2.0], 24)\n",
      "    >>> splits[0].count()\n",
      "    2\n",
      "    >>> splits[1].count()\n",
      "    2\n",
      "\n"
     ]
    }
   ],
   "source": [
    "help(data.randomSplit)"
   ]
  },
  {
   "cell_type": "code",
   "execution_count": 187,
   "metadata": {
    "id": "Lfqq-lmF93Eo"
   },
   "outputs": [],
   "source": [
    "train_df,test_df = data.randomSplit([0.75, 0.25], seed=0)"
   ]
  },
  {
   "cell_type": "code",
   "execution_count": 188,
   "metadata": {
    "id": "WnNzfD8z93Eo",
    "outputId": "04a87368-494b-49da-d55e-ab7c952e2288"
   },
   "outputs": [
    {
     "name": "stdout",
     "output_type": "stream",
     "text": [
      "+--------------------+---------------+\n",
      "|            features|Chance of Admit|\n",
      "+--------------------+---------------+\n",
      "|[290.0,104.0,4.0,...|           0.45|\n",
      "|[293.0,97.0,2.0,2...|           0.64|\n",
      "|[294.0,93.0,1.0,1...|           0.46|\n",
      "|[294.0,95.0,1.0,1...|           0.49|\n",
      "|[295.0,93.0,1.0,2...|           0.46|\n",
      "|[295.0,96.0,2.0,1...|           0.47|\n",
      "|[295.0,99.0,2.0,2...|           0.57|\n",
      "|[295.0,101.0,2.0,...|           0.69|\n",
      "|[296.0,95.0,2.0,3...|           0.44|\n",
      "|[296.0,97.0,2.0,1...|           0.49|\n",
      "|[296.0,99.0,2.0,2...|           0.61|\n",
      "|[296.0,99.0,2.0,3...|           0.47|\n",
      "|[296.0,101.0,1.0,...|            0.6|\n",
      "|[297.0,96.0,2.0,2...|           0.43|\n",
      "|[297.0,96.0,2.0,2...|           0.34|\n",
      "|[297.0,98.0,2.0,2...|           0.59|\n",
      "|[297.0,100.0,1.0,...|           0.52|\n",
      "|[298.0,92.0,1.0,2...|           0.51|\n",
      "|[298.0,98.0,2.0,1...|           0.44|\n",
      "|[298.0,99.0,2.0,4...|           0.46|\n",
      "+--------------------+---------------+\n",
      "only showing top 20 rows\n",
      "\n"
     ]
    }
   ],
   "source": [
    "train_df.show()"
   ]
  },
  {
   "cell_type": "code",
   "execution_count": 189,
   "metadata": {},
   "outputs": [
    {
     "data": {
      "text/plain": [
       "301"
      ]
     },
     "execution_count": 189,
     "metadata": {},
     "output_type": "execute_result"
    }
   ],
   "source": [
    "train_df.count()"
   ]
  },
  {
   "cell_type": "code",
   "execution_count": 190,
   "metadata": {},
   "outputs": [
    {
     "name": "stdout",
     "output_type": "stream",
     "text": [
      "+--------------------+---------------+\n",
      "|            features|Chance of Admit|\n",
      "+--------------------+---------------+\n",
      "|[290.0,100.0,1.0,...|           0.47|\n",
      "|[298.0,98.0,2.0,4...|           0.34|\n",
      "|[298.0,99.0,1.0,1...|           0.53|\n",
      "|[299.0,100.0,1.0,...|           0.59|\n",
      "|[299.0,100.0,2.0,...|           0.68|\n",
      "|[299.0,100.0,3.0,...|           0.63|\n",
      "|[300.0,97.0,2.0,3...|           0.65|\n",
      "|[300.0,100.0,3.0,...|           0.64|\n",
      "|[300.0,100.0,3.0,...|           0.62|\n",
      "|[300.0,102.0,3.0,...|           0.63|\n",
      "|[301.0,97.0,2.0,3...|           0.44|\n",
      "|[301.0,107.0,3.0,...|           0.62|\n",
      "|[302.0,99.0,1.0,2...|           0.57|\n",
      "|[302.0,102.0,1.0,...|            0.5|\n",
      "|[304.0,97.0,2.0,1...|           0.47|\n",
      "|[304.0,100.0,2.0,...|           0.64|\n",
      "|[304.0,100.0,4.0,...|           0.42|\n",
      "|[304.0,103.0,5.0,...|           0.68|\n",
      "|[305.0,105.0,2.0,...|           0.66|\n",
      "|[305.0,106.0,2.0,...|           0.64|\n",
      "+--------------------+---------------+\n",
      "only showing top 20 rows\n",
      "\n"
     ]
    }
   ],
   "source": [
    "test_df.show()"
   ]
  },
  {
   "cell_type": "code",
   "execution_count": 191,
   "metadata": {},
   "outputs": [
    {
     "data": {
      "text/plain": [
       "99"
      ]
     },
     "execution_count": 191,
     "metadata": {},
     "output_type": "execute_result"
    }
   ],
   "source": [
    "test_df.count()"
   ]
  },
  {
   "cell_type": "code",
   "execution_count": 192,
   "metadata": {},
   "outputs": [
    {
     "data": {
      "text/plain": [
       "400"
      ]
     },
     "execution_count": 192,
     "metadata": {},
     "output_type": "execute_result"
    }
   ],
   "source": [
    "data.count()"
   ]
  },
  {
   "cell_type": "markdown",
   "metadata": {
    "id": "xf7Wb6XW93Eo"
   },
   "source": [
    "# Linear Regression"
   ]
  },
  {
   "cell_type": "code",
   "execution_count": null,
   "metadata": {},
   "outputs": [
    {
     "name": "stdout",
     "output_type": "stream",
     "text": [
      "Help on class LinearRegression in module pyspark.ml.regression:\n",
      "\n",
      "class LinearRegression(_JavaRegressor, _LinearRegressionParams, pyspark.ml.util.JavaMLWritable, pyspark.ml.util.JavaMLReadable)\n",
      " |  LinearRegression(*, featuresCol: str = 'features', labelCol: str = 'label', predictionCol: str = 'prediction', maxIter: int = 100, regParam: float = 0.0, elasticNetParam: float = 0.0, tol: float = 1e-06, fitIntercept: bool = True, standardization: bool = True, solver: str = 'auto', weightCol: Optional[str] = None, aggregationDepth: int = 2, loss: str = 'squaredError', epsilon: float = 1.35, maxBlockSizeInMB: float = 0.0)\n",
      " |  \n",
      " |  Linear regression.\n",
      " |  \n",
      " |  The learning objective is to minimize the specified loss function, with regularization.\n",
      " |  This supports two kinds of loss:\n",
      " |  \n",
      " |  * squaredError (a.k.a squared loss)\n",
      " |  * huber (a hybrid of squared error for relatively small errors and absolute error for     relatively large ones, and we estimate the scale parameter from training data)\n",
      " |  \n",
      " |  This supports multiple types of regularization:\n",
      " |  \n",
      " |  * none (a.k.a. ordinary least squares)\n",
      " |  * L2 (ridge regression)\n",
      " |  * L1 (Lasso)\n",
      " |  * L2 + L1 (elastic net)\n",
      " |  \n",
      " |  .. versionadded:: 1.4.0\n",
      " |  \n",
      " |  Notes\n",
      " |  -----\n",
      " |  Fitting with huber loss only supports none and L2 regularization.\n",
      " |  \n",
      " |  Examples\n",
      " |  --------\n",
      " |  >>> from pyspark.ml.linalg import Vectors\n",
      " |  >>> df = spark.createDataFrame([\n",
      " |  ...     (1.0, 2.0, Vectors.dense(1.0)),\n",
      " |  ...     (0.0, 2.0, Vectors.sparse(1, [], []))], [\"label\", \"weight\", \"features\"])\n",
      " |  >>> lr = LinearRegression(regParam=0.0, solver=\"normal\", weightCol=\"weight\")\n",
      " |  >>> lr.setMaxIter(5)\n",
      " |  LinearRegression...\n",
      " |  >>> lr.getMaxIter()\n",
      " |  5\n",
      " |  >>> lr.setRegParam(0.1)\n",
      " |  LinearRegression...\n",
      " |  >>> lr.getRegParam()\n",
      " |  0.1\n",
      " |  >>> lr.setRegParam(0.0)\n",
      " |  LinearRegression...\n",
      " |  >>> model = lr.fit(df)\n",
      " |  >>> model.setFeaturesCol(\"features\")\n",
      " |  LinearRegressionModel...\n",
      " |  >>> model.setPredictionCol(\"newPrediction\")\n",
      " |  LinearRegressionModel...\n",
      " |  >>> model.getMaxIter()\n",
      " |  5\n",
      " |  >>> model.getMaxBlockSizeInMB()\n",
      " |  0.0\n",
      " |  >>> test0 = spark.createDataFrame([(Vectors.dense(-1.0),)], [\"features\"])\n",
      " |  >>> abs(model.predict(test0.head().features) - (-1.0)) < 0.001\n",
      " |  True\n",
      " |  >>> abs(model.transform(test0).head().newPrediction - (-1.0)) < 0.001\n",
      " |  True\n",
      " |  >>> abs(model.coefficients[0] - 1.0) < 0.001\n",
      " |  True\n",
      " |  >>> abs(model.intercept - 0.0) < 0.001\n",
      " |  True\n",
      " |  >>> test1 = spark.createDataFrame([(Vectors.sparse(1, [0], [1.0]),)], [\"features\"])\n",
      " |  >>> abs(model.transform(test1).head().newPrediction - 1.0) < 0.001\n",
      " |  True\n",
      " |  >>> lr.setParams(featuresCol=\"vector\")\n",
      " |  LinearRegression...\n",
      " |  >>> lr_path = temp_path + \"/lr\"\n",
      " |  >>> lr.save(lr_path)\n",
      " |  >>> lr2 = LinearRegression.load(lr_path)\n",
      " |  >>> lr2.getMaxIter()\n",
      " |  5\n",
      " |  >>> model_path = temp_path + \"/lr_model\"\n",
      " |  >>> model.save(model_path)\n",
      " |  >>> model2 = LinearRegressionModel.load(model_path)\n",
      " |  >>> model.coefficients[0] == model2.coefficients[0]\n",
      " |  True\n",
      " |  >>> model.intercept == model2.intercept\n",
      " |  True\n",
      " |  >>> model.transform(test0).take(1) == model2.transform(test0).take(1)\n",
      " |  True\n",
      " |  >>> model.numFeatures\n",
      " |  1\n",
      " |  >>> model.write().format(\"pmml\").save(model_path + \"_2\")\n",
      " |  \n",
      " |  Method resolution order:\n",
      " |      LinearRegression\n",
      " |      _JavaRegressor\n",
      " |      Regressor\n",
      " |      pyspark.ml.wrapper.JavaPredictor\n",
      " |      pyspark.ml.base.Predictor\n",
      " |      pyspark.ml.wrapper.JavaEstimator\n",
      " |      pyspark.ml.wrapper.JavaParams\n",
      " |      pyspark.ml.wrapper.JavaWrapper\n",
      " |      pyspark.ml.base.Estimator\n",
      " |      _LinearRegressionParams\n",
      " |      pyspark.ml.base._PredictorParams\n",
      " |      pyspark.ml.param.shared.HasLabelCol\n",
      " |      pyspark.ml.param.shared.HasFeaturesCol\n",
      " |      pyspark.ml.param.shared.HasPredictionCol\n",
      " |      pyspark.ml.param.shared.HasRegParam\n",
      " |      pyspark.ml.param.shared.HasElasticNetParam\n",
      " |      pyspark.ml.param.shared.HasMaxIter\n",
      " |      pyspark.ml.param.shared.HasTol\n",
      " |      pyspark.ml.param.shared.HasFitIntercept\n",
      " |      pyspark.ml.param.shared.HasStandardization\n",
      " |      pyspark.ml.param.shared.HasWeightCol\n",
      " |      pyspark.ml.param.shared.HasSolver\n",
      " |      pyspark.ml.param.shared.HasAggregationDepth\n",
      " |      pyspark.ml.param.shared.HasLoss\n",
      " |      pyspark.ml.param.shared.HasMaxBlockSizeInMB\n",
      " |      pyspark.ml.param.Params\n",
      " |      pyspark.ml.util.Identifiable\n",
      " |      pyspark.ml.util.JavaMLWritable\n",
      " |      pyspark.ml.util.MLWritable\n",
      " |      pyspark.ml.util.JavaMLReadable\n",
      " |      pyspark.ml.util.MLReadable\n",
      " |      typing.Generic\n",
      " |      builtins.object\n",
      " |  \n",
      " |  Methods defined here:\n",
      " |  \n",
      " |  __init__(self, *, featuresCol: str = 'features', labelCol: str = 'label', predictionCol: str = 'prediction', maxIter: int = 100, regParam: float = 0.0, elasticNetParam: float = 0.0, tol: float = 1e-06, fitIntercept: bool = True, standardization: bool = True, solver: str = 'auto', weightCol: Optional[str] = None, aggregationDepth: int = 2, loss: str = 'squaredError', epsilon: float = 1.35, maxBlockSizeInMB: float = 0.0)\n",
      " |      __init__(self, \\*, featuresCol=\"features\", labelCol=\"label\", predictionCol=\"prediction\",                  maxIter=100, regParam=0.0, elasticNetParam=0.0, tol=1e-6, fitIntercept=True,                  standardization=True, solver=\"auto\", weightCol=None, aggregationDepth=2,                  loss=\"squaredError\", epsilon=1.35, maxBlockSizeInMB=0.0)\n",
      " |  \n",
      " |  setAggregationDepth(self, value: int) -> 'LinearRegression'\n",
      " |      Sets the value of :py:attr:`aggregationDepth`.\n",
      " |  \n",
      " |  setElasticNetParam(self, value: float) -> 'LinearRegression'\n",
      " |      Sets the value of :py:attr:`elasticNetParam`.\n",
      " |  \n",
      " |  setEpsilon(self, value: float) -> 'LinearRegression'\n",
      " |      Sets the value of :py:attr:`epsilon`.\n",
      " |      \n",
      " |      .. versionadded:: 2.3.0\n",
      " |  \n",
      " |  setFitIntercept(self, value: bool) -> 'LinearRegression'\n",
      " |      Sets the value of :py:attr:`fitIntercept`.\n",
      " |  \n",
      " |  setLoss(self, value: str) -> 'LinearRegression'\n",
      " |      Sets the value of :py:attr:`loss`.\n",
      " |  \n",
      " |  setMaxBlockSizeInMB(self, value: float) -> 'LinearRegression'\n",
      " |      Sets the value of :py:attr:`maxBlockSizeInMB`.\n",
      " |      \n",
      " |      .. versionadded:: 3.1.0\n",
      " |  \n",
      " |  setMaxIter(self, value: int) -> 'LinearRegression'\n",
      " |      Sets the value of :py:attr:`maxIter`.\n",
      " |  \n",
      " |  setParams(self, *, featuresCol: str = 'features', labelCol: str = 'label', predictionCol: str = 'prediction', maxIter: int = 100, regParam: float = 0.0, elasticNetParam: float = 0.0, tol: float = 1e-06, fitIntercept: bool = True, standardization: bool = True, solver: str = 'auto', weightCol: Optional[str] = None, aggregationDepth: int = 2, loss: str = 'squaredError', epsilon: float = 1.35, maxBlockSizeInMB: float = 0.0) -> 'LinearRegression'\n",
      " |      setParams(self, \\*, featuresCol=\"features\", labelCol=\"label\", predictionCol=\"prediction\",                   maxIter=100, regParam=0.0, elasticNetParam=0.0, tol=1e-6, fitIntercept=True,                   standardization=True, solver=\"auto\", weightCol=None, aggregationDepth=2,                   loss=\"squaredError\", epsilon=1.35, maxBlockSizeInMB=0.0)\n",
      " |      Sets params for linear regression.\n",
      " |      \n",
      " |      .. versionadded:: 1.4.0\n",
      " |  \n",
      " |  setRegParam(self, value: float) -> 'LinearRegression'\n",
      " |      Sets the value of :py:attr:`regParam`.\n",
      " |  \n",
      " |  setSolver(self, value: str) -> 'LinearRegression'\n",
      " |      Sets the value of :py:attr:`solver`.\n",
      " |  \n",
      " |  setStandardization(self, value: bool) -> 'LinearRegression'\n",
      " |      Sets the value of :py:attr:`standardization`.\n",
      " |  \n",
      " |  setTol(self, value: float) -> 'LinearRegression'\n",
      " |      Sets the value of :py:attr:`tol`.\n",
      " |  \n",
      " |  setWeightCol(self, value: str) -> 'LinearRegression'\n",
      " |      Sets the value of :py:attr:`weightCol`.\n",
      " |  \n",
      " |  ----------------------------------------------------------------------\n",
      " |  Data and other attributes defined here:\n",
      " |  \n",
      " |  __abstractmethods__ = frozenset()\n",
      " |  \n",
      " |  __annotations__ = {'_input_kwargs': typing.Dict[str, typing.Any]}\n",
      " |  \n",
      " |  __orig_bases__ = (pyspark.ml.regression._JavaRegressor[ForwardRef('Lin...\n",
      " |  \n",
      " |  __parameters__ = ()\n",
      " |  \n",
      " |  ----------------------------------------------------------------------\n",
      " |  Methods inherited from pyspark.ml.base.Predictor:\n",
      " |  \n",
      " |  setFeaturesCol(self: ~P, value: str) -> ~P\n",
      " |      Sets the value of :py:attr:`featuresCol`.\n",
      " |      \n",
      " |      .. versionadded:: 3.0.0\n",
      " |  \n",
      " |  setLabelCol(self: ~P, value: str) -> ~P\n",
      " |      Sets the value of :py:attr:`labelCol`.\n",
      " |      \n",
      " |      .. versionadded:: 3.0.0\n",
      " |  \n",
      " |  setPredictionCol(self: ~P, value: str) -> ~P\n",
      " |      Sets the value of :py:attr:`predictionCol`.\n",
      " |      \n",
      " |      .. versionadded:: 3.0.0\n",
      " |  \n",
      " |  ----------------------------------------------------------------------\n",
      " |  Methods inherited from pyspark.ml.wrapper.JavaParams:\n",
      " |  \n",
      " |  clear(self, param: pyspark.ml.param.Param) -> None\n",
      " |      Clears a param from the param map if it has been explicitly set.\n",
      " |  \n",
      " |  copy(self: 'JP', extra: Optional[ForwardRef('ParamMap')] = None) -> 'JP'\n",
      " |      Creates a copy of this instance with the same uid and some\n",
      " |      extra params. This implementation first calls Params.copy and\n",
      " |      then make a copy of the companion Java pipeline component with\n",
      " |      extra params. So both the Python wrapper and the Java pipeline\n",
      " |      component get copied.\n",
      " |      \n",
      " |      Parameters\n",
      " |      ----------\n",
      " |      extra : dict, optional\n",
      " |          Extra parameters to copy to the new instance\n",
      " |      \n",
      " |      Returns\n",
      " |      -------\n",
      " |      :py:class:`JavaParams`\n",
      " |          Copy of this instance\n",
      " |  \n",
      " |  ----------------------------------------------------------------------\n",
      " |  Methods inherited from pyspark.ml.wrapper.JavaWrapper:\n",
      " |  \n",
      " |  __del__(self) -> None\n",
      " |  \n",
      " |  ----------------------------------------------------------------------\n",
      " |  Data descriptors inherited from pyspark.ml.wrapper.JavaWrapper:\n",
      " |  \n",
      " |  __dict__\n",
      " |      dictionary for instance variables (if defined)\n",
      " |  \n",
      " |  __weakref__\n",
      " |      list of weak references to the object (if defined)\n",
      " |  \n",
      " |  ----------------------------------------------------------------------\n",
      " |  Methods inherited from pyspark.ml.base.Estimator:\n",
      " |  \n",
      " |  fit(self, dataset: pyspark.sql.dataframe.DataFrame, params: Union[ForwardRef('ParamMap'), List[ForwardRef('ParamMap')], Tuple[ForwardRef('ParamMap')], NoneType] = None) -> Union[~M, List[~M]]\n",
      " |      Fits a model to the input dataset with optional parameters.\n",
      " |      \n",
      " |      .. versionadded:: 1.3.0\n",
      " |      \n",
      " |      Parameters\n",
      " |      ----------\n",
      " |      dataset : :py:class:`pyspark.sql.DataFrame`\n",
      " |          input dataset.\n",
      " |      params : dict or list or tuple, optional\n",
      " |          an optional param map that overrides embedded params. If a list/tuple of\n",
      " |          param maps is given, this calls fit on each param map and returns a list of\n",
      " |          models.\n",
      " |      \n",
      " |      Returns\n",
      " |      -------\n",
      " |      :py:class:`Transformer` or a list of :py:class:`Transformer`\n",
      " |          fitted model(s)\n",
      " |  \n",
      " |  fitMultiple(self, dataset: pyspark.sql.dataframe.DataFrame, paramMaps: Sequence[ForwardRef('ParamMap')]) -> Iterator[Tuple[int, ~M]]\n",
      " |      Fits a model to the input dataset for each param map in `paramMaps`.\n",
      " |      \n",
      " |      .. versionadded:: 2.3.0\n",
      " |      \n",
      " |      Parameters\n",
      " |      ----------\n",
      " |      dataset : :py:class:`pyspark.sql.DataFrame`\n",
      " |          input dataset.\n",
      " |      paramMaps : :py:class:`collections.abc.Sequence`\n",
      " |          A Sequence of param maps.\n",
      " |      \n",
      " |      Returns\n",
      " |      -------\n",
      " |      :py:class:`_FitMultipleIterator`\n",
      " |          A thread safe iterable which contains one model for each param map. Each\n",
      " |          call to `next(modelIterator)` will return `(index, model)` where model was fit\n",
      " |          using `paramMaps[index]`. `index` values may not be sequential.\n",
      " |  \n",
      " |  ----------------------------------------------------------------------\n",
      " |  Methods inherited from _LinearRegressionParams:\n",
      " |  \n",
      " |  getEpsilon(self) -> float\n",
      " |      Gets the value of epsilon or its default value.\n",
      " |      \n",
      " |      .. versionadded:: 2.3.0\n",
      " |  \n",
      " |  ----------------------------------------------------------------------\n",
      " |  Data and other attributes inherited from _LinearRegressionParams:\n",
      " |  \n",
      " |  epsilon = Param(parent='undefined', name='epsilon', doc='T...s. Must b...\n",
      " |  \n",
      " |  loss = Param(parent='undefined', name='loss', doc='The ...imized. Supp...\n",
      " |  \n",
      " |  solver = Param(parent='undefined', name='solver', doc='Th...ation. Sup...\n",
      " |  \n",
      " |  ----------------------------------------------------------------------\n",
      " |  Methods inherited from pyspark.ml.param.shared.HasLabelCol:\n",
      " |  \n",
      " |  getLabelCol(self) -> str\n",
      " |      Gets the value of labelCol or its default value.\n",
      " |  \n",
      " |  ----------------------------------------------------------------------\n",
      " |  Data and other attributes inherited from pyspark.ml.param.shared.HasLabelCol:\n",
      " |  \n",
      " |  labelCol = Param(parent='undefined', name='labelCol', doc='label colum...\n",
      " |  \n",
      " |  ----------------------------------------------------------------------\n",
      " |  Methods inherited from pyspark.ml.param.shared.HasFeaturesCol:\n",
      " |  \n",
      " |  getFeaturesCol(self) -> str\n",
      " |      Gets the value of featuresCol or its default value.\n",
      " |  \n",
      " |  ----------------------------------------------------------------------\n",
      " |  Data and other attributes inherited from pyspark.ml.param.shared.HasFeaturesCol:\n",
      " |  \n",
      " |  featuresCol = Param(parent='undefined', name='featuresCol', doc='featu...\n",
      " |  \n",
      " |  ----------------------------------------------------------------------\n",
      " |  Methods inherited from pyspark.ml.param.shared.HasPredictionCol:\n",
      " |  \n",
      " |  getPredictionCol(self) -> str\n",
      " |      Gets the value of predictionCol or its default value.\n",
      " |  \n",
      " |  ----------------------------------------------------------------------\n",
      " |  Data and other attributes inherited from pyspark.ml.param.shared.HasPredictionCol:\n",
      " |  \n",
      " |  predictionCol = Param(parent='undefined', name='predictionCol', doc='p...\n",
      " |  \n",
      " |  ----------------------------------------------------------------------\n",
      " |  Methods inherited from pyspark.ml.param.shared.HasRegParam:\n",
      " |  \n",
      " |  getRegParam(self) -> float\n",
      " |      Gets the value of regParam or its default value.\n",
      " |  \n",
      " |  ----------------------------------------------------------------------\n",
      " |  Data and other attributes inherited from pyspark.ml.param.shared.HasRegParam:\n",
      " |  \n",
      " |  regParam = Param(parent='undefined', name='regParam', doc='regularizat...\n",
      " |  \n",
      " |  ----------------------------------------------------------------------\n",
      " |  Methods inherited from pyspark.ml.param.shared.HasElasticNetParam:\n",
      " |  \n",
      " |  getElasticNetParam(self) -> float\n",
      " |      Gets the value of elasticNetParam or its default value.\n",
      " |  \n",
      " |  ----------------------------------------------------------------------\n",
      " |  Data and other attributes inherited from pyspark.ml.param.shared.HasElasticNetParam:\n",
      " |  \n",
      " |  elasticNetParam = Param(parent='undefined', name='elasticNetParam'...L...\n",
      " |  \n",
      " |  ----------------------------------------------------------------------\n",
      " |  Methods inherited from pyspark.ml.param.shared.HasMaxIter:\n",
      " |  \n",
      " |  getMaxIter(self) -> int\n",
      " |      Gets the value of maxIter or its default value.\n",
      " |  \n",
      " |  ----------------------------------------------------------------------\n",
      " |  Data and other attributes inherited from pyspark.ml.param.shared.HasMaxIter:\n",
      " |  \n",
      " |  maxIter = Param(parent='undefined', name='maxIter', doc='max number of...\n",
      " |  \n",
      " |  ----------------------------------------------------------------------\n",
      " |  Methods inherited from pyspark.ml.param.shared.HasTol:\n",
      " |  \n",
      " |  getTol(self) -> float\n",
      " |      Gets the value of tol or its default value.\n",
      " |  \n",
      " |  ----------------------------------------------------------------------\n",
      " |  Data and other attributes inherited from pyspark.ml.param.shared.HasTol:\n",
      " |  \n",
      " |  tol = Param(parent='undefined', name='tol', doc='the c...ence toleranc...\n",
      " |  \n",
      " |  ----------------------------------------------------------------------\n",
      " |  Methods inherited from pyspark.ml.param.shared.HasFitIntercept:\n",
      " |  \n",
      " |  getFitIntercept(self) -> bool\n",
      " |      Gets the value of fitIntercept or its default value.\n",
      " |  \n",
      " |  ----------------------------------------------------------------------\n",
      " |  Data and other attributes inherited from pyspark.ml.param.shared.HasFitIntercept:\n",
      " |  \n",
      " |  fitIntercept = Param(parent='undefined', name='fitIntercept', doc='whe...\n",
      " |  \n",
      " |  ----------------------------------------------------------------------\n",
      " |  Methods inherited from pyspark.ml.param.shared.HasStandardization:\n",
      " |  \n",
      " |  getStandardization(self) -> bool\n",
      " |      Gets the value of standardization or its default value.\n",
      " |  \n",
      " |  ----------------------------------------------------------------------\n",
      " |  Data and other attributes inherited from pyspark.ml.param.shared.HasStandardization:\n",
      " |  \n",
      " |  standardization = Param(parent='undefined', name='standardization'...t...\n",
      " |  \n",
      " |  ----------------------------------------------------------------------\n",
      " |  Methods inherited from pyspark.ml.param.shared.HasWeightCol:\n",
      " |  \n",
      " |  getWeightCol(self) -> str\n",
      " |      Gets the value of weightCol or its default value.\n",
      " |  \n",
      " |  ----------------------------------------------------------------------\n",
      " |  Data and other attributes inherited from pyspark.ml.param.shared.HasWeightCol:\n",
      " |  \n",
      " |  weightCol = Param(parent='undefined', name='weightCol', doc=...or empt...\n",
      " |  \n",
      " |  ----------------------------------------------------------------------\n",
      " |  Methods inherited from pyspark.ml.param.shared.HasSolver:\n",
      " |  \n",
      " |  getSolver(self) -> str\n",
      " |      Gets the value of solver or its default value.\n",
      " |  \n",
      " |  ----------------------------------------------------------------------\n",
      " |  Methods inherited from pyspark.ml.param.shared.HasAggregationDepth:\n",
      " |  \n",
      " |  getAggregationDepth(self) -> int\n",
      " |      Gets the value of aggregationDepth or its default value.\n",
      " |  \n",
      " |  ----------------------------------------------------------------------\n",
      " |  Data and other attributes inherited from pyspark.ml.param.shared.HasAggregationDepth:\n",
      " |  \n",
      " |  aggregationDepth = Param(parent='undefined', name='aggregationDepth', ...\n",
      " |  \n",
      " |  ----------------------------------------------------------------------\n",
      " |  Methods inherited from pyspark.ml.param.shared.HasLoss:\n",
      " |  \n",
      " |  getLoss(self) -> str\n",
      " |      Gets the value of loss or its default value.\n",
      " |  \n",
      " |  ----------------------------------------------------------------------\n",
      " |  Methods inherited from pyspark.ml.param.shared.HasMaxBlockSizeInMB:\n",
      " |  \n",
      " |  getMaxBlockSizeInMB(self) -> float\n",
      " |      Gets the value of maxBlockSizeInMB or its default value.\n",
      " |  \n",
      " |  ----------------------------------------------------------------------\n",
      " |  Data and other attributes inherited from pyspark.ml.param.shared.HasMaxBlockSizeInMB:\n",
      " |  \n",
      " |  maxBlockSizeInMB = Param(parent='undefined', name='maxBlockSizeInMB......\n",
      " |  \n",
      " |  ----------------------------------------------------------------------\n",
      " |  Methods inherited from pyspark.ml.param.Params:\n",
      " |  \n",
      " |  explainParam(self, param: Union[str, pyspark.ml.param.Param]) -> str\n",
      " |      Explains a single param and returns its name, doc, and optional\n",
      " |      default value and user-supplied value in a string.\n",
      " |  \n",
      " |  explainParams(self) -> str\n",
      " |      Returns the documentation of all params with their optionally\n",
      " |      default values and user-supplied values.\n",
      " |  \n",
      " |  extractParamMap(self, extra: Optional[ForwardRef('ParamMap')] = None) -> 'ParamMap'\n",
      " |      Extracts the embedded default param values and user-supplied\n",
      " |      values, and then merges them with extra values from input into\n",
      " |      a flat param map, where the latter value is used if there exist\n",
      " |      conflicts, i.e., with ordering: default param values <\n",
      " |      user-supplied values < extra.\n",
      " |      \n",
      " |      Parameters\n",
      " |      ----------\n",
      " |      extra : dict, optional\n",
      " |          extra param values\n",
      " |      \n",
      " |      Returns\n",
      " |      -------\n",
      " |      dict\n",
      " |          merged param map\n",
      " |  \n",
      " |  getOrDefault(self, param: Union[str, pyspark.ml.param.Param[~T]]) -> Union[Any, ~T]\n",
      " |      Gets the value of a param in the user-supplied param map or its\n",
      " |      default value. Raises an error if neither is set.\n",
      " |  \n",
      " |  getParam(self, paramName: str) -> pyspark.ml.param.Param\n",
      " |      Gets a param by its name.\n",
      " |  \n",
      " |  hasDefault(self, param: Union[str, pyspark.ml.param.Param[Any]]) -> bool\n",
      " |      Checks whether a param has a default value.\n",
      " |  \n",
      " |  hasParam(self, paramName: str) -> bool\n",
      " |      Tests whether this instance contains a param with a given\n",
      " |      (string) name.\n",
      " |  \n",
      " |  isDefined(self, param: Union[str, pyspark.ml.param.Param[Any]]) -> bool\n",
      " |      Checks whether a param is explicitly set by user or has\n",
      " |      a default value.\n",
      " |  \n",
      " |  isSet(self, param: Union[str, pyspark.ml.param.Param[Any]]) -> bool\n",
      " |      Checks whether a param is explicitly set by user.\n",
      " |  \n",
      " |  set(self, param: pyspark.ml.param.Param, value: Any) -> None\n",
      " |      Sets a parameter in the embedded param map.\n",
      " |  \n",
      " |  ----------------------------------------------------------------------\n",
      " |  Readonly properties inherited from pyspark.ml.param.Params:\n",
      " |  \n",
      " |  params\n",
      " |      Returns all params ordered by name. The default implementation\n",
      " |      uses :py:func:`dir` to get all attributes of type\n",
      " |      :py:class:`Param`.\n",
      " |  \n",
      " |  ----------------------------------------------------------------------\n",
      " |  Methods inherited from pyspark.ml.util.Identifiable:\n",
      " |  \n",
      " |  __repr__(self) -> str\n",
      " |      Return repr(self).\n",
      " |  \n",
      " |  ----------------------------------------------------------------------\n",
      " |  Methods inherited from pyspark.ml.util.JavaMLWritable:\n",
      " |  \n",
      " |  write(self) -> pyspark.ml.util.JavaMLWriter\n",
      " |      Returns an MLWriter instance for this ML instance.\n",
      " |  \n",
      " |  ----------------------------------------------------------------------\n",
      " |  Methods inherited from pyspark.ml.util.MLWritable:\n",
      " |  \n",
      " |  save(self, path: str) -> None\n",
      " |      Save this ML instance to the given path, a shortcut of 'write().save(path)'.\n",
      " |  \n",
      " |  ----------------------------------------------------------------------\n",
      " |  Class methods inherited from pyspark.ml.util.JavaMLReadable:\n",
      " |  \n",
      " |  read() -> pyspark.ml.util.JavaMLReader[~RL] from abc.ABCMeta\n",
      " |      Returns an MLReader instance for this class.\n",
      " |  \n",
      " |  ----------------------------------------------------------------------\n",
      " |  Class methods inherited from pyspark.ml.util.MLReadable:\n",
      " |  \n",
      " |  load(path: str) -> ~RL from abc.ABCMeta\n",
      " |      Reads an ML instance from the input path, a shortcut of `read().load(path)`.\n",
      " |  \n",
      " |  ----------------------------------------------------------------------\n",
      " |  Class methods inherited from typing.Generic:\n",
      " |  \n",
      " |  __class_getitem__(params) from abc.ABCMeta\n",
      " |  \n",
      " |  __init_subclass__(*args, **kwargs) from abc.ABCMeta\n",
      " |      This method is called when a class is subclassed.\n",
      " |      \n",
      " |      The default implementation does nothing. It may be\n",
      " |      overridden to extend subclasses.\n",
      "\n"
     ]
    }
   ],
   "source": [
    "# help(LinearRegression)"
   ]
  },
  {
   "cell_type": "code",
   "execution_count": 334,
   "metadata": {
    "id": "zmTfyf0x93Eo"
   },
   "outputs": [],
   "source": [
    "lin_reg = LinearRegression(featuresCol = 'features', labelCol='Chance of Admit', maxIter=100, solver='l-bfgs',\n",
    "                           loss='squaredError') # elasticNetParam=0.0 means we are using L2 regularization, \n",
    "                                                                                   # 1.0 means we are using L1 regularization\n",
    "                                                                                   # 0.0 < elasticNetParam < 1.0 means we are using Elastic Net regularization,\n",
    "                                                                                   # which is a combination of L1 and L2 regularization\n",
    "linear_model = lin_reg.fit(train_df)"
   ]
  },
  {
   "cell_type": "code",
   "execution_count": 335,
   "metadata": {
    "id": "LLIsJW7o93Eo",
    "outputId": "7fbcd9e9-9301-4958-e4fd-8d9f6301876a"
   },
   "outputs": [
    {
     "name": "stdout",
     "output_type": "stream",
     "text": [
      "Coefficients: [0.0012154140124390135,0.003064529028161029,0.004989225327635425,0.0007947297573467075,0.015554914710961442,0.12799234061044107,0.03143104051801486]\n",
      "Intercept: -1.1797110500173988\n"
     ]
    }
   ],
   "source": [
    "print(\"Coefficients: \" + str(linear_model.coefficients))\n",
    "print(\"Intercept: \" + str(linear_model.intercept))"
   ]
  },
  {
   "cell_type": "code",
   "execution_count": 336,
   "metadata": {
    "id": "jzvEmeuW93Ep",
    "outputId": "09208595-489d-465a-8467-3ea7fdba6a96"
   },
   "outputs": [
    {
     "name": "stdout",
     "output_type": "stream",
     "text": [
      "RMSE: 0.06156346731840295\n",
      "\n",
      "R2 Score: 0.8099199426084489\n"
     ]
    }
   ],
   "source": [
    "trainSummary = linear_model.summary\n",
    "print(\"RMSE:\",trainSummary.rootMeanSquaredError)\n",
    "print(\"\")\n",
    "print(\"R2 Score:\",trainSummary.r2)"
   ]
  },
  {
   "cell_type": "code",
   "execution_count": 337,
   "metadata": {
    "id": "zwY7PLHw93Ep",
    "outputId": "4cb8a26d-02d0-4c22-adec-9f8128fe12e2"
   },
   "outputs": [
    {
     "name": "stdout",
     "output_type": "stream",
     "text": [
      "+------------------+---------------+--------------------+\n",
      "|        prediction|Chance of Admit|            features|\n",
      "+------------------+---------------+--------------------+\n",
      "|0.4841251534827504|           0.47|[290.0,100.0,1.0,...|\n",
      "|0.5704067451909496|           0.34|[298.0,98.0,2.0,4...|\n",
      "|0.4935396294103196|           0.53|[298.0,99.0,1.0,1...|\n",
      "|0.5373013422311066|           0.59|[299.0,100.0,1.0,...|\n",
      "|0.5655351425914816|           0.68|[299.0,100.0,2.0,...|\n",
      "| 0.564316237723473|           0.63|[299.0,100.0,3.0,...|\n",
      "| 0.609368901793911|           0.65|[300.0,97.0,2.0,3...|\n",
      "|0.6944326268352454|           0.64|[300.0,100.0,3.0,...|\n",
      "|0.6203768860110848|           0.62|[300.0,100.0,3.0,...|\n",
      "|0.5998290640500976|           0.63|[300.0,102.0,3.0,...|\n",
      "|0.5824259666944107|           0.44|[301.0,97.0,2.0,3...|\n",
      "| 0.685111786101134|           0.62|[301.0,107.0,3.0,...|\n",
      "|0.4563653392170748|           0.57|[302.0,99.0,1.0,2...|\n",
      "|0.5537757244039079|            0.5|[302.0,102.0,1.0,...|\n",
      "|0.5071759653838435|           0.47|[304.0,97.0,2.0,1...|\n",
      "|0.5955333387832638|           0.64|[304.0,100.0,2.0,...|\n",
      "| 0.559723965220069|           0.42|[304.0,100.0,4.0,...|\n",
      "|0.7024146007502974|           0.68|[304.0,103.0,5.0,...|\n",
      "|0.6279258143150117|           0.66|[305.0,105.0,2.0,...|\n",
      "|0.6192751646728825|           0.64|[305.0,106.0,2.0,...|\n",
      "+------------------+---------------+--------------------+\n",
      "only showing top 20 rows\n",
      "\n"
     ]
    }
   ],
   "source": [
    "# prediction\n",
    "\n",
    "predictions = linear_model.transform(test_df)\n",
    "# predictions.show()\n",
    "predictions.select(\"prediction\",\"Chance of Admit\",\"features\").show()"
   ]
  },
  {
   "cell_type": "code",
   "execution_count": 338,
   "metadata": {},
   "outputs": [
    {
     "name": "stdout",
     "output_type": "stream",
     "text": [
      "Help on class RegressionEvaluator in module pyspark.ml.evaluation:\n",
      "\n",
      "class RegressionEvaluator(JavaEvaluator, pyspark.ml.param.shared.HasLabelCol, pyspark.ml.param.shared.HasPredictionCol, pyspark.ml.param.shared.HasWeightCol, pyspark.ml.util.JavaMLReadable, pyspark.ml.util.JavaMLWritable)\n",
      " |  RegressionEvaluator(*, predictionCol: str = 'prediction', labelCol: str = 'label', metricName: 'RegressionEvaluatorMetricType' = 'rmse', weightCol: Optional[str] = None, throughOrigin: bool = False)\n",
      " |  \n",
      " |  Evaluator for Regression, which expects input columns prediction, label\n",
      " |  and an optional weight column.\n",
      " |  \n",
      " |  .. versionadded:: 1.4.0\n",
      " |  \n",
      " |  Examples\n",
      " |  --------\n",
      " |  >>> scoreAndLabels = [(-28.98343821, -27.0), (20.21491975, 21.5),\n",
      " |  ...   (-25.98418959, -22.0), (30.69731842, 33.0), (74.69283752, 71.0)]\n",
      " |  >>> dataset = spark.createDataFrame(scoreAndLabels, [\"raw\", \"label\"])\n",
      " |  ...\n",
      " |  >>> evaluator = RegressionEvaluator()\n",
      " |  >>> evaluator.setPredictionCol(\"raw\")\n",
      " |  RegressionEvaluator...\n",
      " |  >>> evaluator.evaluate(dataset)\n",
      " |  2.842...\n",
      " |  >>> evaluator.evaluate(dataset, {evaluator.metricName: \"r2\"})\n",
      " |  0.993...\n",
      " |  >>> evaluator.evaluate(dataset, {evaluator.metricName: \"mae\"})\n",
      " |  2.649...\n",
      " |  >>> re_path = temp_path + \"/re\"\n",
      " |  >>> evaluator.save(re_path)\n",
      " |  >>> evaluator2 = RegressionEvaluator.load(re_path)\n",
      " |  >>> str(evaluator2.getPredictionCol())\n",
      " |  'raw'\n",
      " |  >>> scoreAndLabelsAndWeight = [(-28.98343821, -27.0, 1.0), (20.21491975, 21.5, 0.8),\n",
      " |  ...   (-25.98418959, -22.0, 1.0), (30.69731842, 33.0, 0.6), (74.69283752, 71.0, 0.2)]\n",
      " |  >>> dataset = spark.createDataFrame(scoreAndLabelsAndWeight, [\"raw\", \"label\", \"weight\"])\n",
      " |  ...\n",
      " |  >>> evaluator = RegressionEvaluator(predictionCol=\"raw\", weightCol=\"weight\")\n",
      " |  >>> evaluator.evaluate(dataset)\n",
      " |  2.740...\n",
      " |  >>> evaluator.getThroughOrigin()\n",
      " |  False\n",
      " |  \n",
      " |  Method resolution order:\n",
      " |      RegressionEvaluator\n",
      " |      JavaEvaluator\n",
      " |      pyspark.ml.wrapper.JavaParams\n",
      " |      pyspark.ml.wrapper.JavaWrapper\n",
      " |      Evaluator\n",
      " |      pyspark.ml.param.shared.HasLabelCol\n",
      " |      pyspark.ml.param.shared.HasPredictionCol\n",
      " |      pyspark.ml.param.shared.HasWeightCol\n",
      " |      pyspark.ml.param.Params\n",
      " |      pyspark.ml.util.Identifiable\n",
      " |      pyspark.ml.util.JavaMLReadable\n",
      " |      pyspark.ml.util.MLReadable\n",
      " |      typing.Generic\n",
      " |      pyspark.ml.util.JavaMLWritable\n",
      " |      pyspark.ml.util.MLWritable\n",
      " |      builtins.object\n",
      " |  \n",
      " |  Methods defined here:\n",
      " |  \n",
      " |  __init__(self, *, predictionCol: str = 'prediction', labelCol: str = 'label', metricName: 'RegressionEvaluatorMetricType' = 'rmse', weightCol: Optional[str] = None, throughOrigin: bool = False)\n",
      " |      __init__(self, \\*, predictionCol=\"prediction\", labelCol=\"label\",                  metricName=\"rmse\", weightCol=None, throughOrigin=False)\n",
      " |  \n",
      " |  getMetricName(self) -> 'RegressionEvaluatorMetricType'\n",
      " |      Gets the value of metricName or its default value.\n",
      " |      \n",
      " |      .. versionadded:: 1.4.0\n",
      " |  \n",
      " |  getThroughOrigin(self) -> bool\n",
      " |      Gets the value of throughOrigin or its default value.\n",
      " |      \n",
      " |      .. versionadded:: 3.0.0\n",
      " |  \n",
      " |  setLabelCol(self, value: str) -> 'RegressionEvaluator'\n",
      " |      Sets the value of :py:attr:`labelCol`.\n",
      " |  \n",
      " |  setMetricName(self, value: 'RegressionEvaluatorMetricType') -> 'RegressionEvaluator'\n",
      " |      Sets the value of :py:attr:`metricName`.\n",
      " |      \n",
      " |      .. versionadded:: 1.4.0\n",
      " |  \n",
      " |  setParams(self, *, predictionCol: str = 'prediction', labelCol: str = 'label', metricName: 'RegressionEvaluatorMetricType' = 'rmse', weightCol: Optional[str] = None, throughOrigin: bool = False) -> 'RegressionEvaluator'\n",
      " |      setParams(self, \\*, predictionCol=\"prediction\", labelCol=\"label\",                   metricName=\"rmse\", weightCol=None, throughOrigin=False)\n",
      " |      Sets params for regression evaluator.\n",
      " |      \n",
      " |      .. versionadded:: 1.4.0\n",
      " |  \n",
      " |  setPredictionCol(self, value: str) -> 'RegressionEvaluator'\n",
      " |      Sets the value of :py:attr:`predictionCol`.\n",
      " |  \n",
      " |  setThroughOrigin(self, value: bool) -> 'RegressionEvaluator'\n",
      " |      Sets the value of :py:attr:`throughOrigin`.\n",
      " |      \n",
      " |      .. versionadded:: 3.0.0\n",
      " |  \n",
      " |  setWeightCol(self, value: str) -> 'RegressionEvaluator'\n",
      " |      Sets the value of :py:attr:`weightCol`.\n",
      " |      \n",
      " |      .. versionadded:: 3.0.0\n",
      " |  \n",
      " |  ----------------------------------------------------------------------\n",
      " |  Data and other attributes defined here:\n",
      " |  \n",
      " |  __abstractmethods__ = frozenset()\n",
      " |  \n",
      " |  __annotations__ = {'_input_kwargs': typing.Dict[str, typing.Any], 'met...\n",
      " |  \n",
      " |  __orig_bases__ = (<class 'pyspark.ml.evaluation.JavaEvaluator'>, <clas...\n",
      " |  \n",
      " |  __parameters__ = ()\n",
      " |  \n",
      " |  metricName = Param(parent='undefined', name='metricName', doc...      ...\n",
      " |  \n",
      " |  throughOrigin = Param(parent='undefined', name='throughOrigin', doc='w...\n",
      " |  \n",
      " |  ----------------------------------------------------------------------\n",
      " |  Methods inherited from JavaEvaluator:\n",
      " |  \n",
      " |  isLargerBetter(self) -> bool\n",
      " |      Indicates whether the metric returned by :py:meth:`evaluate` should be maximized\n",
      " |      (True, default) or minimized (False).\n",
      " |      A given evaluator may support multiple metrics which may be maximized or minimized.\n",
      " |      \n",
      " |      .. versionadded:: 1.5.0\n",
      " |  \n",
      " |  ----------------------------------------------------------------------\n",
      " |  Methods inherited from pyspark.ml.wrapper.JavaParams:\n",
      " |  \n",
      " |  clear(self, param: pyspark.ml.param.Param) -> None\n",
      " |      Clears a param from the param map if it has been explicitly set.\n",
      " |  \n",
      " |  copy(self: 'JP', extra: Optional[ForwardRef('ParamMap')] = None) -> 'JP'\n",
      " |      Creates a copy of this instance with the same uid and some\n",
      " |      extra params. This implementation first calls Params.copy and\n",
      " |      then make a copy of the companion Java pipeline component with\n",
      " |      extra params. So both the Python wrapper and the Java pipeline\n",
      " |      component get copied.\n",
      " |      \n",
      " |      Parameters\n",
      " |      ----------\n",
      " |      extra : dict, optional\n",
      " |          Extra parameters to copy to the new instance\n",
      " |      \n",
      " |      Returns\n",
      " |      -------\n",
      " |      :py:class:`JavaParams`\n",
      " |          Copy of this instance\n",
      " |  \n",
      " |  ----------------------------------------------------------------------\n",
      " |  Methods inherited from pyspark.ml.wrapper.JavaWrapper:\n",
      " |  \n",
      " |  __del__(self) -> None\n",
      " |  \n",
      " |  ----------------------------------------------------------------------\n",
      " |  Data descriptors inherited from pyspark.ml.wrapper.JavaWrapper:\n",
      " |  \n",
      " |  __dict__\n",
      " |      dictionary for instance variables (if defined)\n",
      " |  \n",
      " |  __weakref__\n",
      " |      list of weak references to the object (if defined)\n",
      " |  \n",
      " |  ----------------------------------------------------------------------\n",
      " |  Methods inherited from Evaluator:\n",
      " |  \n",
      " |  evaluate(self, dataset: pyspark.sql.dataframe.DataFrame, params: Optional[ForwardRef('ParamMap')] = None) -> float\n",
      " |      Evaluates the output with optional parameters.\n",
      " |      \n",
      " |      .. versionadded:: 1.4.0\n",
      " |      \n",
      " |      Parameters\n",
      " |      ----------\n",
      " |      dataset : :py:class:`pyspark.sql.DataFrame`\n",
      " |          a dataset that contains labels/observations and predictions\n",
      " |      params : dict, optional\n",
      " |          an optional param map that overrides embedded params\n",
      " |      \n",
      " |      Returns\n",
      " |      -------\n",
      " |      float\n",
      " |          metric\n",
      " |  \n",
      " |  ----------------------------------------------------------------------\n",
      " |  Methods inherited from pyspark.ml.param.shared.HasLabelCol:\n",
      " |  \n",
      " |  getLabelCol(self) -> str\n",
      " |      Gets the value of labelCol or its default value.\n",
      " |  \n",
      " |  ----------------------------------------------------------------------\n",
      " |  Data and other attributes inherited from pyspark.ml.param.shared.HasLabelCol:\n",
      " |  \n",
      " |  labelCol = Param(parent='undefined', name='labelCol', doc='label colum...\n",
      " |  \n",
      " |  ----------------------------------------------------------------------\n",
      " |  Methods inherited from pyspark.ml.param.shared.HasPredictionCol:\n",
      " |  \n",
      " |  getPredictionCol(self) -> str\n",
      " |      Gets the value of predictionCol or its default value.\n",
      " |  \n",
      " |  ----------------------------------------------------------------------\n",
      " |  Data and other attributes inherited from pyspark.ml.param.shared.HasPredictionCol:\n",
      " |  \n",
      " |  predictionCol = Param(parent='undefined', name='predictionCol', doc='p...\n",
      " |  \n",
      " |  ----------------------------------------------------------------------\n",
      " |  Methods inherited from pyspark.ml.param.shared.HasWeightCol:\n",
      " |  \n",
      " |  getWeightCol(self) -> str\n",
      " |      Gets the value of weightCol or its default value.\n",
      " |  \n",
      " |  ----------------------------------------------------------------------\n",
      " |  Data and other attributes inherited from pyspark.ml.param.shared.HasWeightCol:\n",
      " |  \n",
      " |  weightCol = Param(parent='undefined', name='weightCol', doc=...or empt...\n",
      " |  \n",
      " |  ----------------------------------------------------------------------\n",
      " |  Methods inherited from pyspark.ml.param.Params:\n",
      " |  \n",
      " |  explainParam(self, param: Union[str, pyspark.ml.param.Param]) -> str\n",
      " |      Explains a single param and returns its name, doc, and optional\n",
      " |      default value and user-supplied value in a string.\n",
      " |  \n",
      " |  explainParams(self) -> str\n",
      " |      Returns the documentation of all params with their optionally\n",
      " |      default values and user-supplied values.\n",
      " |  \n",
      " |  extractParamMap(self, extra: Optional[ForwardRef('ParamMap')] = None) -> 'ParamMap'\n",
      " |      Extracts the embedded default param values and user-supplied\n",
      " |      values, and then merges them with extra values from input into\n",
      " |      a flat param map, where the latter value is used if there exist\n",
      " |      conflicts, i.e., with ordering: default param values <\n",
      " |      user-supplied values < extra.\n",
      " |      \n",
      " |      Parameters\n",
      " |      ----------\n",
      " |      extra : dict, optional\n",
      " |          extra param values\n",
      " |      \n",
      " |      Returns\n",
      " |      -------\n",
      " |      dict\n",
      " |          merged param map\n",
      " |  \n",
      " |  getOrDefault(self, param: Union[str, pyspark.ml.param.Param[~T]]) -> Union[Any, ~T]\n",
      " |      Gets the value of a param in the user-supplied param map or its\n",
      " |      default value. Raises an error if neither is set.\n",
      " |  \n",
      " |  getParam(self, paramName: str) -> pyspark.ml.param.Param\n",
      " |      Gets a param by its name.\n",
      " |  \n",
      " |  hasDefault(self, param: Union[str, pyspark.ml.param.Param[Any]]) -> bool\n",
      " |      Checks whether a param has a default value.\n",
      " |  \n",
      " |  hasParam(self, paramName: str) -> bool\n",
      " |      Tests whether this instance contains a param with a given\n",
      " |      (string) name.\n",
      " |  \n",
      " |  isDefined(self, param: Union[str, pyspark.ml.param.Param[Any]]) -> bool\n",
      " |      Checks whether a param is explicitly set by user or has\n",
      " |      a default value.\n",
      " |  \n",
      " |  isSet(self, param: Union[str, pyspark.ml.param.Param[Any]]) -> bool\n",
      " |      Checks whether a param is explicitly set by user.\n",
      " |  \n",
      " |  set(self, param: pyspark.ml.param.Param, value: Any) -> None\n",
      " |      Sets a parameter in the embedded param map.\n",
      " |  \n",
      " |  ----------------------------------------------------------------------\n",
      " |  Readonly properties inherited from pyspark.ml.param.Params:\n",
      " |  \n",
      " |  params\n",
      " |      Returns all params ordered by name. The default implementation\n",
      " |      uses :py:func:`dir` to get all attributes of type\n",
      " |      :py:class:`Param`.\n",
      " |  \n",
      " |  ----------------------------------------------------------------------\n",
      " |  Methods inherited from pyspark.ml.util.Identifiable:\n",
      " |  \n",
      " |  __repr__(self) -> str\n",
      " |      Return repr(self).\n",
      " |  \n",
      " |  ----------------------------------------------------------------------\n",
      " |  Class methods inherited from pyspark.ml.util.JavaMLReadable:\n",
      " |  \n",
      " |  read() -> pyspark.ml.util.JavaMLReader[~RL] from abc.ABCMeta\n",
      " |      Returns an MLReader instance for this class.\n",
      " |  \n",
      " |  ----------------------------------------------------------------------\n",
      " |  Class methods inherited from pyspark.ml.util.MLReadable:\n",
      " |  \n",
      " |  load(path: str) -> ~RL from abc.ABCMeta\n",
      " |      Reads an ML instance from the input path, a shortcut of `read().load(path)`.\n",
      " |  \n",
      " |  ----------------------------------------------------------------------\n",
      " |  Class methods inherited from typing.Generic:\n",
      " |  \n",
      " |  __class_getitem__(params) from abc.ABCMeta\n",
      " |  \n",
      " |  __init_subclass__(*args, **kwargs) from abc.ABCMeta\n",
      " |      This method is called when a class is subclassed.\n",
      " |      \n",
      " |      The default implementation does nothing. It may be\n",
      " |      overridden to extend subclasses.\n",
      " |  \n",
      " |  ----------------------------------------------------------------------\n",
      " |  Methods inherited from pyspark.ml.util.JavaMLWritable:\n",
      " |  \n",
      " |  write(self) -> pyspark.ml.util.JavaMLWriter\n",
      " |      Returns an MLWriter instance for this ML instance.\n",
      " |  \n",
      " |  ----------------------------------------------------------------------\n",
      " |  Methods inherited from pyspark.ml.util.MLWritable:\n",
      " |  \n",
      " |  save(self, path: str) -> None\n",
      " |      Save this ML instance to the given path, a shortcut of 'write().save(path)'.\n",
      "\n"
     ]
    }
   ],
   "source": [
    "help(RegressionEvaluator)"
   ]
  },
  {
   "cell_type": "code",
   "execution_count": 339,
   "metadata": {
    "id": "_XTJY9EQ93Ep",
    "outputId": "0346d672-40ff-44fc-a187-c83f4b3a93a6"
   },
   "outputs": [
    {
     "name": "stdout",
     "output_type": "stream",
     "text": [
      "R Squared (R2) on test data = 0.7845365193441944\n"
     ]
    }
   ],
   "source": [
    "pred_evaluator = RegressionEvaluator(predictionCol=\"prediction\",\n",
    "                 labelCol=\"Chance of Admit\",metricName=\"r2\")\n",
    "print(\"R Squared (R2) on test data =\", pred_evaluator.evaluate(predictions))"
   ]
  },
  {
   "cell_type": "code",
   "execution_count": 340,
   "metadata": {},
   "outputs": [
    {
     "name": "stdout",
     "output_type": "stream",
     "text": [
      "RMSE on test data = 0.06780460612025054\n"
     ]
    }
   ],
   "source": [
    "pred_evaluator = RegressionEvaluator(predictionCol=\"prediction\",\n",
    "                 labelCol=\"Chance of Admit\",metricName=\"rmse\")\n",
    "print(\"RMSE on test data =\", pred_evaluator.evaluate(predictions))"
   ]
  },
  {
   "cell_type": "markdown",
   "metadata": {
    "id": "6s7_x76d93Ep"
   },
   "source": [
    "## Random Forest Regressor"
   ]
  },
  {
   "cell_type": "code",
   "execution_count": 341,
   "metadata": {},
   "outputs": [
    {
     "name": "stdout",
     "output_type": "stream",
     "text": [
      "+---------+-----------+-----------------+---+----+----+--------+---------------+--------------------+\n",
      "|GRE Score|TOEFL Score|University Rating|SOP|LOR |CGPA|Research|Chance of Admit|            features|\n",
      "+---------+-----------+-----------------+---+----+----+--------+---------------+--------------------+\n",
      "|    337.0|      118.0|              4.0|4.5| 4.5|9.65|     1.0|           0.92|[337.0,118.0,4.0,...|\n",
      "|    324.0|      107.0|              4.0|4.0| 4.5|8.87|     1.0|           0.76|[324.0,107.0,4.0,...|\n",
      "|    316.0|      104.0|              3.0|3.0| 3.5| 8.0|     1.0|           0.72|[316.0,104.0,3.0,...|\n",
      "|    322.0|      110.0|              3.0|3.5| 2.5|8.67|     1.0|            0.8|[322.0,110.0,3.0,...|\n",
      "|    314.0|      103.0|              2.0|2.0| 3.0|8.21|     0.0|           0.65|[314.0,103.0,2.0,...|\n",
      "|    330.0|      115.0|              5.0|4.5| 3.0|9.34|     1.0|            0.9|[330.0,115.0,5.0,...|\n",
      "|    321.0|      109.0|              3.0|3.0| 4.0| 8.2|     1.0|           0.75|[321.0,109.0,3.0,...|\n",
      "|    308.0|      101.0|              2.0|3.0| 4.0| 7.9|     0.0|           0.68|[308.0,101.0,2.0,...|\n",
      "|    302.0|      102.0|              1.0|2.0| 1.5| 8.0|     0.0|            0.5|[302.0,102.0,1.0,...|\n",
      "|316.77136|      108.0|              3.0|3.5| 3.0| 8.6|     0.0|           0.45|[316.771362304687...|\n",
      "|316.77136|      106.0|              3.0|3.5| 4.0| 8.4|     1.0|           0.52|[316.771362304687...|\n",
      "|    327.0|      111.0|              4.0|4.0| 4.5| 9.0|     1.0|           0.84|[327.0,111.0,4.0,...|\n",
      "|    328.0| 107.407036|              4.0|4.0| 4.5| 9.1|     1.0|           0.78|[328.0,107.407035...|\n",
      "|    307.0|      109.0|              3.0|4.0| 3.0| 8.0|     1.0|           0.62|[307.0,109.0,3.0,...|\n",
      "|    311.0|      104.0|              3.0|3.5| 2.0| 8.2|     1.0|           0.61|[311.0,104.0,3.0,...|\n",
      "|    314.0|      105.0|              3.0|3.5| 2.5| 8.3|     0.0|           0.54|[314.0,105.0,3.0,...|\n",
      "|    317.0|      107.0|              3.0|4.0| 3.0| 8.7|     0.0|           0.66|[317.0,107.0,3.0,...|\n",
      "|    319.0|      106.0|              3.0|4.0| 3.0| 8.0|     1.0|           0.65|[319.0,106.0,3.0,...|\n",
      "|    318.0|      110.0|              3.0|4.0| 3.0| 8.8|     0.0|           0.63|[318.0,110.0,3.0,...|\n",
      "|    303.0|      102.0|              3.0|3.5| 3.0| 8.5|     0.0|           0.62|[303.0,102.0,3.0,...|\n",
      "+---------+-----------+-----------------+---+----+----+--------+---------------+--------------------+\n",
      "only showing top 20 rows\n",
      "\n"
     ]
    }
   ],
   "source": [
    "output.show()"
   ]
  },
  {
   "cell_type": "code",
   "execution_count": 473,
   "metadata": {},
   "outputs": [],
   "source": [
    "# help(VectorIndexer)"
   ]
  },
  {
   "attachments": {
    "image.png": {
     "image/png": "[encoded data removed]"
    }
   },
   "cell_type": "markdown",
   "metadata": {},
   "source": [
    "![image.png](attachment:image.png)"
   ]
  },
  {
   "attachments": {
    "image.png": {
     "image/png": "[encoded data removed]"
    }
   },
   "cell_type": "markdown",
   "metadata": {},
   "source": [
    "![image.png](attachment:image.png)"
   ]
  },
  {
   "cell_type": "code",
   "execution_count": 547,
   "metadata": {},
   "outputs": [
    {
     "name": "stdout",
     "output_type": "stream",
     "text": [
      "Feature GRE Score has 50 unique values\n",
      "Feature TOEFL Score has 30 unique values\n",
      "Feature University Rating has 5 unique values\n",
      "Feature SOP has 9 unique values\n",
      "Feature LOR  has 9 unique values\n",
      "Feature CGPA has 168 unique values\n",
      "Feature Research has 2 unique values\n",
      "Feature Chance of Admit has 60 unique values\n",
      "Feature features has 400 unique values\n"
     ]
    }
   ],
   "source": [
    "for col in output.columns:\n",
    "    unique_values = output.select(col).distinct().count()\n",
    "    print(f\"Feature {col} has {unique_values} unique values\")"
   ]
  },
  {
   "cell_type": "code",
   "execution_count": 548,
   "metadata": {
    "id": "dDhs6rxK93Ep",
    "outputId": "4d73cc84-a10b-4194-a6e3-041bb5f333a6"
   },
   "outputs": [
    {
     "data": {
      "text/plain": [
       "VectorIndexerModel: uid=VectorIndexer_a53546e87786, numFeatures=7, handleInvalid=error"
      ]
     },
     "execution_count": 548,
     "metadata": {},
     "output_type": "execute_result"
    }
   ],
   "source": [
    "vi = VectorIndexer(inputCol=\"features\", outputCol=\"indexedFeatures\", maxCategories=5).fit(output)\n",
    "vi"
   ]
  },
  {
   "cell_type": "code",
   "execution_count": 549,
   "metadata": {
    "id": "Fz3ZWyEu93Ep"
   },
   "outputs": [
    {
     "name": "stdout",
     "output_type": "stream",
     "text": [
      "+---------+-----------+-----------------+---+----+----+--------+---------------+--------------------+--------------------+\n",
      "|GRE Score|TOEFL Score|University Rating|SOP|LOR |CGPA|Research|Chance of Admit|            features|     indexedFeatures|\n",
      "+---------+-----------+-----------------+---+----+----+--------+---------------+--------------------+--------------------+\n",
      "|    337.0|      118.0|              4.0|4.5| 4.5|9.65|     1.0|           0.92|[337.0,118.0,4.0,...|[337.0,118.0,3.0,...|\n",
      "|    324.0|      107.0|              4.0|4.0| 4.5|8.87|     1.0|           0.76|[324.0,107.0,4.0,...|[324.0,107.0,3.0,...|\n",
      "|    316.0|      104.0|              3.0|3.0| 3.5| 8.0|     1.0|           0.72|[316.0,104.0,3.0,...|[316.0,104.0,2.0,...|\n",
      "|    322.0|      110.0|              3.0|3.5| 2.5|8.67|     1.0|            0.8|[322.0,110.0,3.0,...|[322.0,110.0,2.0,...|\n",
      "|    314.0|      103.0|              2.0|2.0| 3.0|8.21|     0.0|           0.65|[314.0,103.0,2.0,...|[314.0,103.0,1.0,...|\n",
      "|    330.0|      115.0|              5.0|4.5| 3.0|9.34|     1.0|            0.9|[330.0,115.0,5.0,...|[330.0,115.0,4.0,...|\n",
      "|    321.0|      109.0|              3.0|3.0| 4.0| 8.2|     1.0|           0.75|[321.0,109.0,3.0,...|[321.0,109.0,2.0,...|\n",
      "|    308.0|      101.0|              2.0|3.0| 4.0| 7.9|     0.0|           0.68|[308.0,101.0,2.0,...|[308.0,101.0,1.0,...|\n",
      "|    302.0|      102.0|              1.0|2.0| 1.5| 8.0|     0.0|            0.5|[302.0,102.0,1.0,...|[302.0,102.0,0.0,...|\n",
      "|316.77136|      108.0|              3.0|3.5| 3.0| 8.6|     0.0|           0.45|[316.771362304687...|[316.771362304687...|\n",
      "|316.77136|      106.0|              3.0|3.5| 4.0| 8.4|     1.0|           0.52|[316.771362304687...|[316.771362304687...|\n",
      "|    327.0|      111.0|              4.0|4.0| 4.5| 9.0|     1.0|           0.84|[327.0,111.0,4.0,...|[327.0,111.0,3.0,...|\n",
      "|    328.0| 107.407036|              4.0|4.0| 4.5| 9.1|     1.0|           0.78|[328.0,107.407035...|[328.0,107.407035...|\n",
      "|    307.0|      109.0|              3.0|4.0| 3.0| 8.0|     1.0|           0.62|[307.0,109.0,3.0,...|[307.0,109.0,2.0,...|\n",
      "|    311.0|      104.0|              3.0|3.5| 2.0| 8.2|     1.0|           0.61|[311.0,104.0,3.0,...|[311.0,104.0,2.0,...|\n",
      "|    314.0|      105.0|              3.0|3.5| 2.5| 8.3|     0.0|           0.54|[314.0,105.0,3.0,...|[314.0,105.0,2.0,...|\n",
      "|    317.0|      107.0|              3.0|4.0| 3.0| 8.7|     0.0|           0.66|[317.0,107.0,3.0,...|[317.0,107.0,2.0,...|\n",
      "|    319.0|      106.0|              3.0|4.0| 3.0| 8.0|     1.0|           0.65|[319.0,106.0,3.0,...|[319.0,106.0,2.0,...|\n",
      "|    318.0|      110.0|              3.0|4.0| 3.0| 8.8|     0.0|           0.63|[318.0,110.0,3.0,...|[318.0,110.0,2.0,...|\n",
      "|    303.0|      102.0|              3.0|3.5| 3.0| 8.5|     0.0|           0.62|[303.0,102.0,3.0,...|[303.0,102.0,2.0,...|\n",
      "+---------+-----------+-----------------+---+----+----+--------+---------------+--------------------+--------------------+\n",
      "only showing top 20 rows\n",
      "\n"
     ]
    }
   ],
   "source": [
    "featureIndexer = vi.transform(output)\n",
    "featureIndexer.show()"
   ]
  },
  {
   "cell_type": "code",
   "execution_count": 550,
   "metadata": {},
   "outputs": [
    {
     "data": {
      "text/plain": [
       "array([[DenseVector([337.0, 118.0, 3.0, 4.5, 4.5, 9.65, 1.0])],\n",
       "       [DenseVector([324.0, 107.0, 3.0, 4.0, 4.5, 8.87, 1.0])],\n",
       "       [DenseVector([316.0, 104.0, 2.0, 3.0, 3.5, 8.0, 1.0])],\n",
       "       [DenseVector([322.0, 110.0, 2.0, 3.5, 2.5, 8.67, 1.0])],\n",
       "       [DenseVector([314.0, 103.0, 1.0, 2.0, 3.0, 8.21, 0.0])],\n",
       "       [DenseVector([330.0, 115.0, 4.0, 4.5, 3.0, 9.34, 1.0])],\n",
       "       [DenseVector([321.0, 109.0, 2.0, 3.0, 4.0, 8.2, 1.0])],\n",
       "       [DenseVector([308.0, 101.0, 1.0, 3.0, 4.0, 7.9, 0.0])],\n",
       "       [DenseVector([302.0, 102.0, 0.0, 2.0, 1.5, 8.0, 0.0])],\n",
       "       [DenseVector([316.7714, 108.0, 2.0, 3.5, 3.0, 8.6, 0.0])],\n",
       "       [DenseVector([316.7714, 106.0, 2.0, 3.5, 4.0, 8.4, 1.0])],\n",
       "       [DenseVector([327.0, 111.0, 3.0, 4.0, 4.5, 9.0, 1.0])],\n",
       "       [DenseVector([328.0, 107.407, 3.0, 4.0, 4.5, 9.1, 1.0])],\n",
       "       [DenseVector([307.0, 109.0, 2.0, 4.0, 3.0, 8.0, 1.0])],\n",
       "       [DenseVector([311.0, 104.0, 2.0, 3.5, 2.0, 8.2, 1.0])],\n",
       "       [DenseVector([314.0, 105.0, 2.0, 3.5, 2.5, 8.3, 0.0])],\n",
       "       [DenseVector([317.0, 107.0, 2.0, 4.0, 3.0, 8.7, 0.0])],\n",
       "       [DenseVector([319.0, 106.0, 2.0, 4.0, 3.0, 8.0, 1.0])],\n",
       "       [DenseVector([318.0, 110.0, 2.0, 4.0, 3.0, 8.8, 0.0])],\n",
       "       [DenseVector([303.0, 102.0, 2.0, 3.5, 3.0, 8.5, 0.0])],\n",
       "       [DenseVector([312.0, 107.0, 2.0, 3.0, 2.0, 7.9, 1.0])],\n",
       "       [DenseVector([325.0, 114.0, 3.0, 3.0, 2.0, 8.4, 0.0])],\n",
       "       [DenseVector([328.0, 116.0, 4.0, 5.0, 5.0, 9.5, 1.0])],\n",
       "       [DenseVector([334.0, 119.0, 4.0, 5.0, 4.5, 9.7, 1.0])],\n",
       "       [DenseVector([336.0, 119.0, 4.0, 4.0, 3.5, 9.8, 1.0])],\n",
       "       [DenseVector([340.0, 120.0, 4.0, 4.5, 4.5, 9.6, 1.0])],\n",
       "       [DenseVector([322.0, 109.0, 4.0, 4.5, 3.5, 8.8, 0.0])],\n",
       "       [DenseVector([298.0, 98.0, 1.0, 1.5, 2.5, 7.5, 1.0])],\n",
       "       [DenseVector([295.0, 93.0, 0.0, 2.0, 2.0, 7.2, 0.0])],\n",
       "       [DenseVector([310.0, 99.0, 1.0, 1.5, 2.0, 7.3, 0.0])],\n",
       "       [DenseVector([300.0, 97.0, 1.0, 3.0, 3.0, 8.1, 1.0])],\n",
       "       [DenseVector([327.0, 103.0, 2.0, 4.0, 4.0, 8.3, 1.0])],\n",
       "       [DenseVector([338.0, 118.0, 3.0, 3.0, 4.5, 9.4, 1.0])],\n",
       "       [DenseVector([340.0, 114.0, 4.0, 4.0, 4.0, 9.6, 1.0])],\n",
       "       [DenseVector([331.0, 112.0, 4.0, 4.0, 5.0, 9.8, 1.0])],\n",
       "       [DenseVector([320.0, 110.0, 4.0, 5.0, 5.0, 9.2, 1.0])],\n",
       "       [DenseVector([299.0, 106.0, 1.0, 4.0, 4.0, 8.4, 0.0])],\n",
       "       [DenseVector([300.0, 105.0, 0.0, 1.0, 2.0, 7.8, 0.0])],\n",
       "       [DenseVector([304.0, 105.0, 0.0, 3.0, 1.5, 7.5, 0.0])],\n",
       "       [DenseVector([307.0, 108.0, 1.0, 4.0, 3.5, 7.7, 0.0])],\n",
       "       [DenseVector([308.0, 110.0, 2.0, 3.5, 3.0, 8.0, 1.0])],\n",
       "       [DenseVector([316.0, 105.0, 1.0, 2.5, 2.5, 8.2, 1.0])],\n",
       "       [DenseVector([313.0, 107.0, 1.0, 2.5, 2.0, 8.5, 1.0])],\n",
       "       [DenseVector([332.0, 117.0, 3.0, 4.5, 4.0, 9.1, 0.0])],\n",
       "       [DenseVector([326.0, 113.0, 4.0, 4.5, 4.0, 9.4, 1.0])],\n",
       "       [DenseVector([322.0, 110.0, 4.0, 5.0, 4.0, 9.1, 1.0])],\n",
       "       [DenseVector([329.0, 114.0, 4.0, 4.0, 5.0, 9.3, 1.0])],\n",
       "       [DenseVector([339.0, 119.0, 4.0, 4.5, 4.0, 9.7, 0.0])],\n",
       "       [DenseVector([321.0, 110.0, 2.0, 3.5, 5.0, 8.85, 1.0])],\n",
       "       [DenseVector([327.0, 111.0, 3.0, 3.0, 4.0, 8.4, 1.0])],\n",
       "       [DenseVector([313.0, 98.0, 2.0, 2.5, 4.5, 8.3, 1.0])],\n",
       "       [DenseVector([312.0, 100.0, 1.0, 1.5, 3.5, 7.9, 1.0])],\n",
       "       [DenseVector([334.0, 116.0, 3.0, 4.0, 3.0, 8.0, 1.0])],\n",
       "       [DenseVector([324.0, 112.0, 3.0, 4.0, 2.5, 8.1, 1.0])],\n",
       "       [DenseVector([322.0, 110.0, 2.0, 3.0, 3.5, 8.0, 0.0])],\n",
       "       [DenseVector([320.0, 103.0, 2.0, 3.0, 3.0, 7.7, 0.0])],\n",
       "       [DenseVector([316.0, 102.0, 2.0, 2.0, 3.0, 7.4, 0.0])],\n",
       "       [DenseVector([298.0, 99.0, 1.0, 4.0, 2.0, 7.6, 0.0])],\n",
       "       [DenseVector([300.0, 99.0, 0.0, 3.0, 2.0, 6.8, 1.0])],\n",
       "       [DenseVector([311.0, 104.0, 1.0, 2.0, 2.0, 8.3, 0.0])],\n",
       "       [DenseVector([309.0, 100.0, 1.0, 3.0, 3.0, 8.1, 0.0])],\n",
       "       [DenseVector([307.0, 101.0, 2.0, 4.0, 3.0, 8.2, 0.0])],\n",
       "       [DenseVector([304.0, 105.0, 1.0, 3.0, 3.0, 8.2, 1.0])],\n",
       "       [DenseVector([315.0, 107.0, 1.0, 4.0, 3.0, 8.5, 1.0])],\n",
       "       [DenseVector([325.0, 111.0, 2.0, 3.0, 3.5, 8.7, 0.0])],\n",
       "       [DenseVector([325.0, 112.0, 3.0, 3.5, 3.5, 8.92, 0.0])],\n",
       "       [DenseVector([327.0, 114.0, 2.0, 3.0, 3.0, 9.02, 0.0])],\n",
       "       [DenseVector([316.0, 107.0, 1.0, 3.5, 3.5, 8.64, 1.0])],\n",
       "       [DenseVector([318.0, 109.0, 2.0, 3.5, 4.0, 9.22, 1.0])],\n",
       "       [DenseVector([328.0, 115.0, 3.0, 4.5, 4.0, 9.16, 1.0])],\n",
       "       [DenseVector([332.0, 118.0, 4.0, 5.0, 5.0, 9.64, 1.0])],\n",
       "       [DenseVector([336.0, 112.0, 4.0, 5.0, 5.0, 9.76, 1.0])],\n",
       "       [DenseVector([321.0, 111.0, 4.0, 5.0, 5.0, 9.45, 1.0])],\n",
       "       [DenseVector([314.0, 108.0, 3.0, 4.5, 4.0, 9.04, 1.0])],\n",
       "       [DenseVector([314.0, 106.0, 2.0, 3.0, 5.0, 8.9, 0.0])],\n",
       "       [DenseVector([329.0, 114.0, 1.0, 2.0, 4.0, 8.56, 1.0])],\n",
       "       [DenseVector([327.0, 112.0, 2.0, 3.0, 3.0, 8.72, 1.0])],\n",
       "       [DenseVector([301.0, 99.0, 1.0, 3.0, 2.0, 8.22, 0.0])],\n",
       "       [DenseVector([296.0, 95.0, 1.0, 3.0, 2.0, 7.54, 1.0])],\n",
       "       [DenseVector([294.0, 93.0, 0.0, 1.5, 2.0, 7.36, 0.0])],\n",
       "       [DenseVector([312.0, 105.0, 2.0, 2.0, 3.0, 8.02, 1.0])],\n",
       "       [DenseVector([340.0, 120.0, 3.0, 5.0, 5.0, 9.5, 1.0])],\n",
       "       [DenseVector([320.0, 110.0, 4.0, 5.0, 4.5, 9.22, 1.0])],\n",
       "       [DenseVector([322.0, 115.0, 4.0, 4.0, 4.5, 9.36, 1.0])],\n",
       "       [DenseVector([340.0, 115.0, 4.0, 4.5, 4.5, 9.45, 1.0])],\n",
       "       [DenseVector([319.0, 103.0, 3.0, 4.5, 3.5, 8.66, 0.0])],\n",
       "       [DenseVector([315.0, 106.0, 2.0, 4.5, 3.5, 8.42, 0.0])],\n",
       "       [DenseVector([317.0, 107.0, 1.0, 3.5, 3.0, 8.28, 0.0])],\n",
       "       [DenseVector([314.0, 108.0, 2.0, 4.5, 3.5, 8.14, 0.0])],\n",
       "       [DenseVector([316.0, 109.0, 3.0, 4.5, 3.5, 8.76, 1.0])],\n",
       "       [DenseVector([318.0, 106.0, 1.0, 4.0, 4.0, 7.92, 1.0])],\n",
       "       [DenseVector([299.0, 97.0, 2.0, 5.0, 3.5, 7.66, 0.0])],\n",
       "       [DenseVector([298.0, 98.0, 1.0, 4.0, 3.0, 8.03, 0.0])],\n",
       "       [DenseVector([301.0, 97.0, 1.0, 3.0, 3.0, 7.88, 1.0])],\n",
       "       [DenseVector([303.0, 99.0, 2.0, 2.0, 2.5, 7.66, 0.0])],\n",
       "       [DenseVector([304.0, 100.0, 3.0, 1.5, 2.5, 7.84, 0.0])],\n",
       "       [DenseVector([306.0, 100.0, 1.0, 3.0, 3.0, 8.0, 0.0])],\n",
       "       [DenseVector([331.0, 120.0, 2.0, 4.0, 4.0, 8.96, 1.0])],\n",
       "       [DenseVector([332.0, 119.0, 3.0, 5.0, 4.5, 9.24, 1.0])],\n",
       "       [DenseVector([323.0, 113.0, 2.0, 4.0, 4.0, 8.88, 1.0])],\n",
       "       [DenseVector([322.0, 107.0, 2.0, 3.5, 3.5, 8.46, 1.0])],\n",
       "       [DenseVector([312.0, 105.0, 1.0, 2.5, 3.0, 8.12, 0.0])],\n",
       "       [DenseVector([314.0, 106.0, 1.0, 4.0, 3.5, 8.25, 0.0])],\n",
       "       [DenseVector([317.0, 104.0, 1.0, 4.5, 4.0, 8.47, 0.0])],\n",
       "       [DenseVector([326.0, 112.0, 2.0, 3.5, 3.0, 9.05, 1.0])],\n",
       "       [DenseVector([316.0, 110.0, 2.0, 4.0, 4.5, 8.78, 1.0])],\n",
       "       [DenseVector([329.0, 111.0, 3.0, 4.5, 4.5, 9.18, 1.0])],\n",
       "       [DenseVector([338.0, 117.0, 3.0, 3.5, 4.5, 9.46, 1.0])],\n",
       "       [DenseVector([331.0, 116.0, 4.0, 5.0, 5.0, 9.38, 1.0])],\n",
       "       [DenseVector([304.0, 103.0, 4.0, 5.0, 4.0, 8.64, 0.0])],\n",
       "       [DenseVector([305.0, 108.0, 4.0, 3.0, 3.0, 8.48, 0.0])],\n",
       "       [DenseVector([321.0, 109.0, 3.0, 4.0, 4.0, 8.68, 1.0])],\n",
       "       [DenseVector([301.0, 107.0, 2.0, 3.5, 3.5, 8.34, 1.0])],\n",
       "       [DenseVector([320.0, 110.0, 1.0, 4.0, 3.5, 8.56, 0.0])],\n",
       "       [DenseVector([311.0, 105.0, 2.0, 3.5, 3.0, 8.45, 1.0])],\n",
       "       [DenseVector([310.0, 106.0, 3.0, 4.5, 4.5, 9.04, 1.0])],\n",
       "       [DenseVector([299.0, 102.0, 2.0, 4.0, 3.5, 8.62, 0.0])],\n",
       "       [DenseVector([290.0, 104.0, 3.0, 2.0, 2.5, 7.46, 0.0])],\n",
       "       [DenseVector([296.0, 99.0, 1.0, 3.0, 3.5, 7.28, 0.0])],\n",
       "       [DenseVector([327.0, 104.0, 4.0, 3.0, 3.5, 8.84, 1.0])],\n",
       "       [DenseVector([335.0, 117.0, 4.0, 5.0, 5.0, 9.56, 1.0])],\n",
       "       [DenseVector([334.0, 119.0, 4.0, 4.5, 4.5, 9.48, 1.0])],\n",
       "       [DenseVector([310.0, 106.0, 3.0, 1.5, 2.5, 8.36, 0.0])],\n",
       "       [DenseVector([308.0, 108.0, 2.0, 3.5, 3.5, 8.22, 0.0])],\n",
       "       [DenseVector([301.0, 106.0, 3.0, 2.5, 3.0, 8.47, 0.0])],\n",
       "       [DenseVector([300.0, 100.0, 2.0, 2.0, 3.0, 8.66, 1.0])],\n",
       "       [DenseVector([323.0, 113.0, 2.0, 4.0, 3.0, 9.32, 1.0])],\n",
       "       [DenseVector([319.0, 112.0, 2.0, 2.5, 2.0, 8.71, 1.0])],\n",
       "       [DenseVector([326.0, 112.0, 2.0, 3.5, 3.0, 9.1, 1.0])],\n",
       "       [DenseVector([333.0, 118.0, 4.0, 5.0, 5.0, 9.35, 1.0])],\n",
       "       [DenseVector([339.0, 114.0, 4.0, 4.0, 4.5, 9.76, 1.0])],\n",
       "       [DenseVector([303.0, 105.0, 4.0, 5.0, 4.5, 8.65, 0.0])],\n",
       "       [DenseVector([309.0, 105.0, 4.0, 3.5, 3.5, 8.56, 0.0])],\n",
       "       [DenseVector([323.0, 112.0, 4.0, 4.0, 4.5, 8.78, 0.0])],\n",
       "       [DenseVector([333.0, 113.0, 4.0, 4.0, 4.0, 9.28, 1.0])],\n",
       "       [DenseVector([314.0, 109.0, 3.0, 3.5, 4.0, 8.77, 1.0])],\n",
       "       [DenseVector([312.0, 103.0, 2.0, 5.0, 4.0, 8.45, 0.0])],\n",
       "       [DenseVector([316.0, 100.0, 1.0, 1.5, 3.0, 8.16, 1.0])],\n",
       "       [DenseVector([326.0, 116.0, 1.0, 4.5, 3.0, 9.08, 1.0])],\n",
       "       [DenseVector([318.0, 109.0, 0.0, 3.5, 3.5, 9.12, 0.0])],\n",
       "       [DenseVector([329.0, 110.0, 1.0, 4.0, 3.0, 9.15, 1.0])],\n",
       "       [DenseVector([332.0, 118.0, 1.0, 4.5, 3.5, 9.36, 1.0])],\n",
       "       [DenseVector([331.0, 115.0, 4.0, 4.0, 3.5, 9.44, 1.0])],\n",
       "       [DenseVector([340.0, 120.0, 3.0, 4.5, 4.0, 9.92, 1.0])],\n",
       "       [DenseVector([325.0, 112.0, 1.0, 3.0, 3.5, 8.96, 1.0])],\n",
       "       [DenseVector([320.0, 113.0, 1.0, 2.0, 2.5, 8.64, 1.0])],\n",
       "       [DenseVector([315.0, 105.0, 2.0, 2.0, 2.5, 8.48, 0.0])],\n",
       "       [DenseVector([326.0, 114.0, 2.0, 3.0, 3.0, 9.11, 1.0])],\n",
       "       [DenseVector([339.0, 116.0, 3.0, 4.0, 3.5, 9.8, 1.0])],\n",
       "       [DenseVector([311.0, 106.0, 1.0, 3.5, 3.0, 8.26, 1.0])],\n",
       "       [DenseVector([334.0, 114.0, 3.0, 4.0, 4.0, 9.43, 1.0])],\n",
       "       [DenseVector([332.0, 116.0, 4.0, 5.0, 5.0, 9.28, 1.0])],\n",
       "       [DenseVector([321.0, 112.0, 4.0, 5.0, 5.0, 9.06, 1.0])],\n",
       "       [DenseVector([324.0, 105.0, 2.0, 3.0, 4.0, 8.75, 0.0])],\n",
       "       [DenseVector([326.0, 108.0, 2.0, 3.0, 3.5, 8.89, 0.0])],\n",
       "       [DenseVector([312.0, 109.0, 2.0, 3.0, 3.0, 8.69, 0.0])],\n",
       "       [DenseVector([315.0, 105.0, 2.0, 2.0, 2.5, 8.34, 0.0])],\n",
       "       [DenseVector([309.0, 104.0, 1.0, 2.0, 2.5, 8.26, 0.0])],\n",
       "       [DenseVector([306.0, 106.0, 1.0, 2.0, 2.5, 8.14, 0.0])],\n",
       "       [DenseVector([297.0, 100.0, 0.0, 1.5, 2.0, 7.9, 0.0])],\n",
       "       [DenseVector([315.0, 103.0, 0.0, 1.5, 2.0, 7.86, 0.0])],\n",
       "       [DenseVector([298.0, 99.0, 0.0, 1.5, 3.0, 7.46, 0.0])],\n",
       "       [DenseVector([318.0, 109.0, 2.0, 3.0, 3.0, 8.5, 0.0])],\n",
       "       [DenseVector([317.0, 105.0, 2.0, 3.5, 3.0, 8.56, 0.0])],\n",
       "       [DenseVector([329.0, 111.0, 3.0, 4.5, 4.0, 9.01, 1.0])],\n",
       "       [DenseVector([322.0, 110.0, 4.0, 4.5, 4.0, 8.97, 0.0])],\n",
       "       [DenseVector([302.0, 102.0, 2.0, 3.5, 5.0, 8.33, 0.0])],\n",
       "       [DenseVector([313.0, 102.0, 2.0, 2.0, 3.0, 8.27, 0.0])],\n",
       "       [DenseVector([293.0, 97.0, 1.0, 2.0, 4.0, 7.8, 1.0])],\n",
       "       [DenseVector([311.0, 99.0, 1.0, 2.5, 3.0, 7.98, 0.0])],\n",
       "       [DenseVector([312.0, 101.0, 1.0, 2.5, 3.5, 8.04, 1.0])],\n",
       "       [DenseVector([334.0, 117.0, 4.0, 4.0, 4.5, 9.07, 1.0])],\n",
       "       [DenseVector([322.0, 110.0, 3.0, 4.0, 5.0, 9.13, 1.0])],\n",
       "       [DenseVector([323.0, 113.0, 3.0, 4.0, 4.5, 9.23, 1.0])],\n",
       "       [DenseVector([321.0, 111.0, 3.0, 4.0, 4.0, 8.97, 1.0])],\n",
       "       [DenseVector([320.0, 111.0, 3.0, 4.5, 3.5, 8.87, 1.0])],\n",
       "       [DenseVector([329.0, 119.0, 3.0, 4.5, 4.5, 9.16, 1.0])],\n",
       "       [DenseVector([319.0, 110.0, 2.0, 3.5, 3.5, 9.04, 0.0])],\n",
       "       [DenseVector([309.0, 108.0, 2.0, 2.5, 3.0, 8.12, 0.0])],\n",
       "       [DenseVector([307.0, 102.0, 2.0, 3.0, 3.0, 8.27, 0.0])],\n",
       "       [DenseVector([300.0, 104.0, 2.0, 3.5, 3.0, 8.16, 0.0])],\n",
       "       [DenseVector([305.0, 107.0, 1.0, 2.5, 2.5, 8.42, 0.0])],\n",
       "       [DenseVector([299.0, 100.0, 1.0, 3.0, 3.5, 7.88, 0.0])],\n",
       "       [DenseVector([314.0, 110.0, 2.0, 4.0, 4.0, 8.8, 0.0])],\n",
       "       [DenseVector([316.0, 106.0, 1.0, 2.5, 4.0, 8.32, 0.0])],\n",
       "       [DenseVector([327.0, 113.0, 3.0, 4.5, 4.5, 9.11, 1.0])],\n",
       "       [DenseVector([317.0, 107.0, 2.0, 3.5, 3.0, 8.68, 1.0])],\n",
       "       [DenseVector([335.0, 118.0, 4.0, 4.5, 3.5, 9.44, 1.0])],\n",
       "       [DenseVector([331.0, 115.0, 4.0, 4.5, 3.5, 9.36, 1.0])],\n",
       "       [DenseVector([324.0, 112.0, 4.0, 5.0, 5.0, 9.08, 1.0])],\n",
       "       [DenseVector([324.0, 111.0, 4.0, 4.5, 4.0, 9.16, 1.0])],\n",
       "       [DenseVector([323.0, 110.0, 4.0, 4.0, 5.0, 8.98, 1.0])],\n",
       "       [DenseVector([322.0, 114.0, 4.0, 4.5, 4.0, 8.94, 1.0])],\n",
       "       [DenseVector([336.0, 118.0, 4.0, 4.5, 5.0, 9.53, 1.0])],\n",
       "       [DenseVector([316.0, 109.0, 2.0, 3.5, 3.0, 8.76, 0.0])],\n",
       "       [DenseVector([307.0, 107.0, 1.0, 3.0, 3.5, 8.52, 1.0])],\n",
       "       [DenseVector([306.0, 105.0, 1.0, 3.0, 2.5, 8.26, 0.0])],\n",
       "       [DenseVector([310.0, 106.0, 1.0, 3.5, 2.5, 8.33, 0.0])],\n",
       "       [DenseVector([311.0, 104.0, 2.0, 4.5, 4.5, 8.43, 0.0])],\n",
       "       [DenseVector([313.0, 107.0, 2.0, 4.0, 4.5, 8.69, 0.0])],\n",
       "       [DenseVector([317.0, 103.0, 2.0, 2.5, 3.0, 8.54, 1.0])],\n",
       "       [DenseVector([315.0, 110.0, 1.0, 3.5, 3.0, 8.46, 1.0])],\n",
       "       [DenseVector([340.0, 120.0, 4.0, 4.5, 4.5, 9.91, 1.0])],\n",
       "       [DenseVector([334.0, 120.0, 4.0, 4.0, 5.0, 9.87, 1.0])],\n",
       "       [DenseVector([298.0, 105.0, 2.0, 3.5, 4.0, 8.54, 0.0])],\n",
       "       [DenseVector([295.0, 99.0, 1.0, 2.5, 3.0, 7.65, 0.0])],\n",
       "       [DenseVector([315.0, 99.0, 1.0, 3.5, 3.0, 7.89, 0.0])],\n",
       "       [DenseVector([310.0, 102.0, 2.0, 3.5, 4.0, 8.02, 1.0])],\n",
       "       [DenseVector([305.0, 106.0, 1.0, 3.0, 3.0, 8.16, 0.0])],\n",
       "       [DenseVector([301.0, 104.0, 2.0, 3.5, 4.0, 8.12, 1.0])],\n",
       "       [DenseVector([325.0, 108.0, 3.0, 4.5, 4.0, 9.06, 1.0])],\n",
       "       [DenseVector([328.0, 110.0, 3.0, 5.0, 4.0, 9.14, 1.0])],\n",
       "       [DenseVector([338.0, 120.0, 3.0, 5.0, 5.0, 9.66, 1.0])],\n",
       "       [DenseVector([333.0, 119.0, 4.0, 5.0, 4.5, 9.78, 1.0])],\n",
       "       [DenseVector([331.0, 117.0, 3.0, 4.5, 5.0, 9.42, 1.0])],\n",
       "       [DenseVector([330.0, 116.0, 4.0, 5.0, 4.5, 9.36, 1.0])],\n",
       "       [DenseVector([322.0, 112.0, 3.0, 4.5, 4.5, 9.26, 1.0])],\n",
       "       [DenseVector([321.0, 109.0, 3.0, 4.0, 4.0, 9.13, 1.0])],\n",
       "       [DenseVector([324.0, 110.0, 3.0, 3.0, 3.5, 8.97, 1.0])],\n",
       "       [DenseVector([312.0, 104.0, 2.0, 3.5, 3.5, 8.42, 0.0])],\n",
       "       [DenseVector([313.0, 103.0, 2.0, 4.0, 4.0, 8.75, 0.0])],\n",
       "       [DenseVector([316.0, 110.0, 2.0, 3.5, 4.0, 8.56, 0.0])],\n",
       "       [DenseVector([324.0, 113.0, 3.0, 4.5, 4.0, 8.79, 0.0])],\n",
       "       [DenseVector([308.0, 109.0, 1.0, 3.0, 4.0, 8.45, 0.0])],\n",
       "       [DenseVector([305.0, 105.0, 1.0, 3.0, 2.0, 8.23, 0.0])],\n",
       "       [DenseVector([296.0, 99.0, 1.0, 2.5, 2.5, 8.03, 0.0])],\n",
       "       [DenseVector([306.0, 110.0, 1.0, 3.5, 4.0, 8.45, 0.0])],\n",
       "       [DenseVector([312.0, 110.0, 1.0, 3.5, 3.0, 8.53, 0.0])],\n",
       "       [DenseVector([318.0, 112.0, 2.0, 4.0, 3.5, 8.67, 0.0])],\n",
       "       [DenseVector([324.0, 111.0, 3.0, 3.0, 3.0, 9.01, 1.0])],\n",
       "       [DenseVector([313.0, 104.0, 2.0, 4.0, 4.5, 8.65, 0.0])],\n",
       "       [DenseVector([319.0, 106.0, 2.0, 3.5, 2.5, 8.33, 1.0])],\n",
       "       [DenseVector([312.0, 107.0, 1.0, 2.5, 3.5, 8.27, 0.0])],\n",
       "       [DenseVector([304.0, 100.0, 1.0, 2.5, 3.5, 8.07, 0.0])],\n",
       "       [DenseVector([330.0, 113.0, 4.0, 5.0, 4.0, 9.31, 1.0])],\n",
       "       [DenseVector([326.0, 111.0, 4.0, 4.5, 4.0, 9.23, 1.0])],\n",
       "       [DenseVector([325.0, 112.0, 3.0, 4.0, 4.5, 9.17, 1.0])],\n",
       "       [DenseVector([329.0, 114.0, 4.0, 4.5, 5.0, 9.19, 1.0])],\n",
       "       [DenseVector([310.0, 104.0, 2.0, 2.0, 3.5, 8.37, 0.0])],\n",
       "       [DenseVector([299.0, 100.0, 0.0, 1.5, 2.0, 7.89, 0.0])],\n",
       "       [DenseVector([296.0, 101.0, 0.0, 2.5, 3.0, 7.68, 0.0])],\n",
       "       [DenseVector([317.0, 103.0, 1.0, 2.5, 2.0, 8.15, 0.0])],\n",
       "       [DenseVector([324.0, 115.0, 2.0, 3.5, 3.0, 8.76, 1.0])],\n",
       "       [DenseVector([325.0, 114.0, 2.0, 3.5, 3.0, 9.04, 1.0])],\n",
       "       [DenseVector([314.0, 107.0, 1.0, 2.5, 4.0, 8.56, 0.0])],\n",
       "       [DenseVector([328.0, 110.0, 3.0, 4.0, 2.5, 9.02, 1.0])],\n",
       "       [DenseVector([316.0, 105.0, 2.0, 3.0, 3.5, 8.73, 0.0])],\n",
       "       [DenseVector([311.0, 104.0, 1.0, 2.5, 3.5, 8.48, 0.0])],\n",
       "       [DenseVector([324.0, 110.0, 2.0, 3.5, 4.0, 8.87, 1.0])],\n",
       "       [DenseVector([321.0, 111.0, 2.0, 3.5, 4.0, 8.83, 1.0])],\n",
       "       [DenseVector([320.0, 104.0, 2.0, 3.0, 2.5, 8.57, 1.0])],\n",
       "       [DenseVector([316.0, 99.0, 1.0, 2.5, 3.0, 9.0, 0.0])],\n",
       "       [DenseVector([318.0, 100.0, 1.0, 2.5, 3.5, 8.54, 1.0])],\n",
       "       [DenseVector([335.0, 115.0, 3.0, 4.5, 4.5, 9.68, 1.0])],\n",
       "       [DenseVector([321.0, 114.0, 3.0, 4.0, 5.0, 9.12, 0.0])],\n",
       "       [DenseVector([307.0, 110.0, 3.0, 4.0, 4.5, 8.37, 0.0])],\n",
       "       [DenseVector([309.0, 99.0, 2.0, 4.0, 4.0, 8.56, 0.0])],\n",
       "       [DenseVector([324.0, 100.0, 2.0, 4.0, 5.0, 8.64, 1.0])],\n",
       "       [DenseVector([326.0, 102.0, 3.0, 5.0, 5.0, 8.76, 1.0])],\n",
       "       [DenseVector([331.0, 119.0, 3.0, 5.0, 4.5, 9.34, 1.0])],\n",
       "       [DenseVector([327.0, 108.0, 4.0, 5.0, 3.5, 9.13, 1.0])],\n",
       "       [DenseVector([312.0, 104.0, 2.0, 3.5, 4.0, 8.09, 0.0])],\n",
       "       [DenseVector([308.0, 103.0, 1.0, 2.5, 4.0, 8.36, 1.0])],\n",
       "       [DenseVector([324.0, 111.0, 2.0, 2.5, 1.5, 8.79, 1.0])],\n",
       "       [DenseVector([325.0, 110.0, 1.0, 3.0, 2.5, 8.76, 1.0])],\n",
       "       [DenseVector([313.0, 102.0, 2.0, 2.5, 2.5, 8.68, 0.0])],\n",
       "       [DenseVector([312.0, 105.0, 1.0, 2.0, 2.5, 8.45, 0.0])],\n",
       "       [DenseVector([314.0, 107.0, 2.0, 3.0, 3.5, 8.17, 1.0])],\n",
       "       [DenseVector([327.0, 113.0, 3.0, 4.5, 5.0, 9.14, 0.0])],\n",
       "       [DenseVector([308.0, 108.0, 3.0, 4.5, 5.0, 8.34, 0.0])],\n",
       "       [DenseVector([306.0, 105.0, 1.0, 2.5, 3.0, 8.22, 1.0])],\n",
       "       [DenseVector([299.0, 96.0, 1.0, 1.5, 2.0, 7.86, 0.0])],\n",
       "       [DenseVector([294.0, 95.0, 0.0, 1.5, 1.5, 7.64, 0.0])],\n",
       "       [DenseVector([312.0, 99.0, 0.0, 1.0, 1.5, 8.01, 1.0])],\n",
       "       [DenseVector([315.0, 100.0, 0.0, 2.0, 2.5, 7.95, 0.0])],\n",
       "       [DenseVector([322.0, 110.0, 2.0, 3.5, 3.0, 8.96, 1.0])],\n",
       "       [DenseVector([329.0, 113.0, 4.0, 5.0, 4.5, 9.45, 1.0])],\n",
       "       [DenseVector([320.0, 101.0, 1.0, 2.5, 3.0, 8.62, 0.0])],\n",
       "       [DenseVector([308.0, 103.0, 1.0, 3.0, 3.5, 8.49, 0.0])],\n",
       "       [DenseVector([304.0, 102.0, 1.0, 3.0, 4.0, 8.73, 0.0])],\n",
       "       [DenseVector([311.0, 102.0, 2.0, 4.5, 4.0, 8.64, 1.0])],\n",
       "       [DenseVector([317.0, 110.0, 2.0, 4.0, 4.5, 9.11, 1.0])],\n",
       "       [DenseVector([312.0, 106.0, 2.0, 4.0, 3.5, 8.79, 1.0])],\n",
       "       [DenseVector([321.0, 111.0, 2.0, 2.5, 3.0, 8.9, 1.0])],\n",
       "       [DenseVector([340.0, 112.0, 3.0, 5.0, 4.5, 9.66, 1.0])],\n",
       "       [DenseVector([331.0, 116.0, 4.0, 4.0, 4.0, 9.26, 1.0])],\n",
       "       [DenseVector([336.0, 118.0, 4.0, 4.5, 4.0, 9.19, 1.0])],\n",
       "       [DenseVector([324.0, 114.0, 4.0, 5.0, 4.5, 9.08, 1.0])],\n",
       "       [DenseVector([314.0, 104.0, 3.0, 5.0, 5.0, 9.02, 0.0])],\n",
       "       [DenseVector([313.0, 109.0, 2.0, 4.0, 3.5, 9.0, 0.0])],\n",
       "       [DenseVector([307.0, 105.0, 1.0, 2.5, 3.0, 7.65, 0.0])],\n",
       "       [DenseVector([300.0, 102.0, 1.0, 1.5, 2.0, 7.87, 0.0])],\n",
       "       [DenseVector([302.0, 99.0, 1.0, 1.0, 2.0, 7.97, 0.0])],\n",
       "       [DenseVector([312.0, 98.0, 0.0, 3.5, 3.0, 8.18, 1.0])],\n",
       "       [DenseVector([316.0, 101.0, 1.0, 2.5, 2.0, 8.32, 1.0])],\n",
       "       [DenseVector([317.0, 100.0, 1.0, 3.0, 2.5, 8.57, 0.0])],\n",
       "       [DenseVector([310.0, 107.0, 2.0, 3.5, 3.5, 8.67, 0.0])],\n",
       "       [DenseVector([320.0, 120.0, 2.0, 4.0, 4.5, 9.11, 0.0])],\n",
       "       [DenseVector([330.0, 114.0, 2.0, 4.5, 4.5, 9.24, 1.0])],\n",
       "       [DenseVector([305.0, 112.0, 2.0, 3.0, 3.5, 8.65, 0.0])],\n",
       "       [DenseVector([309.0, 106.0, 1.0, 2.5, 2.5, 8.0, 0.0])],\n",
       "       [DenseVector([319.0, 108.0, 1.0, 2.5, 3.0, 8.76, 0.0])],\n",
       "       [DenseVector([322.0, 105.0, 1.0, 3.0, 3.0, 8.45, 1.0])],\n",
       "       [DenseVector([323.0, 107.0, 2.0, 3.5, 3.5, 8.55, 1.0])],\n",
       "       [DenseVector([313.0, 106.0, 1.0, 2.5, 2.0, 8.43, 0.0])],\n",
       "       [DenseVector([321.0, 109.0, 2.0, 3.5, 3.5, 8.8, 1.0])],\n",
       "       [DenseVector([323.0, 110.0, 2.0, 4.0, 3.5, 9.1, 1.0])],\n",
       "       [DenseVector([325.0, 112.0, 3.0, 4.0, 4.0, 9.0, 1.0])],\n",
       "       [DenseVector([312.0, 108.0, 2.0, 3.5, 3.0, 8.53, 0.0])],\n",
       "       [DenseVector([308.0, 110.0, 3.0, 3.5, 3.0, 8.6, 0.0])],\n",
       "       [DenseVector([320.0, 104.0, 2.0, 3.0, 3.5, 8.74, 1.0])],\n",
       "       [DenseVector([328.0, 108.0, 3.0, 4.5, 4.0, 9.18, 1.0])],\n",
       "       [DenseVector([311.0, 107.0, 3.0, 4.5, 4.5, 9.0, 1.0])],\n",
       "       [DenseVector([301.0, 100.0, 2.0, 3.5, 3.0, 8.04, 0.0])],\n",
       "       [DenseVector([305.0, 105.0, 1.0, 3.0, 4.0, 8.13, 0.0])],\n",
       "       [DenseVector([308.0, 104.0, 1.0, 2.5, 3.0, 8.07, 0.0])],\n",
       "       [DenseVector([298.0, 101.0, 1.0, 1.5, 2.0, 7.86, 0.0])],\n",
       "       [DenseVector([300.0, 99.0, 0.0, 1.0, 2.5, 8.01, 0.0])],\n",
       "       [DenseVector([324.0, 111.0, 2.0, 2.5, 2.0, 8.8, 1.0])],\n",
       "       [DenseVector([327.0, 113.0, 3.0, 3.5, 3.0, 8.69, 1.0])],\n",
       "       [DenseVector([317.0, 106.0, 2.0, 4.0, 3.5, 8.5, 1.0])],\n",
       "       [DenseVector([323.0, 104.0, 2.0, 4.0, 4.0, 8.44, 1.0])],\n",
       "       [DenseVector([314.0, 107.0, 1.0, 2.5, 4.0, 8.27, 0.0])],\n",
       "       [DenseVector([305.0, 102.0, 1.0, 2.0, 2.5, 8.18, 0.0])],\n",
       "       [DenseVector([315.0, 104.0, 2.0, 3.0, 2.5, 8.33, 0.0])],\n",
       "       [DenseVector([326.0, 116.0, 2.0, 3.5, 4.0, 9.14, 1.0])],\n",
       "       [DenseVector([299.0, 100.0, 2.0, 2.0, 2.0, 8.02, 0.0])],\n",
       "       [DenseVector([295.0, 101.0, 1.0, 2.5, 2.0, 7.86, 0.0])],\n",
       "       [DenseVector([324.0, 112.0, 3.0, 4.0, 3.5, 8.77, 1.0])],\n",
       "       [DenseVector([297.0, 96.0, 1.0, 2.5, 1.5, 7.89, 0.0])],\n",
       "       [DenseVector([327.0, 113.0, 2.0, 3.5, 3.0, 8.66, 1.0])],\n",
       "       [DenseVector([311.0, 105.0, 1.0, 3.0, 2.0, 8.12, 1.0])],\n",
       "       [DenseVector([308.0, 106.0, 2.0, 3.5, 2.5, 8.21, 1.0])],\n",
       "       [DenseVector([319.0, 108.0, 2.0, 3.0, 3.5, 8.54, 1.0])],\n",
       "       [DenseVector([312.0, 107.0, 3.0, 4.5, 4.0, 8.65, 1.0])],\n",
       "       [DenseVector([325.0, 111.0, 3.0, 4.0, 4.5, 9.11, 1.0])],\n",
       "       [DenseVector([319.0, 110.0, 2.0, 3.0, 2.5, 8.79, 0.0])],\n",
       "       [DenseVector([332.0, 118.0, 4.0, 5.0, 5.0, 9.47, 1.0])],\n",
       "       [DenseVector([323.0, 108.0, 4.0, 4.0, 4.0, 8.74, 1.0])],\n",
       "       [DenseVector([324.0, 107.0, 4.0, 3.5, 4.0, 8.66, 1.0])],\n",
       "       [DenseVector([312.0, 107.0, 2.0, 3.0, 3.0, 8.46, 1.0])],\n",
       "       [DenseVector([326.0, 110.0, 2.0, 3.5, 3.5, 8.76, 1.0])],\n",
       "       [DenseVector([308.0, 106.0, 2.0, 3.0, 3.0, 8.24, 0.0])],\n",
       "       [DenseVector([305.0, 103.0, 1.0, 2.5, 3.5, 8.13, 0.0])],\n",
       "       [DenseVector([295.0, 96.0, 1.0, 1.5, 2.0, 7.34, 0.0])],\n",
       "       [DenseVector([316.0, 98.0, 0.0, 1.5, 2.0, 7.43, 0.0])],\n",
       "       [DenseVector([304.0, 97.0, 1.0, 1.5, 2.0, 7.64, 0.0])],\n",
       "       [DenseVector([299.0, 94.0, 0.0, 1.0, 1.0, 7.34, 0.0])],\n",
       "       [DenseVector([302.0, 99.0, 0.0, 2.0, 2.0, 7.25, 0.0])],\n",
       "       [DenseVector([313.0, 101.0, 2.0, 2.5, 3.0, 8.04, 0.0])],\n",
       "       [DenseVector([318.0, 107.0, 2.0, 3.0, 3.5, 8.27, 1.0])],\n",
       "       [DenseVector([325.0, 110.0, 3.0, 3.5, 4.0, 8.67, 1.0])],\n",
       "       [DenseVector([303.0, 100.0, 1.0, 3.0, 3.5, 8.06, 1.0])],\n",
       "       [DenseVector([300.0, 102.0, 2.0, 3.5, 2.5, 8.17, 0.0])],\n",
       "       [DenseVector([297.0, 98.0, 1.0, 2.5, 3.0, 7.67, 0.0])],\n",
       "       [DenseVector([317.0, 106.0, 1.0, 2.0, 3.5, 8.12, 0.0])],\n",
       "       [DenseVector([327.0, 109.0, 2.0, 3.5, 4.0, 8.77, 1.0])],\n",
       "       [DenseVector([301.0, 104.0, 1.0, 3.5, 3.5, 7.89, 1.0])],\n",
       "       [DenseVector([314.0, 105.0, 1.0, 2.5, 2.0, 7.64, 0.0])],\n",
       "       [DenseVector([321.0, 107.0, 1.0, 2.0, 1.5, 8.44, 0.0])],\n",
       "       [DenseVector([322.0, 110.0, 2.0, 4.0, 5.0, 8.64, 1.0])],\n",
       "       [DenseVector([334.0, 116.0, 3.0, 4.0, 3.5, 9.54, 1.0])],\n",
       "       [DenseVector([338.0, 115.0, 4.0, 4.5, 5.0, 9.23, 1.0])],\n",
       "       [DenseVector([306.0, 103.0, 1.0, 2.5, 3.0, 8.36, 0.0])],\n",
       "       [DenseVector([313.0, 102.0, 2.0, 3.5, 4.0, 8.9, 1.0])],\n",
       "       [DenseVector([330.0, 114.0, 3.0, 4.5, 3.0, 9.17, 1.0])],\n",
       "       [DenseVector([320.0, 104.0, 2.0, 3.5, 4.5, 8.34, 1.0])],\n",
       "       [DenseVector([311.0, 98.0, 0.0, 1.0, 2.5, 7.46, 0.0])],\n",
       "       [DenseVector([298.0, 92.0, 0.0, 2.0, 2.0, 7.88, 0.0])],\n",
       "       [DenseVector([301.0, 98.0, 0.0, 2.0, 3.0, 8.03, 1.0])],\n",
       "       [DenseVector([310.0, 103.0, 1.0, 2.5, 2.5, 8.24, 0.0])],\n",
       "       [DenseVector([324.0, 110.0, 2.0, 3.5, 3.0, 9.22, 1.0])],\n",
       "       [DenseVector([336.0, 119.0, 3.0, 4.5, 4.0, 9.62, 1.0])],\n",
       "       [DenseVector([321.0, 109.0, 2.0, 3.0, 3.0, 8.54, 1.0])],\n",
       "       [DenseVector([315.0, 105.0, 1.0, 2.0, 2.5, 7.65, 0.0])],\n",
       "       [DenseVector([304.0, 101.0, 1.0, 2.0, 2.5, 7.66, 0.0])],\n",
       "       [DenseVector([297.0, 96.0, 1.0, 2.5, 2.0, 7.43, 0.0])],\n",
       "       [DenseVector([290.0, 100.0, 0.0, 1.5, 2.0, 7.56, 0.0])],\n",
       "       [DenseVector([303.0, 98.0, 0.0, 2.0, 2.5, 7.65, 0.0])],\n",
       "       [DenseVector([311.0, 99.0, 0.0, 2.5, 3.0, 8.43, 1.0])],\n",
       "       [DenseVector([322.0, 104.0, 2.0, 3.5, 4.0, 8.84, 1.0])],\n",
       "       [DenseVector([319.0, 105.0, 2.0, 3.0, 3.5, 8.67, 1.0])],\n",
       "       [DenseVector([324.0, 110.0, 3.0, 4.5, 4.0, 9.15, 1.0])],\n",
       "       [DenseVector([300.0, 100.0, 2.0, 3.0, 3.5, 8.26, 0.0])],\n",
       "       [DenseVector([340.0, 113.0, 3.0, 5.0, 5.0, 9.74, 1.0])],\n",
       "       [DenseVector([335.0, 117.0, 4.0, 5.0, 5.0, 9.82, 1.0])],\n",
       "       [DenseVector([302.0, 101.0, 1.0, 2.5, 3.5, 7.96, 0.0])],\n",
       "       [DenseVector([307.0, 105.0, 1.0, 2.0, 3.5, 8.1, 0.0])],\n",
       "       [DenseVector([296.0, 97.0, 1.0, 1.5, 2.0, 7.8, 0.0])],\n",
       "       [DenseVector([320.0, 108.0, 2.0, 3.5, 4.0, 8.44, 1.0])],\n",
       "       [DenseVector([314.0, 102.0, 1.0, 2.0, 2.5, 8.24, 0.0])],\n",
       "       [DenseVector([318.0, 106.0, 2.0, 2.0, 3.0, 8.65, 0.0])],\n",
       "       [DenseVector([326.0, 112.0, 3.0, 4.0, 3.5, 9.12, 1.0])],\n",
       "       [DenseVector([317.0, 107.407, 1.0, 3.0, 3.0, 8.76, 0.0])],\n",
       "       [DenseVector([329.0, 111.0, 3.0, 4.5, 4.0, 9.23, 1.0])],\n",
       "       [DenseVector([324.0, 110.0, 2.0, 3.5, 3.5, 9.04, 1.0])],\n",
       "       [DenseVector([325.0, 107.0, 2.0, 3.0, 3.5, 9.11, 1.0])],\n",
       "       [DenseVector([330.0, 116.0, 3.0, 5.0, 4.5, 9.45, 1.0])],\n",
       "       [DenseVector([312.0, 103.0, 2.0, 3.5, 4.0, 8.78, 0.0])],\n",
       "       [DenseVector([333.0, 117.0, 3.0, 5.0, 4.0, 9.66, 1.0])]],\n",
       "      dtype=object)"
      ]
     },
     "execution_count": 550,
     "metadata": {},
     "output_type": "execute_result"
    }
   ],
   "source": [
    "featureIndexer.select(\"indexedFeatures\").toPandas().values"
   ]
  },
  {
   "cell_type": "code",
   "execution_count": 551,
   "metadata": {
    "id": "TC3RPxI793Ep"
   },
   "outputs": [
    {
     "name": "stdout",
     "output_type": "stream",
     "text": [
      "+--------------------+---------------+\n",
      "|     indexedFeatures|Chance of Admit|\n",
      "+--------------------+---------------+\n",
      "|[337.0,118.0,3.0,...|           0.92|\n",
      "|[324.0,107.0,3.0,...|           0.76|\n",
      "|[316.0,104.0,2.0,...|           0.72|\n",
      "|[322.0,110.0,2.0,...|            0.8|\n",
      "|[314.0,103.0,1.0,...|           0.65|\n",
      "|[330.0,115.0,4.0,...|            0.9|\n",
      "|[321.0,109.0,2.0,...|           0.75|\n",
      "|[308.0,101.0,1.0,...|           0.68|\n",
      "|[302.0,102.0,0.0,...|            0.5|\n",
      "|[316.771362304687...|           0.45|\n",
      "|[316.771362304687...|           0.52|\n",
      "|[327.0,111.0,3.0,...|           0.84|\n",
      "|[328.0,107.407035...|           0.78|\n",
      "|[307.0,109.0,2.0,...|           0.62|\n",
      "|[311.0,104.0,2.0,...|           0.61|\n",
      "|[314.0,105.0,2.0,...|           0.54|\n",
      "|[317.0,107.0,2.0,...|           0.66|\n",
      "|[319.0,106.0,2.0,...|           0.65|\n",
      "|[318.0,110.0,2.0,...|           0.63|\n",
      "|[303.0,102.0,2.0,...|           0.62|\n",
      "+--------------------+---------------+\n",
      "only showing top 20 rows\n",
      "\n"
     ]
    }
   ],
   "source": [
    "new_indexed_data = featureIndexer.select(\"indexedFeatures\", \"Chance of Admit\")\n",
    "new_indexed_data.show()"
   ]
  },
  {
   "cell_type": "code",
   "execution_count": 552,
   "metadata": {
    "id": "Hinv0km893Ep"
   },
   "outputs": [],
   "source": [
    "training, test = new_indexed_data.randomSplit([0.75, 0.25])"
   ]
  },
  {
   "cell_type": "code",
   "execution_count": 553,
   "metadata": {},
   "outputs": [
    {
     "data": {
      "text/plain": [
       "292"
      ]
     },
     "execution_count": 553,
     "metadata": {},
     "output_type": "execute_result"
    }
   ],
   "source": [
    "training.count()"
   ]
  },
  {
   "cell_type": "code",
   "execution_count": 554,
   "metadata": {
    "id": "zhH168FW93Ep",
    "outputId": "d03acf9e-516d-467e-b2b2-0c3fdc3f22c8"
   },
   "outputs": [
    {
     "name": "stdout",
     "output_type": "stream",
     "text": [
      "+--------------------+---------------+\n",
      "|     indexedFeatures|Chance of Admit|\n",
      "+--------------------+---------------+\n",
      "|[290.0,100.0,0.0,...|           0.47|\n",
      "|[290.0,104.0,3.0,...|           0.45|\n",
      "|[293.0,97.0,1.0,2...|           0.64|\n",
      "|[294.0,95.0,0.0,1...|           0.49|\n",
      "|[295.0,93.0,0.0,2...|           0.46|\n",
      "|[295.0,96.0,1.0,1...|           0.47|\n",
      "|[295.0,101.0,1.0,...|           0.69|\n",
      "|[296.0,95.0,1.0,3...|           0.44|\n",
      "|[296.0,97.0,1.0,1...|           0.49|\n",
      "|[296.0,99.0,1.0,2...|           0.61|\n",
      "|[296.0,101.0,0.0,...|            0.6|\n",
      "|[297.0,96.0,1.0,2...|           0.43|\n",
      "|[297.0,96.0,1.0,2...|           0.34|\n",
      "|[297.0,98.0,1.0,2...|           0.59|\n",
      "|[297.0,100.0,0.0,...|           0.52|\n",
      "|[298.0,92.0,0.0,2...|           0.51|\n",
      "|[298.0,98.0,1.0,1...|           0.44|\n",
      "|[298.0,98.0,1.0,4...|           0.34|\n",
      "|[298.0,99.0,1.0,4...|           0.46|\n",
      "|[298.0,101.0,1.0,...|           0.54|\n",
      "+--------------------+---------------+\n",
      "only showing top 20 rows\n",
      "\n"
     ]
    }
   ],
   "source": [
    "training.show()"
   ]
  },
  {
   "cell_type": "code",
   "execution_count": 555,
   "metadata": {},
   "outputs": [
    {
     "data": {
      "text/plain": [
       "108"
      ]
     },
     "execution_count": 555,
     "metadata": {},
     "output_type": "execute_result"
    }
   ],
   "source": [
    "test.count()"
   ]
  },
  {
   "cell_type": "code",
   "execution_count": 556,
   "metadata": {
    "id": "Gj5Ik1AO93Et",
    "outputId": "937c8394-80c8-4be6-d4cb-ca29bbecafeb"
   },
   "outputs": [
    {
     "name": "stdout",
     "output_type": "stream",
     "text": [
      "+--------------------+---------------+\n",
      "|     indexedFeatures|Chance of Admit|\n",
      "+--------------------+---------------+\n",
      "|[294.0,93.0,0.0,1...|           0.46|\n",
      "|[295.0,99.0,1.0,2...|           0.57|\n",
      "|[296.0,99.0,1.0,3...|           0.47|\n",
      "|[298.0,99.0,0.0,1...|           0.53|\n",
      "|[298.0,105.0,2.0,...|           0.69|\n",
      "|[299.0,96.0,1.0,1...|           0.54|\n",
      "|[299.0,100.0,0.0,...|           0.59|\n",
      "|[300.0,102.0,2.0,...|           0.63|\n",
      "|[300.0,105.0,0.0,...|           0.58|\n",
      "|[301.0,99.0,1.0,3...|           0.64|\n",
      "|[301.0,100.0,2.0,...|           0.67|\n",
      "|[301.0,104.0,1.0,...|           0.68|\n",
      "|[301.0,104.0,2.0,...|           0.68|\n",
      "|[302.0,99.0,0.0,2...|           0.57|\n",
      "|[303.0,99.0,2.0,2...|           0.36|\n",
      "|[303.0,102.0,2.0,...|           0.62|\n",
      "|[304.0,100.0,3.0,...|           0.42|\n",
      "|[304.0,101.0,1.0,...|           0.38|\n",
      "|[304.0,105.0,0.0,...|           0.52|\n",
      "|[305.0,108.0,4.0,...|           0.61|\n",
      "+--------------------+---------------+\n",
      "only showing top 20 rows\n",
      "\n"
     ]
    }
   ],
   "source": [
    "test.show()"
   ]
  },
  {
   "cell_type": "code",
   "execution_count": 557,
   "metadata": {},
   "outputs": [],
   "source": [
    "# help(RandomForestRegressor)"
   ]
  },
  {
   "cell_type": "code",
   "execution_count": 558,
   "metadata": {
    "id": "CquthDNk93Et"
   },
   "outputs": [],
   "source": [
    "random_forest_reg = RandomForestRegressor(featuresCol=\"features\",labelCol=\"Chance of Admit\", maxDepth=5, numTrees=100)"
   ]
  },
  {
   "cell_type": "code",
   "execution_count": 559,
   "metadata": {
    "id": "oUtGopm693Et",
    "outputId": "e9e7fe17-3924-4601-d6f2-05293e027b60"
   },
   "outputs": [],
   "source": [
    "# Train model.  This also runs the indexer.\n",
    "model = random_forest_reg.fit(train_df)"
   ]
  },
  {
   "cell_type": "code",
   "execution_count": 560,
   "metadata": {},
   "outputs": [],
   "source": [
    "# help(model.transform)"
   ]
  },
  {
   "cell_type": "code",
   "execution_count": 561,
   "metadata": {
    "id": "35Nqo3Cs93Et"
   },
   "outputs": [],
   "source": [
    "# Make predictions.\n",
    "predictions = model.transform(test_df)"
   ]
  },
  {
   "cell_type": "code",
   "execution_count": 562,
   "metadata": {
    "id": "SKKVSl6D93Et",
    "outputId": "b0bb386f-9d9d-4d76-ab2c-28670889c6ab"
   },
   "outputs": [
    {
     "name": "stdout",
     "output_type": "stream",
     "text": [
      "+--------------------+---------------+------------------+\n",
      "|            features|Chance of Admit|        prediction|\n",
      "+--------------------+---------------+------------------+\n",
      "|[290.0,100.0,1.0,...|           0.47|0.5120650844908395|\n",
      "|[298.0,98.0,2.0,4...|           0.34|0.5761038363996677|\n",
      "|[298.0,99.0,1.0,1...|           0.53|0.5101023457289444|\n",
      "|[299.0,100.0,1.0,...|           0.59|0.5358766417021282|\n",
      "|[299.0,100.0,2.0,...|           0.68|0.5633116777473302|\n",
      "|[299.0,100.0,3.0,...|           0.63|0.5640865626872639|\n",
      "|[300.0,97.0,2.0,3...|           0.65|0.6009313621735624|\n",
      "|[300.0,100.0,3.0,...|           0.64|0.6629430066440152|\n",
      "|[300.0,100.0,3.0,...|           0.62|0.6489154639562336|\n",
      "|[300.0,102.0,3.0,...|           0.63|0.6454860003030687|\n",
      "|[301.0,97.0,2.0,3...|           0.44| 0.556417879460476|\n",
      "|[301.0,107.0,3.0,...|           0.62|0.6751494255386997|\n",
      "|[302.0,99.0,1.0,2...|           0.57|0.4877015738269034|\n",
      "|[302.0,102.0,1.0,...|            0.5|0.5704433541199129|\n",
      "|[304.0,97.0,2.0,1...|           0.47|0.5044008699510043|\n",
      "|[304.0,100.0,2.0,...|           0.64|0.6149005735904758|\n",
      "|[304.0,100.0,4.0,...|           0.42|0.5337998855829336|\n",
      "|[304.0,103.0,5.0,...|           0.68|0.7090130321330144|\n",
      "|[305.0,105.0,2.0,...|           0.66|0.6451595316319159|\n",
      "|[305.0,106.0,2.0,...|           0.64|0.6313962217436472|\n",
      "+--------------------+---------------+------------------+\n",
      "only showing top 20 rows\n",
      "\n"
     ]
    }
   ],
   "source": [
    "predictions.show()"
   ]
  },
  {
   "cell_type": "code",
   "execution_count": 563,
   "metadata": {
    "id": "SXftSzUN93Et",
    "outputId": "ae9a2411-ef10-48dc-a1f5-7541399cea8b"
   },
   "outputs": [
    {
     "name": "stdout",
     "output_type": "stream",
     "text": [
      "Root Mean Squared Error (RMSE) on test data =  0.0679207127850079\n"
     ]
    }
   ],
   "source": [
    "evaluator = RegressionEvaluator(labelCol=\"Chance of Admit\", predictionCol=\"prediction\", metricName=\"rmse\")\n",
    "print (\"Root Mean Squared Error (RMSE) on test data = \",evaluator.evaluate(predictions))"
   ]
  },
  {
   "cell_type": "code",
   "execution_count": 564,
   "metadata": {
    "id": "rccn08v093Et",
    "outputId": "6382e667-b8cc-4a7b-e6a3-d7b938ae05a8"
   },
   "outputs": [
    {
     "name": "stdout",
     "output_type": "stream",
     "text": [
      "R Squared (R2) on test data = 0.7837979805773387\n"
     ]
    }
   ],
   "source": [
    "evaluator = RegressionEvaluator(labelCol=\"Chance of Admit\", predictionCol=\"prediction\", metricName=\"r2\")\n",
    "print(\"R Squared (R2) on test data =\", evaluator.evaluate(predictions))"
   ]
  },
  {
   "cell_type": "markdown",
   "metadata": {
    "id": "vOzKQm6693Et"
   },
   "source": [
    "---"
   ]
  },
  {
   "cell_type": "code",
   "execution_count": 565,
   "metadata": {},
   "outputs": [],
   "source": [
    "random_forest_reg = RandomForestRegressor(featuresCol=\"indexedFeatures\",labelCol=\"Chance of Admit\", maxDepth=5, numTrees=100)"
   ]
  },
  {
   "cell_type": "code",
   "execution_count": 566,
   "metadata": {},
   "outputs": [],
   "source": [
    "# Train model.  This also runs the indexer.\n",
    "model = random_forest_reg.fit(training)"
   ]
  },
  {
   "cell_type": "code",
   "execution_count": 567,
   "metadata": {},
   "outputs": [],
   "source": [
    "# Make predictions.\n",
    "predictions = model.transform(test)"
   ]
  },
  {
   "cell_type": "code",
   "execution_count": 568,
   "metadata": {},
   "outputs": [
    {
     "name": "stdout",
     "output_type": "stream",
     "text": [
      "+--------------------+---------------+------------------+\n",
      "|     indexedFeatures|Chance of Admit|        prediction|\n",
      "+--------------------+---------------+------------------+\n",
      "|[294.0,93.0,0.0,1...|           0.46|0.4624708570116596|\n",
      "|[295.0,99.0,1.0,2...|           0.57|0.5204775070582908|\n",
      "|[296.0,99.0,1.0,3...|           0.47|0.5146760704859638|\n",
      "|[298.0,99.0,0.0,1...|           0.53|0.5200461913294759|\n",
      "|[298.0,105.0,2.0,...|           0.69| 0.644905399984525|\n",
      "|[299.0,96.0,1.0,1...|           0.54|0.4954163814141037|\n",
      "|[299.0,100.0,0.0,...|           0.59|0.5422583945610766|\n",
      "|[300.0,102.0,2.0,...|           0.63|0.6218851896244039|\n",
      "|[300.0,105.0,0.0,...|           0.58|0.5569522318634973|\n",
      "|[301.0,99.0,1.0,3...|           0.64| 0.567359535042627|\n",
      "|[301.0,100.0,2.0,...|           0.67|0.6062516684255164|\n",
      "|[301.0,104.0,1.0,...|           0.68|0.5875582767322649|\n",
      "|[301.0,104.0,2.0,...|           0.68|0.6421028776791847|\n",
      "|[302.0,99.0,0.0,2...|           0.57|0.5144054894520049|\n",
      "|[303.0,99.0,2.0,2...|           0.36| 0.550135945927892|\n",
      "|[303.0,102.0,2.0,...|           0.62|0.6528400831073413|\n",
      "|[304.0,100.0,3.0,...|           0.42|0.5764243206433104|\n",
      "|[304.0,101.0,1.0,...|           0.38|0.5610583855226353|\n",
      "|[304.0,105.0,0.0,...|           0.52|0.5729107170799727|\n",
      "|[305.0,108.0,4.0,...|           0.61|0.6739263645652476|\n",
      "+--------------------+---------------+------------------+\n",
      "only showing top 20 rows\n",
      "\n"
     ]
    }
   ],
   "source": [
    "predictions.show()"
   ]
  },
  {
   "cell_type": "code",
   "execution_count": 569,
   "metadata": {},
   "outputs": [
    {
     "name": "stdout",
     "output_type": "stream",
     "text": [
      "Root Mean Squared Error (RMSE) on test data =  0.06274252495996646\n"
     ]
    }
   ],
   "source": [
    "evaluator = RegressionEvaluator(labelCol=\"Chance of Admit\", predictionCol=\"prediction\", metricName=\"rmse\")\n",
    "print (\"Root Mean Squared Error (RMSE) on test data = \",evaluator.evaluate(predictions))"
   ]
  },
  {
   "cell_type": "code",
   "execution_count": 570,
   "metadata": {},
   "outputs": [
    {
     "name": "stdout",
     "output_type": "stream",
     "text": [
      "R Squared (R2) on test data = 0.8039148588611241\n"
     ]
    }
   ],
   "source": [
    "evaluator = RegressionEvaluator(labelCol=\"Chance of Admit\", predictionCol=\"prediction\", metricName=\"r2\")\n",
    "print(\"R Squared (R2) on test data =\", evaluator.evaluate(predictions))"
   ]
  },
  {
   "cell_type": "code",
   "execution_count": null,
   "metadata": {},
   "outputs": [],
   "source": []
  },
  {
   "cell_type": "code",
   "execution_count": null,
   "metadata": {},
   "outputs": [],
   "source": []
  }
 ],
 "metadata": {
  "colab": {
   "provenance": []
  },
  "kernelspec": {
   "display_name": "PySparkEnv",
   "language": "python",
   "name": "python3"
  },
  "language_info": {
   "codemirror_mode": {
    "name": "ipython",
    "version": 3
   },
   "file_extension": ".py",
   "mimetype": "text/x-python",
   "name": "python",
   "nbconvert_exporter": "python",
   "pygments_lexer": "ipython3",
   "version": "3.10.15"
  }
 },
 "nbformat": 4,
 "nbformat_minor": 0
}
