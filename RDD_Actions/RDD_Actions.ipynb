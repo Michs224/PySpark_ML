{
 "cells": [
  {
   "cell_type": "markdown",
   "metadata": {},
   "source": [
    "**What is the SparkContext:** Main entry point for Spark functionality. A SparkContext represents the connection to a Spark cluster, and can be used to create RDDs, accumulators and broadcast variables on that cluster. Only one SparkContext may be active per JVM. You must stop() the active SparkContext before creating a new one."
   ]
  },
  {
   "cell_type": "code",
   "execution_count": 1,
   "metadata": {},
   "outputs": [],
   "source": [
    "from pyspark import SparkContext, SparkConf"
   ]
  },
  {
   "cell_type": "code",
   "execution_count": 2,
   "metadata": {},
   "outputs": [
    {
     "name": "stdout",
     "output_type": "stream",
     "text": [
      "Help on class SparkContext in module pyspark.context:\n",
      "\n",
      "class SparkContext(builtins.object)\n",
      " |  SparkContext(master: Optional[str] = None, appName: Optional[str] = None, sparkHome: Optional[str] = None, pyFiles: Optional[List[str]] = None, environment: Optional[Dict[str, Any]] = None, batchSize: int = 0, serializer: 'Serializer' = CloudPickleSerializer(), conf: Optional[pyspark.conf.SparkConf] = None, gateway: Optional[py4j.java_gateway.JavaGateway] = None, jsc: Optional[py4j.java_gateway.JavaObject] = None, profiler_cls: Type[pyspark.profiler.BasicProfiler] = <class 'pyspark.profiler.BasicProfiler'>, udf_profiler_cls: Type[pyspark.profiler.UDFBasicProfiler] = <class 'pyspark.profiler.UDFBasicProfiler'>, memory_profiler_cls: Type[pyspark.profiler.MemoryProfiler] = <class 'pyspark.profiler.MemoryProfiler'>)\n",
      " |  \n",
      " |  Main entry point for Spark functionality. A SparkContext represents the\n",
      " |  connection to a Spark cluster, and can be used to create :class:`RDD` and\n",
      " |  broadcast variables on that cluster.\n",
      " |  \n",
      " |  When you create a new SparkContext, at least the master and app name should\n",
      " |  be set, either through the named parameters here or through `conf`.\n",
      " |  \n",
      " |  Parameters\n",
      " |  ----------\n",
      " |  master : str, optional\n",
      " |      Cluster URL to connect to (e.g. mesos://host:port, spark://host:port, local[4]).\n",
      " |  appName : str, optional\n",
      " |      A name for your job, to display on the cluster web UI.\n",
      " |  sparkHome : str, optional\n",
      " |      Location where Spark is installed on cluster nodes.\n",
      " |  pyFiles : list, optional\n",
      " |      Collection of .zip or .py files to send to the cluster\n",
      " |      and add to PYTHONPATH.  These can be paths on the local file\n",
      " |      system or HDFS, HTTP, HTTPS, or FTP URLs.\n",
      " |  environment : dict, optional\n",
      " |      A dictionary of environment variables to set on\n",
      " |      worker nodes.\n",
      " |  batchSize : int, optional, default 0\n",
      " |      The number of Python objects represented as a single\n",
      " |      Java object. Set 1 to disable batching, 0 to automatically choose\n",
      " |      the batch size based on object sizes, or -1 to use an unlimited\n",
      " |      batch size\n",
      " |  serializer : :class:`Serializer`, optional, default :class:`CPickleSerializer`\n",
      " |      The serializer for RDDs.\n",
      " |  conf : :class:`SparkConf`, optional\n",
      " |      An object setting Spark properties.\n",
      " |  gateway : class:`py4j.java_gateway.JavaGateway`,  optional\n",
      " |      Use an existing gateway and JVM, otherwise a new JVM\n",
      " |      will be instantiated. This is only used internally.\n",
      " |  jsc : class:`py4j.java_gateway.JavaObject`, optional\n",
      " |      The JavaSparkContext instance. This is only used internally.\n",
      " |  profiler_cls : type, optional, default :class:`BasicProfiler`\n",
      " |      A class of custom Profiler used to do profiling\n",
      " |  udf_profiler_cls : type, optional, default :class:`UDFBasicProfiler`\n",
      " |      A class of custom Profiler used to do udf profiling\n",
      " |  \n",
      " |  Notes\n",
      " |  -----\n",
      " |  Only one :class:`SparkContext` should be active per JVM. You must `stop()`\n",
      " |  the active :class:`SparkContext` before creating a new one.\n",
      " |  \n",
      " |  :class:`SparkContext` instance is not supported to share across multiple\n",
      " |  processes out of the box, and PySpark does not guarantee multi-processing execution.\n",
      " |  Use threads instead for concurrent processing purpose.\n",
      " |  \n",
      " |  Examples\n",
      " |  --------\n",
      " |  >>> from pyspark.context import SparkContext\n",
      " |  >>> sc = SparkContext('local', 'test')\n",
      " |  >>> sc2 = SparkContext('local', 'test2') # doctest: +IGNORE_EXCEPTION_DETAIL\n",
      " |  Traceback (most recent call last):\n",
      " |      ...\n",
      " |  ValueError: ...\n",
      " |  \n",
      " |  Methods defined here:\n",
      " |  \n",
      " |  __enter__(self) -> 'SparkContext'\n",
      " |      Enable 'with SparkContext(...) as sc: app(sc)' syntax.\n",
      " |  \n",
      " |  __exit__(self, type: Optional[Type[BaseException]], value: Optional[BaseException], trace: Optional[traceback]) -> None\n",
      " |      Enable 'with SparkContext(...) as sc: app' syntax.\n",
      " |      \n",
      " |      Specifically stop the context on exit of the with block.\n",
      " |  \n",
      " |  __getnewargs__(self) -> NoReturn\n",
      " |  \n",
      " |  __init__(self, master: Optional[str] = None, appName: Optional[str] = None, sparkHome: Optional[str] = None, pyFiles: Optional[List[str]] = None, environment: Optional[Dict[str, Any]] = None, batchSize: int = 0, serializer: 'Serializer' = CloudPickleSerializer(), conf: Optional[pyspark.conf.SparkConf] = None, gateway: Optional[py4j.java_gateway.JavaGateway] = None, jsc: Optional[py4j.java_gateway.JavaObject] = None, profiler_cls: Type[pyspark.profiler.BasicProfiler] = <class 'pyspark.profiler.BasicProfiler'>, udf_profiler_cls: Type[pyspark.profiler.UDFBasicProfiler] = <class 'pyspark.profiler.UDFBasicProfiler'>, memory_profiler_cls: Type[pyspark.profiler.MemoryProfiler] = <class 'pyspark.profiler.MemoryProfiler'>)\n",
      " |      Initialize self.  See help(type(self)) for accurate signature.\n",
      " |  \n",
      " |  __repr__(self) -> str\n",
      " |      Return repr(self).\n",
      " |  \n",
      " |  accumulator(self, value: ~T, accum_param: Optional[ForwardRef('AccumulatorParam[T]')] = None) -> 'Accumulator[T]'\n",
      " |      Create an :class:`Accumulator` with the given initial value, using a given\n",
      " |      :class:`AccumulatorParam` helper object to define how to add values of the\n",
      " |      data type if provided. Default AccumulatorParams are used for integers\n",
      " |      and floating-point numbers if you do not provide one. For other types,\n",
      " |      a custom AccumulatorParam can be used.\n",
      " |      \n",
      " |      .. versionadded:: 0.7.0\n",
      " |      \n",
      " |      Parameters\n",
      " |      ----------\n",
      " |      value : T\n",
      " |          initialized value\n",
      " |      accum_param : :class:`pyspark.AccumulatorParam`, optional\n",
      " |          helper object to define how to add values\n",
      " |      \n",
      " |      Returns\n",
      " |      -------\n",
      " |      :class:`Accumulator`\n",
      " |          `Accumulator` object, a shared variable that can be accumulated\n",
      " |      \n",
      " |      Examples\n",
      " |      --------\n",
      " |      >>> acc = sc.accumulator(9)\n",
      " |      >>> acc.value\n",
      " |      9\n",
      " |      >>> acc += 1\n",
      " |      >>> acc.value\n",
      " |      10\n",
      " |      \n",
      " |      Accumulator object can be accumulated in RDD operations:\n",
      " |      \n",
      " |      >>> rdd = sc.range(5)\n",
      " |      >>> def f(x):\n",
      " |      ...     global acc\n",
      " |      ...     acc += 1\n",
      " |      ...\n",
      " |      >>> rdd.foreach(f)\n",
      " |      >>> acc.value\n",
      " |      15\n",
      " |  \n",
      " |  addArchive(self, path: str) -> None\n",
      " |      Add an archive to be downloaded with this Spark job on every node.\n",
      " |      The `path` passed can be either a local file, a file in HDFS\n",
      " |      (or other Hadoop-supported filesystems), or an HTTP, HTTPS or\n",
      " |      FTP URI.\n",
      " |      \n",
      " |      To access the file in Spark jobs, use :meth:`SparkFiles.get` with the\n",
      " |      filename to find its download/unpacked location. The given path should\n",
      " |      be one of .zip, .tar, .tar.gz, .tgz and .jar.\n",
      " |      \n",
      " |      .. versionadded:: 3.3.0\n",
      " |      \n",
      " |      Parameters\n",
      " |      ----------\n",
      " |      path : str\n",
      " |          can be either a local file, a file in HDFS (or other Hadoop-supported\n",
      " |          filesystems), or an HTTP, HTTPS or FTP URI. To access the file in Spark jobs,\n",
      " |          use :meth:`SparkFiles.get` to find its download location.\n",
      " |      \n",
      " |      See Also\n",
      " |      --------\n",
      " |      :meth:`SparkContext.listArchives`\n",
      " |      :meth:`SparkFiles.get`\n",
      " |      \n",
      " |      Notes\n",
      " |      -----\n",
      " |      A path can be added only once. Subsequent additions of the same path are ignored.\n",
      " |      This API is experimental.\n",
      " |      \n",
      " |      Examples\n",
      " |      --------\n",
      " |      Creates a zipped file that contains a text file written '100'.\n",
      " |      \n",
      " |      >>> import os\n",
      " |      >>> import tempfile\n",
      " |      >>> import zipfile\n",
      " |      >>> from pyspark import SparkFiles\n",
      " |      \n",
      " |      >>> with tempfile.TemporaryDirectory() as d:\n",
      " |      ...     path = os.path.join(d, \"test.txt\")\n",
      " |      ...     with open(path, \"w\") as f:\n",
      " |      ...         _ = f.write(\"100\")\n",
      " |      ...\n",
      " |      ...     zip_path1 = os.path.join(d, \"test1.zip\")\n",
      " |      ...     with zipfile.ZipFile(zip_path1, \"w\", zipfile.ZIP_DEFLATED) as z:\n",
      " |      ...         z.write(path, os.path.basename(path))\n",
      " |      ...\n",
      " |      ...     zip_path2 = os.path.join(d, \"test2.zip\")\n",
      " |      ...     with zipfile.ZipFile(zip_path2, \"w\", zipfile.ZIP_DEFLATED) as z:\n",
      " |      ...         z.write(path, os.path.basename(path))\n",
      " |      ...\n",
      " |      ...     sc.addArchive(zip_path1)\n",
      " |      ...     arch_list1 = sorted(sc.listArchives)\n",
      " |      ...\n",
      " |      ...     sc.addArchive(zip_path2)\n",
      " |      ...     arch_list2 = sorted(sc.listArchives)\n",
      " |      ...\n",
      " |      ...     # add zip_path2 twice, this addition will be ignored\n",
      " |      ...     sc.addArchive(zip_path2)\n",
      " |      ...     arch_list3 = sorted(sc.listArchives)\n",
      " |      ...\n",
      " |      ...     def func(iterator):\n",
      " |      ...         with open(\"%s/test.txt\" % SparkFiles.get(\"test1.zip\")) as f:\n",
      " |      ...             mul = int(f.readline())\n",
      " |      ...             return [x * mul for x in iterator]\n",
      " |      ...\n",
      " |      ...     collected = sc.parallelize([1, 2, 3, 4]).mapPartitions(func).collect()\n",
      " |      \n",
      " |      >>> arch_list1\n",
      " |      ['file:/.../test1.zip']\n",
      " |      >>> arch_list2\n",
      " |      ['file:/.../test1.zip', 'file:/.../test2.zip']\n",
      " |      >>> arch_list3\n",
      " |      ['file:/.../test1.zip', 'file:/.../test2.zip']\n",
      " |      >>> collected\n",
      " |      [100, 200, 300, 400]\n",
      " |  \n",
      " |  addFile(self, path: str, recursive: bool = False) -> None\n",
      " |      Add a file to be downloaded with this Spark job on every node.\n",
      " |      The `path` passed can be either a local file, a file in HDFS\n",
      " |      (or other Hadoop-supported filesystems), or an HTTP, HTTPS or\n",
      " |      FTP URI.\n",
      " |      \n",
      " |      To access the file in Spark jobs, use :meth:`SparkFiles.get` with the\n",
      " |      filename to find its download location.\n",
      " |      \n",
      " |      A directory can be given if the recursive option is set to True.\n",
      " |      Currently directories are only supported for Hadoop-supported filesystems.\n",
      " |      \n",
      " |      .. versionadded:: 0.7.0\n",
      " |      \n",
      " |      Parameters\n",
      " |      ----------\n",
      " |      path : str\n",
      " |          can be either a local file, a file in HDFS (or other Hadoop-supported\n",
      " |          filesystems), or an HTTP, HTTPS or FTP URI. To access the file in Spark jobs,\n",
      " |          use :meth:`SparkFiles.get` to find its download location.\n",
      " |      recursive : bool, default False\n",
      " |          whether to recursively add files in the input directory\n",
      " |      \n",
      " |      See Also\n",
      " |      --------\n",
      " |      :meth:`SparkContext.listFiles`\n",
      " |      :meth:`SparkContext.addPyFile`\n",
      " |      :meth:`SparkFiles.get`\n",
      " |      \n",
      " |      Notes\n",
      " |      -----\n",
      " |      A path can be added only once. Subsequent additions of the same path are ignored.\n",
      " |      \n",
      " |      Examples\n",
      " |      --------\n",
      " |      >>> import os\n",
      " |      >>> import tempfile\n",
      " |      >>> from pyspark import SparkFiles\n",
      " |      \n",
      " |      >>> with tempfile.TemporaryDirectory() as d:\n",
      " |      ...     path1 = os.path.join(d, \"test1.txt\")\n",
      " |      ...     with open(path1, \"w\") as f:\n",
      " |      ...         _ = f.write(\"100\")\n",
      " |      ...\n",
      " |      ...     path2 = os.path.join(d, \"test2.txt\")\n",
      " |      ...     with open(path2, \"w\") as f:\n",
      " |      ...         _ = f.write(\"200\")\n",
      " |      ...\n",
      " |      ...     sc.addFile(path1)\n",
      " |      ...     file_list1 = sorted(sc.listFiles)\n",
      " |      ...\n",
      " |      ...     sc.addFile(path2)\n",
      " |      ...     file_list2 = sorted(sc.listFiles)\n",
      " |      ...\n",
      " |      ...     # add path2 twice, this addition will be ignored\n",
      " |      ...     sc.addFile(path2)\n",
      " |      ...     file_list3 = sorted(sc.listFiles)\n",
      " |      ...\n",
      " |      ...     def func(iterator):\n",
      " |      ...         with open(SparkFiles.get(\"test1.txt\")) as f:\n",
      " |      ...             mul = int(f.readline())\n",
      " |      ...             return [x * mul for x in iterator]\n",
      " |      ...\n",
      " |      ...     collected = sc.parallelize([1, 2, 3, 4]).mapPartitions(func).collect()\n",
      " |      \n",
      " |      >>> file_list1\n",
      " |      ['file:/.../test1.txt']\n",
      " |      >>> file_list2\n",
      " |      ['file:/.../test1.txt', 'file:/.../test2.txt']\n",
      " |      >>> file_list3\n",
      " |      ['file:/.../test1.txt', 'file:/.../test2.txt']\n",
      " |      >>> collected\n",
      " |      [100, 200, 300, 400]\n",
      " |  \n",
      " |  addJobTag(self, tag: str) -> None\n",
      " |      Add a tag to be assigned to all the jobs started by this thread.\n",
      " |      \n",
      " |      .. versionadded:: 3.5.0\n",
      " |      \n",
      " |      Parameters\n",
      " |      ----------\n",
      " |      tag : str\n",
      " |          The tag to be added. Cannot contain ',' (comma) character.\n",
      " |      \n",
      " |      See Also\n",
      " |      --------\n",
      " |      :meth:`SparkContext.removeJobTag`\n",
      " |      :meth:`SparkContext.getJobTags`\n",
      " |      :meth:`SparkContext.clearJobTags`\n",
      " |      :meth:`SparkContext.cancelJobsWithTag`\n",
      " |      :meth:`SparkContext.setInterruptOnCancel`\n",
      " |      \n",
      " |      Examples\n",
      " |      --------\n",
      " |      >>> import threading\n",
      " |      >>> from time import sleep\n",
      " |      >>> from pyspark import InheritableThread\n",
      " |      >>> sc.setInterruptOnCancel(interruptOnCancel=True)\n",
      " |      >>> result = \"Not Set\"\n",
      " |      >>> lock = threading.Lock()\n",
      " |      >>> def map_func(x):\n",
      " |      ...     sleep(100)\n",
      " |      ...     raise RuntimeError(\"Task should have been cancelled\")\n",
      " |      ...\n",
      " |      >>> def start_job(x):\n",
      " |      ...     global result\n",
      " |      ...     try:\n",
      " |      ...         sc.addJobTag(\"job_to_cancel\")\n",
      " |      ...         result = sc.parallelize(range(x)).map(map_func).collect()\n",
      " |      ...     except Exception as e:\n",
      " |      ...         result = \"Cancelled\"\n",
      " |      ...     lock.release()\n",
      " |      ...\n",
      " |      >>> def stop_job():\n",
      " |      ...     sleep(5)\n",
      " |      ...     sc.cancelJobsWithTag(\"job_to_cancel\")\n",
      " |      ...\n",
      " |      >>> suppress = lock.acquire()\n",
      " |      >>> suppress = InheritableThread(target=start_job, args=(10,)).start()\n",
      " |      >>> suppress = InheritableThread(target=stop_job).start()\n",
      " |      >>> suppress = lock.acquire()\n",
      " |      >>> print(result)\n",
      " |      Cancelled\n",
      " |      >>> sc.clearJobTags()\n",
      " |  \n",
      " |  addPyFile(self, path: str) -> None\n",
      " |      Add a .py or .zip dependency for all tasks to be executed on this\n",
      " |      SparkContext in the future.  The `path` passed can be either a local\n",
      " |      file, a file in HDFS (or other Hadoop-supported filesystems), or an\n",
      " |      HTTP, HTTPS or FTP URI.\n",
      " |      \n",
      " |      .. versionadded:: 0.7.0\n",
      " |      \n",
      " |      Parameters\n",
      " |      ----------\n",
      " |      path : str\n",
      " |          can be either a .py file or .zip dependency.\n",
      " |      \n",
      " |      See Also\n",
      " |      --------\n",
      " |      :meth:`SparkContext.addFile`\n",
      " |      \n",
      " |      Notes\n",
      " |      -----\n",
      " |      A path can be added only once. Subsequent additions of the same path are ignored.\n",
      " |  \n",
      " |  binaryFiles(self, path: str, minPartitions: Optional[int] = None) -> pyspark.rdd.RDD[typing.Tuple[str, bytes]]\n",
      " |      Read a directory of binary files from HDFS, a local file system\n",
      " |      (available on all nodes), or any Hadoop-supported file system URI\n",
      " |      as a byte array. Each file is read as a single record and returned\n",
      " |      in a key-value pair, where the key is the path of each file, the\n",
      " |      value is the content of each file.\n",
      " |      \n",
      " |      .. versionadded:: 1.3.0\n",
      " |      \n",
      " |      Parameters\n",
      " |      ----------\n",
      " |      path : str\n",
      " |          directory to the input data files, the path can be comma separated\n",
      " |          paths as a list of inputs\n",
      " |      minPartitions : int, optional\n",
      " |          suggested minimum number of partitions for the resulting RDD\n",
      " |      \n",
      " |      Returns\n",
      " |      -------\n",
      " |      :class:`RDD`\n",
      " |          RDD representing path-content pairs from the file(s).\n",
      " |      \n",
      " |      Notes\n",
      " |      -----\n",
      " |      Small files are preferred, large file is also allowable, but may cause bad performance.\n",
      " |      \n",
      " |      See Also\n",
      " |      --------\n",
      " |      :meth:`SparkContext.binaryRecords`\n",
      " |      \n",
      " |      Examples\n",
      " |      --------\n",
      " |      >>> import os\n",
      " |      >>> import tempfile\n",
      " |      >>> with tempfile.TemporaryDirectory() as d:\n",
      " |      ...     # Write a temporary binary file\n",
      " |      ...     with open(os.path.join(d, \"1.bin\"), \"wb\") as f1:\n",
      " |      ...         _ = f1.write(b\"binary data I\")\n",
      " |      ...\n",
      " |      ...     # Write another temporary binary file\n",
      " |      ...     with open(os.path.join(d, \"2.bin\"), \"wb\") as f2:\n",
      " |      ...         _ = f2.write(b\"binary data II\")\n",
      " |      ...\n",
      " |      ...     collected = sorted(sc.binaryFiles(d).collect())\n",
      " |      \n",
      " |      >>> collected\n",
      " |      [('.../1.bin', b'binary data I'), ('.../2.bin', b'binary data II')]\n",
      " |  \n",
      " |  binaryRecords(self, path: str, recordLength: int) -> pyspark.rdd.RDD[bytes]\n",
      " |      Load data from a flat binary file, assuming each record is a set of numbers\n",
      " |      with the specified numerical format (see ByteBuffer), and the number of\n",
      " |      bytes per record is constant.\n",
      " |      \n",
      " |      .. versionadded:: 1.3.0\n",
      " |      \n",
      " |      Parameters\n",
      " |      ----------\n",
      " |      path : str\n",
      " |          Directory to the input data files\n",
      " |      recordLength : int\n",
      " |          The length at which to split the records\n",
      " |      \n",
      " |      Returns\n",
      " |      -------\n",
      " |      :class:`RDD`\n",
      " |          RDD of data with values, represented as byte arrays\n",
      " |      \n",
      " |      See Also\n",
      " |      --------\n",
      " |      :meth:`SparkContext.binaryFiles`\n",
      " |      \n",
      " |      Examples\n",
      " |      --------\n",
      " |      >>> import os\n",
      " |      >>> import tempfile\n",
      " |      >>> with tempfile.TemporaryDirectory() as d:\n",
      " |      ...     # Write a temporary file\n",
      " |      ...     with open(os.path.join(d, \"1.bin\"), \"w\") as f:\n",
      " |      ...         for i in range(3):\n",
      " |      ...             _ = f.write(\"%04d\" % i)\n",
      " |      ...\n",
      " |      ...     # Write another file\n",
      " |      ...     with open(os.path.join(d, \"2.bin\"), \"w\") as f:\n",
      " |      ...         for i in [-1, -2, -10]:\n",
      " |      ...             _ = f.write(\"%04d\" % i)\n",
      " |      ...\n",
      " |      ...     collected = sorted(sc.binaryRecords(d, 4).collect())\n",
      " |      \n",
      " |      >>> collected\n",
      " |      [b'-001', b'-002', b'-010', b'0000', b'0001', b'0002']\n",
      " |  \n",
      " |  broadcast(self, value: ~T) -> 'Broadcast[T]'\n",
      " |      Broadcast a read-only variable to the cluster, returning a :class:`Broadcast`\n",
      " |      object for reading it in distributed functions. The variable will\n",
      " |      be sent to each cluster only once.\n",
      " |      \n",
      " |      .. versionadded:: 0.7.0\n",
      " |      \n",
      " |      Parameters\n",
      " |      ----------\n",
      " |      value : T\n",
      " |          value to broadcast to the Spark nodes\n",
      " |      \n",
      " |      Returns\n",
      " |      -------\n",
      " |      :class:`Broadcast`\n",
      " |          :class:`Broadcast` object, a read-only variable cached on each machine\n",
      " |      \n",
      " |      Examples\n",
      " |      --------\n",
      " |      >>> mapping = {1: 10001, 2: 10002}\n",
      " |      >>> bc = sc.broadcast(mapping)\n",
      " |      \n",
      " |      >>> rdd = sc.range(5)\n",
      " |      >>> rdd2 = rdd.map(lambda i: bc.value[i] if i in bc.value else -1)\n",
      " |      >>> rdd2.collect()\n",
      " |      [-1, 10001, 10002, -1, -1]\n",
      " |      \n",
      " |      >>> bc.destroy()\n",
      " |  \n",
      " |  cancelAllJobs(self) -> None\n",
      " |      Cancel all jobs that have been scheduled or are running.\n",
      " |      \n",
      " |      .. versionadded:: 1.1.0\n",
      " |      \n",
      " |      See Also\n",
      " |      --------\n",
      " |      :meth:`SparkContext.cancelJobGroup`\n",
      " |      :meth:`SparkContext.cancelJobsWithTag`\n",
      " |      :meth:`SparkContext.runJob`\n",
      " |  \n",
      " |  cancelJobGroup(self, groupId: str) -> None\n",
      " |      Cancel active jobs for the specified group. See :meth:`SparkContext.setJobGroup`.\n",
      " |      for more information.\n",
      " |      \n",
      " |      .. versionadded:: 1.1.0\n",
      " |      \n",
      " |      Parameters\n",
      " |      ----------\n",
      " |      groupId : str\n",
      " |          The group ID to cancel the job.\n",
      " |      \n",
      " |      See Also\n",
      " |      --------\n",
      " |      :meth:`SparkContext.setJobGroup`\n",
      " |  \n",
      " |  cancelJobsWithTag(self, tag: str) -> None\n",
      " |      Cancel active jobs that have the specified tag. See\n",
      " |      :meth:`SparkContext.addJobTag`.\n",
      " |      \n",
      " |      .. versionadded:: 3.5.0\n",
      " |      \n",
      " |      Parameters\n",
      " |      ----------\n",
      " |      tag : str\n",
      " |          The tag to be cancelled. Cannot contain ',' (comma) character.\n",
      " |      \n",
      " |      See Also\n",
      " |      --------\n",
      " |      :meth:`SparkContext.addJobTag`\n",
      " |      :meth:`SparkContext.removeJobTag`\n",
      " |      :meth:`SparkContext.getJobTags`\n",
      " |      :meth:`SparkContext.clearJobTags`\n",
      " |      :meth:`SparkContext.setInterruptOnCancel`\n",
      " |  \n",
      " |  clearJobTags(self) -> None\n",
      " |      Clear the current thread's job tags.\n",
      " |      \n",
      " |      .. versionadded:: 3.5.0\n",
      " |      \n",
      " |      See Also\n",
      " |      --------\n",
      " |      :meth:`SparkContext.addJobTag`\n",
      " |      :meth:`SparkContext.removeJobTag`\n",
      " |      :meth:`SparkContext.getJobTags`\n",
      " |      :meth:`SparkContext.cancelJobsWithTag`\n",
      " |      :meth:`SparkContext.setInterruptOnCancel`\n",
      " |      \n",
      " |      Examples\n",
      " |      --------\n",
      " |      >>> sc.addJobTag(\"job_to_cancel\")\n",
      " |      >>> sc.clearJobTags()\n",
      " |      >>> sc.getJobTags()\n",
      " |      set()\n",
      " |  \n",
      " |  dump_profiles(self, path: str) -> None\n",
      " |      Dump the profile stats into directory `path`\n",
      " |      \n",
      " |      .. versionadded:: 1.2.0\n",
      " |      \n",
      " |      See Also\n",
      " |      --------\n",
      " |      :meth:`SparkContext.show_profiles`\n",
      " |  \n",
      " |  emptyRDD(self) -> pyspark.rdd.RDD[typing.Any]\n",
      " |      Create an :class:`RDD` that has no partitions or elements.\n",
      " |      \n",
      " |      .. versionadded:: 1.5.0\n",
      " |      \n",
      " |      Returns\n",
      " |      -------\n",
      " |      :class:`RDD`\n",
      " |          An empty RDD\n",
      " |      \n",
      " |      Examples\n",
      " |      --------\n",
      " |      >>> sc.emptyRDD()\n",
      " |      EmptyRDD...\n",
      " |      >>> sc.emptyRDD().count()\n",
      " |      0\n",
      " |  \n",
      " |  getCheckpointDir(self) -> Optional[str]\n",
      " |      Return the directory where RDDs are checkpointed. Returns None if no\n",
      " |      checkpoint directory has been set.\n",
      " |      \n",
      " |      .. versionadded:: 3.1.0\n",
      " |      \n",
      " |      See Also\n",
      " |      --------\n",
      " |      :meth:`SparkContext.setCheckpointDir`\n",
      " |      :meth:`RDD.checkpoint`\n",
      " |      :meth:`RDD.getCheckpointFile`\n",
      " |  \n",
      " |  getConf(self) -> pyspark.conf.SparkConf\n",
      " |      Return a copy of this SparkContext's configuration :class:`SparkConf`.\n",
      " |      \n",
      " |      .. versionadded:: 2.1.0\n",
      " |  \n",
      " |  getJobTags(self) -> Set[str]\n",
      " |      Get the tags that are currently set to be assigned to all the jobs started by this thread.\n",
      " |      \n",
      " |      .. versionadded:: 3.5.0\n",
      " |      \n",
      " |      Returns\n",
      " |      -------\n",
      " |      set of str\n",
      " |          the tags that are currently set to be assigned to all the jobs started by this thread.\n",
      " |      \n",
      " |      See Also\n",
      " |      --------\n",
      " |      :meth:`SparkContext.addJobTag`\n",
      " |      :meth:`SparkContext.removeJobTag`\n",
      " |      :meth:`SparkContext.clearJobTags`\n",
      " |      :meth:`SparkContext.cancelJobsWithTag`\n",
      " |      :meth:`SparkContext.setInterruptOnCancel`\n",
      " |      \n",
      " |      Examples\n",
      " |      --------\n",
      " |      >>> sc.addJobTag(\"job_to_cancel\")\n",
      " |      >>> sc.getJobTags()\n",
      " |      {'job_to_cancel'}\n",
      " |      >>> sc.clearJobTags()\n",
      " |  \n",
      " |  getLocalProperty(self, key: str) -> Optional[str]\n",
      " |      Get a local property set in this thread, or null if it is missing. See\n",
      " |      :meth:`setLocalProperty`.\n",
      " |      \n",
      " |      .. versionadded:: 1.0.0\n",
      " |      \n",
      " |      See Also\n",
      " |      --------\n",
      " |      :meth:`SparkContext.setLocalProperty`\n",
      " |  \n",
      " |  hadoopFile(self, path: str, inputFormatClass: str, keyClass: str, valueClass: str, keyConverter: Optional[str] = None, valueConverter: Optional[str] = None, conf: Optional[Dict[str, str]] = None, batchSize: int = 0) -> pyspark.rdd.RDD[typing.Tuple[~T, ~U]]\n",
      " |      Read an 'old' Hadoop InputFormat with arbitrary key and value class from HDFS,\n",
      " |      a local file system (available on all nodes), or any Hadoop-supported file system URI.\n",
      " |      The mechanism is the same as for meth:`SparkContext.sequenceFile`.\n",
      " |      \n",
      " |      .. versionadded:: 1.1.0\n",
      " |      \n",
      " |      A Hadoop configuration can be passed in as a Python dict. This will be converted into a\n",
      " |      Configuration in Java.\n",
      " |      \n",
      " |      Parameters\n",
      " |      ----------\n",
      " |      path : str\n",
      " |          path to Hadoop file\n",
      " |      inputFormatClass : str\n",
      " |          fully qualified classname of Hadoop InputFormat\n",
      " |          (e.g. \"org.apache.hadoop.mapreduce.lib.input.TextInputFormat\")\n",
      " |      keyClass : str\n",
      " |          fully qualified classname of key Writable class (e.g. \"org.apache.hadoop.io.Text\")\n",
      " |      valueClass : str\n",
      " |          fully qualified classname of value Writable class\n",
      " |          (e.g. \"org.apache.hadoop.io.LongWritable\")\n",
      " |      keyConverter : str, optional\n",
      " |          fully qualified name of a function returning key WritableConverter\n",
      " |      valueConverter : str, optional\n",
      " |          fully qualified name of a function returning value WritableConverter\n",
      " |      conf : dict, optional\n",
      " |          Hadoop configuration, passed in as a dict\n",
      " |      batchSize : int, optional, default 0\n",
      " |          The number of Python objects represented as a single\n",
      " |          Java object. (default 0, choose batchSize automatically)\n",
      " |      \n",
      " |      Returns\n",
      " |      -------\n",
      " |      :class:`RDD`\n",
      " |          RDD of tuples of key and corresponding value\n",
      " |      \n",
      " |      See Also\n",
      " |      --------\n",
      " |      :meth:`RDD.saveAsSequenceFile`\n",
      " |      :meth:`RDD.saveAsNewAPIHadoopFile`\n",
      " |      :meth:`RDD.saveAsHadoopFile`\n",
      " |      :meth:`SparkContext.newAPIHadoopFile`\n",
      " |      :meth:`SparkContext.hadoopRDD`\n",
      " |      \n",
      " |      Examples\n",
      " |      --------\n",
      " |      >>> import os\n",
      " |      >>> import tempfile\n",
      " |      \n",
      " |      Set the related classes\n",
      " |      \n",
      " |      >>> output_format_class = \"org.apache.hadoop.mapred.TextOutputFormat\"\n",
      " |      >>> input_format_class = \"org.apache.hadoop.mapred.TextInputFormat\"\n",
      " |      >>> key_class = \"org.apache.hadoop.io.IntWritable\"\n",
      " |      >>> value_class = \"org.apache.hadoop.io.Text\"\n",
      " |      \n",
      " |      >>> with tempfile.TemporaryDirectory() as d:\n",
      " |      ...     path = os.path.join(d, \"old_hadoop_file\")\n",
      " |      ...\n",
      " |      ...     # Write a temporary Hadoop file\n",
      " |      ...     rdd = sc.parallelize([(1, \"\"), (1, \"a\"), (3, \"x\")])\n",
      " |      ...     rdd.saveAsHadoopFile(path, output_format_class, key_class, value_class)\n",
      " |      ...\n",
      " |      ...     loaded = sc.hadoopFile(path, input_format_class, key_class, value_class)\n",
      " |      ...     collected = sorted(loaded.collect())\n",
      " |      \n",
      " |      >>> collected\n",
      " |      [(0, '1\\t'), (0, '1\\ta'), (0, '3\\tx')]\n",
      " |  \n",
      " |  hadoopRDD(self, inputFormatClass: str, keyClass: str, valueClass: str, keyConverter: Optional[str] = None, valueConverter: Optional[str] = None, conf: Optional[Dict[str, str]] = None, batchSize: int = 0) -> pyspark.rdd.RDD[typing.Tuple[~T, ~U]]\n",
      " |      Read an 'old' Hadoop InputFormat with arbitrary key and value class, from an arbitrary\n",
      " |      Hadoop configuration, which is passed in as a Python dict.\n",
      " |      This will be converted into a Configuration in Java.\n",
      " |      The mechanism is the same as for meth:`SparkContext.sequenceFile`.\n",
      " |      \n",
      " |      .. versionadded:: 1.1.0\n",
      " |      \n",
      " |      Parameters\n",
      " |      ----------\n",
      " |      inputFormatClass : str\n",
      " |          fully qualified classname of Hadoop InputFormat\n",
      " |          (e.g. \"org.apache.hadoop.mapreduce.lib.input.TextInputFormat\")\n",
      " |      keyClass : str\n",
      " |          fully qualified classname of key Writable class (e.g. \"org.apache.hadoop.io.Text\")\n",
      " |      valueClass : str\n",
      " |          fully qualified classname of value Writable class\n",
      " |          (e.g. \"org.apache.hadoop.io.LongWritable\")\n",
      " |      keyConverter : str, optional\n",
      " |          fully qualified name of a function returning key WritableConverter\n",
      " |      valueConverter : str, optional\n",
      " |          fully qualified name of a function returning value WritableConverter\n",
      " |      conf : dict, optional\n",
      " |          Hadoop configuration, passed in as a dict\n",
      " |      batchSize : int, optional, default 0\n",
      " |          The number of Python objects represented as a single\n",
      " |          Java object. (default 0, choose batchSize automatically)\n",
      " |      \n",
      " |      Returns\n",
      " |      -------\n",
      " |      :class:`RDD`\n",
      " |          RDD of tuples of key and corresponding value\n",
      " |      \n",
      " |      See Also\n",
      " |      --------\n",
      " |      :meth:`RDD.saveAsNewAPIHadoopDataset`\n",
      " |      :meth:`RDD.saveAsHadoopDataset`\n",
      " |      :meth:`SparkContext.newAPIHadoopRDD`\n",
      " |      :meth:`SparkContext.hadoopFile`\n",
      " |      \n",
      " |      Examples\n",
      " |      --------\n",
      " |      >>> import os\n",
      " |      >>> import tempfile\n",
      " |      \n",
      " |      Set the related classes\n",
      " |      \n",
      " |      >>> output_format_class = \"org.apache.hadoop.mapred.TextOutputFormat\"\n",
      " |      >>> input_format_class = \"org.apache.hadoop.mapred.TextInputFormat\"\n",
      " |      >>> key_class = \"org.apache.hadoop.io.IntWritable\"\n",
      " |      >>> value_class = \"org.apache.hadoop.io.Text\"\n",
      " |      \n",
      " |      >>> with tempfile.TemporaryDirectory() as d:\n",
      " |      ...     path = os.path.join(d, \"old_hadoop_file\")\n",
      " |      ...\n",
      " |      ...     # Create the conf for writing\n",
      " |      ...     write_conf = {\n",
      " |      ...         \"mapred.output.format.class\": output_format_class,\n",
      " |      ...         \"mapreduce.job.output.key.class\": key_class,\n",
      " |      ...         \"mapreduce.job.output.value.class\": value_class,\n",
      " |      ...         \"mapreduce.output.fileoutputformat.outputdir\": path,\n",
      " |      ...     }\n",
      " |      ...\n",
      " |      ...     # Write a temporary Hadoop file\n",
      " |      ...     rdd = sc.parallelize([(1, \"\"), (1, \"a\"), (3, \"x\")])\n",
      " |      ...     rdd.saveAsHadoopDataset(conf=write_conf)\n",
      " |      ...\n",
      " |      ...     # Create the conf for reading\n",
      " |      ...     read_conf = {\"mapreduce.input.fileinputformat.inputdir\": path}\n",
      " |      ...\n",
      " |      ...     loaded = sc.hadoopRDD(input_format_class, key_class, value_class, conf=read_conf)\n",
      " |      ...     collected = sorted(loaded.collect())\n",
      " |      \n",
      " |      >>> collected\n",
      " |      [(0, '1\\t'), (0, '1\\ta'), (0, '3\\tx')]\n",
      " |  \n",
      " |  newAPIHadoopFile(self, path: str, inputFormatClass: str, keyClass: str, valueClass: str, keyConverter: Optional[str] = None, valueConverter: Optional[str] = None, conf: Optional[Dict[str, str]] = None, batchSize: int = 0) -> pyspark.rdd.RDD[typing.Tuple[~T, ~U]]\n",
      " |      Read a 'new API' Hadoop InputFormat with arbitrary key and value class from HDFS,\n",
      " |      a local file system (available on all nodes), or any Hadoop-supported file system URI.\n",
      " |      The mechanism is the same as for meth:`SparkContext.sequenceFile`.\n",
      " |      \n",
      " |      A Hadoop configuration can be passed in as a Python dict. This will be converted into a\n",
      " |      Configuration in Java\n",
      " |      \n",
      " |      .. versionadded:: 1.1.0\n",
      " |      \n",
      " |      Parameters\n",
      " |      ----------\n",
      " |      path : str\n",
      " |          path to Hadoop file\n",
      " |      inputFormatClass : str\n",
      " |          fully qualified classname of Hadoop InputFormat\n",
      " |          (e.g. \"org.apache.hadoop.mapreduce.lib.input.TextInputFormat\")\n",
      " |      keyClass : str\n",
      " |          fully qualified classname of key Writable class\n",
      " |          (e.g. \"org.apache.hadoop.io.Text\")\n",
      " |      valueClass : str\n",
      " |          fully qualified classname of value Writable class\n",
      " |          (e.g. \"org.apache.hadoop.io.LongWritable\")\n",
      " |      keyConverter : str, optional\n",
      " |          fully qualified name of a function returning key WritableConverter\n",
      " |          None by default\n",
      " |      valueConverter : str, optional\n",
      " |          fully qualified name of a function returning value WritableConverter\n",
      " |          None by default\n",
      " |      conf : dict, optional\n",
      " |          Hadoop configuration, passed in as a dict\n",
      " |          None by default\n",
      " |      batchSize : int, optional, default 0\n",
      " |          The number of Python objects represented as a single\n",
      " |          Java object. (default 0, choose batchSize automatically)\n",
      " |      \n",
      " |      Returns\n",
      " |      -------\n",
      " |      :class:`RDD`\n",
      " |          RDD of tuples of key and corresponding value\n",
      " |      \n",
      " |      See Also\n",
      " |      --------\n",
      " |      :meth:`RDD.saveAsSequenceFile`\n",
      " |      :meth:`RDD.saveAsNewAPIHadoopFile`\n",
      " |      :meth:`RDD.saveAsHadoopFile`\n",
      " |      :meth:`SparkContext.sequenceFile`\n",
      " |      :meth:`SparkContext.hadoopFile`\n",
      " |      \n",
      " |      Examples\n",
      " |      --------\n",
      " |      >>> import os\n",
      " |      >>> import tempfile\n",
      " |      \n",
      " |      Set the related classes\n",
      " |      \n",
      " |      >>> output_format_class = \"org.apache.hadoop.mapreduce.lib.output.SequenceFileOutputFormat\"\n",
      " |      >>> input_format_class = \"org.apache.hadoop.mapreduce.lib.input.SequenceFileInputFormat\"\n",
      " |      >>> key_class = \"org.apache.hadoop.io.IntWritable\"\n",
      " |      >>> value_class = \"org.apache.hadoop.io.Text\"\n",
      " |      \n",
      " |      >>> with tempfile.TemporaryDirectory() as d:\n",
      " |      ...     path = os.path.join(d, \"new_hadoop_file\")\n",
      " |      ...\n",
      " |      ...     # Write a temporary Hadoop file\n",
      " |      ...     rdd = sc.parallelize([(1, \"\"), (1, \"a\"), (3, \"x\")])\n",
      " |      ...     rdd.saveAsNewAPIHadoopFile(path, output_format_class, key_class, value_class)\n",
      " |      ...\n",
      " |      ...     loaded = sc.newAPIHadoopFile(path, input_format_class, key_class, value_class)\n",
      " |      ...     collected = sorted(loaded.collect())\n",
      " |      \n",
      " |      >>> collected\n",
      " |      [(1, ''), (1, 'a'), (3, 'x')]\n",
      " |  \n",
      " |  newAPIHadoopRDD(self, inputFormatClass: str, keyClass: str, valueClass: str, keyConverter: Optional[str] = None, valueConverter: Optional[str] = None, conf: Optional[Dict[str, str]] = None, batchSize: int = 0) -> pyspark.rdd.RDD[typing.Tuple[~T, ~U]]\n",
      " |      Read a 'new API' Hadoop InputFormat with arbitrary key and value class, from an arbitrary\n",
      " |      Hadoop configuration, which is passed in as a Python dict.\n",
      " |      This will be converted into a Configuration in Java.\n",
      " |      The mechanism is the same as for meth:`SparkContext.sequenceFile`.\n",
      " |      \n",
      " |      .. versionadded:: 1.1.0\n",
      " |      \n",
      " |      Parameters\n",
      " |      ----------\n",
      " |      inputFormatClass : str\n",
      " |          fully qualified classname of Hadoop InputFormat\n",
      " |          (e.g. \"org.apache.hadoop.mapreduce.lib.input.TextInputFormat\")\n",
      " |      keyClass : str\n",
      " |          fully qualified classname of key Writable class (e.g. \"org.apache.hadoop.io.Text\")\n",
      " |      valueClass : str\n",
      " |          fully qualified classname of value Writable class\n",
      " |          (e.g. \"org.apache.hadoop.io.LongWritable\")\n",
      " |      keyConverter : str, optional\n",
      " |          fully qualified name of a function returning key WritableConverter\n",
      " |          (None by default)\n",
      " |      valueConverter : str, optional\n",
      " |          fully qualified name of a function returning value WritableConverter\n",
      " |          (None by default)\n",
      " |      conf : dict, optional\n",
      " |          Hadoop configuration, passed in as a dict (None by default)\n",
      " |      batchSize : int, optional, default 0\n",
      " |          The number of Python objects represented as a single\n",
      " |          Java object. (default 0, choose batchSize automatically)\n",
      " |      \n",
      " |      Returns\n",
      " |      -------\n",
      " |      :class:`RDD`\n",
      " |          RDD of tuples of key and corresponding value\n",
      " |      \n",
      " |      See Also\n",
      " |      --------\n",
      " |      :meth:`RDD.saveAsNewAPIHadoopDataset`\n",
      " |      :meth:`RDD.saveAsHadoopDataset`\n",
      " |      :meth:`SparkContext.hadoopRDD`\n",
      " |      :meth:`SparkContext.hadoopFile`\n",
      " |      \n",
      " |      Examples\n",
      " |      --------\n",
      " |      >>> import os\n",
      " |      >>> import tempfile\n",
      " |      \n",
      " |      Set the related classes\n",
      " |      \n",
      " |      >>> output_format_class = \"org.apache.hadoop.mapreduce.lib.output.SequenceFileOutputFormat\"\n",
      " |      >>> input_format_class = \"org.apache.hadoop.mapreduce.lib.input.SequenceFileInputFormat\"\n",
      " |      >>> key_class = \"org.apache.hadoop.io.IntWritable\"\n",
      " |      >>> value_class = \"org.apache.hadoop.io.Text\"\n",
      " |      \n",
      " |      >>> with tempfile.TemporaryDirectory() as d:\n",
      " |      ...     path = os.path.join(d, \"new_hadoop_file\")\n",
      " |      ...\n",
      " |      ...     # Create the conf for writing\n",
      " |      ...     write_conf = {\n",
      " |      ...         \"mapreduce.job.outputformat.class\": (output_format_class),\n",
      " |      ...         \"mapreduce.job.output.key.class\": key_class,\n",
      " |      ...         \"mapreduce.job.output.value.class\": value_class,\n",
      " |      ...         \"mapreduce.output.fileoutputformat.outputdir\": path,\n",
      " |      ...     }\n",
      " |      ...\n",
      " |      ...     # Write a temporary Hadoop file\n",
      " |      ...     rdd = sc.parallelize([(1, \"\"), (1, \"a\"), (3, \"x\")])\n",
      " |      ...     rdd.saveAsNewAPIHadoopDataset(conf=write_conf)\n",
      " |      ...\n",
      " |      ...     # Create the conf for reading\n",
      " |      ...     read_conf = {\"mapreduce.input.fileinputformat.inputdir\": path}\n",
      " |      ...\n",
      " |      ...     loaded = sc.newAPIHadoopRDD(input_format_class,\n",
      " |      ...         key_class, value_class, conf=read_conf)\n",
      " |      ...     collected = sorted(loaded.collect())\n",
      " |      \n",
      " |      >>> collected\n",
      " |      [(1, ''), (1, 'a'), (3, 'x')]\n",
      " |  \n",
      " |  parallelize(self, c: Iterable[~T], numSlices: Optional[int] = None) -> pyspark.rdd.RDD[~T]\n",
      " |      Distribute a local Python collection to form an RDD. Using range\n",
      " |      is recommended if the input represents a range for performance.\n",
      " |      \n",
      " |      .. versionadded:: 0.7.0\n",
      " |      \n",
      " |      Parameters\n",
      " |      ----------\n",
      " |      c : :class:`collections.abc.Iterable`\n",
      " |          iterable collection to distribute\n",
      " |      numSlices : int, optional\n",
      " |          the number of partitions of the new RDD\n",
      " |      \n",
      " |      Returns\n",
      " |      -------\n",
      " |      :class:`RDD`\n",
      " |          RDD representing distributed collection.\n",
      " |      \n",
      " |      Examples\n",
      " |      --------\n",
      " |      >>> sc.parallelize([0, 2, 3, 4, 6], 5).glom().collect()\n",
      " |      [[0], [2], [3], [4], [6]]\n",
      " |      >>> sc.parallelize(range(0, 6, 2), 5).glom().collect()\n",
      " |      [[], [0], [], [2], [4]]\n",
      " |      \n",
      " |      Deal with a list of strings.\n",
      " |      \n",
      " |      >>> strings = [\"a\", \"b\", \"c\"]\n",
      " |      >>> sc.parallelize(strings, 2).glom().collect()\n",
      " |      [['a'], ['b', 'c']]\n",
      " |  \n",
      " |  pickleFile(self, name: str, minPartitions: Optional[int] = None) -> pyspark.rdd.RDD[typing.Any]\n",
      " |      Load an RDD previously saved using :meth:`RDD.saveAsPickleFile` method.\n",
      " |      \n",
      " |      .. versionadded:: 1.1.0\n",
      " |      \n",
      " |      Parameters\n",
      " |      ----------\n",
      " |      name : str\n",
      " |          directory to the input data files, the path can be comma separated\n",
      " |          paths as a list of inputs\n",
      " |      minPartitions : int, optional\n",
      " |          suggested minimum number of partitions for the resulting RDD\n",
      " |      \n",
      " |      Returns\n",
      " |      -------\n",
      " |      :class:`RDD`\n",
      " |          RDD representing unpickled data from the file(s).\n",
      " |      \n",
      " |      See Also\n",
      " |      --------\n",
      " |      :meth:`RDD.saveAsPickleFile`\n",
      " |      \n",
      " |      Examples\n",
      " |      --------\n",
      " |      >>> import os\n",
      " |      >>> import tempfile\n",
      " |      >>> with tempfile.TemporaryDirectory() as d:\n",
      " |      ...     # Write a temporary pickled file\n",
      " |      ...     path1 = os.path.join(d, \"pickled1\")\n",
      " |      ...     sc.parallelize(range(10)).saveAsPickleFile(path1, 3)\n",
      " |      ...\n",
      " |      ...     # Write another temporary pickled file\n",
      " |      ...     path2 = os.path.join(d, \"pickled2\")\n",
      " |      ...     sc.parallelize(range(-10, -5)).saveAsPickleFile(path2, 3)\n",
      " |      ...\n",
      " |      ...     # Load picked file\n",
      " |      ...     collected1 = sorted(sc.pickleFile(path1, 3).collect())\n",
      " |      ...     collected2 = sorted(sc.pickleFile(path2, 4).collect())\n",
      " |      ...\n",
      " |      ...     # Load two picked files together\n",
      " |      ...     collected3 = sorted(sc.pickleFile('{},{}'.format(path1, path2), 5).collect())\n",
      " |      \n",
      " |      >>> collected1\n",
      " |      [0, 1, 2, 3, 4, 5, 6, 7, 8, 9]\n",
      " |      >>> collected2\n",
      " |      [-10, -9, -8, -7, -6]\n",
      " |      >>> collected3\n",
      " |      [-10, -9, -8, -7, -6, 0, 1, 2, 3, 4, 5, 6, 7, 8, 9]\n",
      " |  \n",
      " |  range(self, start: int, end: Optional[int] = None, step: int = 1, numSlices: Optional[int] = None) -> pyspark.rdd.RDD[int]\n",
      " |      Create a new RDD of int containing elements from `start` to `end`\n",
      " |      (exclusive), increased by `step` every element. Can be called the same\n",
      " |      way as python's built-in range() function. If called with a single argument,\n",
      " |      the argument is interpreted as `end`, and `start` is set to 0.\n",
      " |      \n",
      " |      .. versionadded:: 1.5.0\n",
      " |      \n",
      " |      Parameters\n",
      " |      ----------\n",
      " |      start : int\n",
      " |          the start value\n",
      " |      end : int, optional\n",
      " |          the end value (exclusive)\n",
      " |      step : int, optional, default 1\n",
      " |          the incremental step\n",
      " |      numSlices : int, optional\n",
      " |          the number of partitions of the new RDD\n",
      " |      \n",
      " |      Returns\n",
      " |      -------\n",
      " |      :class:`RDD`\n",
      " |          An RDD of int\n",
      " |      \n",
      " |      See Also\n",
      " |      --------\n",
      " |      :meth:`pyspark.sql.SparkSession.range`\n",
      " |      \n",
      " |      Examples\n",
      " |      --------\n",
      " |      >>> sc.range(5).collect()\n",
      " |      [0, 1, 2, 3, 4]\n",
      " |      >>> sc.range(2, 4).collect()\n",
      " |      [2, 3]\n",
      " |      >>> sc.range(1, 7, 2).collect()\n",
      " |      [1, 3, 5]\n",
      " |      \n",
      " |      Generate RDD with a negative step\n",
      " |      \n",
      " |      >>> sc.range(5, 0, -1).collect()\n",
      " |      [5, 4, 3, 2, 1]\n",
      " |      >>> sc.range(0, 5, -1).collect()\n",
      " |      []\n",
      " |      \n",
      " |      Control the number of partitions\n",
      " |      \n",
      " |      >>> sc.range(5, numSlices=1).getNumPartitions()\n",
      " |      1\n",
      " |      >>> sc.range(5, numSlices=10).getNumPartitions()\n",
      " |      10\n",
      " |  \n",
      " |  removeJobTag(self, tag: str) -> None\n",
      " |      Remove a tag previously added to be assigned to all the jobs started by this thread.\n",
      " |      Noop if such a tag was not added earlier.\n",
      " |      \n",
      " |      .. versionadded:: 3.5.0\n",
      " |      \n",
      " |      Parameters\n",
      " |      ----------\n",
      " |      tag : str\n",
      " |          The tag to be removed. Cannot contain ',' (comma) character.\n",
      " |      \n",
      " |      See Also\n",
      " |      --------\n",
      " |      :meth:`SparkContext.addJobTag`\n",
      " |      :meth:`SparkContext.getJobTags`\n",
      " |      :meth:`SparkContext.clearJobTags`\n",
      " |      :meth:`SparkContext.cancelJobsWithTag`\n",
      " |      :meth:`SparkContext.setInterruptOnCancel`\n",
      " |      \n",
      " |      Examples\n",
      " |      --------\n",
      " |      >>> sc.addJobTag(\"job_to_cancel1\")\n",
      " |      >>> sc.addJobTag(\"job_to_cancel2\")\n",
      " |      >>> sc.getJobTags()\n",
      " |      {'job_to_cancel1', 'job_to_cancel2'}\n",
      " |      >>> sc.removeJobTag(\"job_to_cancel1\")\n",
      " |      >>> sc.getJobTags()\n",
      " |      {'job_to_cancel2'}\n",
      " |      >>> sc.clearJobTags()\n",
      " |  \n",
      " |  runJob(self, rdd: pyspark.rdd.RDD[~T], partitionFunc: Callable[[Iterable[~T]], Iterable[~U]], partitions: Optional[Sequence[int]] = None, allowLocal: bool = False) -> List[~U]\n",
      " |      Executes the given partitionFunc on the specified set of partitions,\n",
      " |      returning the result as an array of elements.\n",
      " |      \n",
      " |      If 'partitions' is not specified, this will run over all partitions.\n",
      " |      \n",
      " |      .. versionadded:: 1.1.0\n",
      " |      \n",
      " |      Parameters\n",
      " |      ----------\n",
      " |      rdd : :class:`RDD`\n",
      " |          target RDD to run tasks on\n",
      " |      partitionFunc : function\n",
      " |          a function to run on each partition of the RDD\n",
      " |      partitions : list, optional\n",
      " |          set of partitions to run on; some jobs may not want to compute on all\n",
      " |          partitions of the target RDD, e.g. for operations like `first`\n",
      " |      allowLocal : bool, default False\n",
      " |          this parameter takes no effect\n",
      " |      \n",
      " |      Returns\n",
      " |      -------\n",
      " |      list\n",
      " |          results of specified partitions\n",
      " |      \n",
      " |      See Also\n",
      " |      --------\n",
      " |      :meth:`SparkContext.cancelAllJobs`\n",
      " |      \n",
      " |      Examples\n",
      " |      --------\n",
      " |      >>> myRDD = sc.parallelize(range(6), 3)\n",
      " |      >>> sc.runJob(myRDD, lambda part: [x * x for x in part])\n",
      " |      [0, 1, 4, 9, 16, 25]\n",
      " |      \n",
      " |      >>> myRDD = sc.parallelize(range(6), 3)\n",
      " |      >>> sc.runJob(myRDD, lambda part: [x * x for x in part], [0, 2], True)\n",
      " |      [0, 1, 16, 25]\n",
      " |  \n",
      " |  sequenceFile(self, path: str, keyClass: Optional[str] = None, valueClass: Optional[str] = None, keyConverter: Optional[str] = None, valueConverter: Optional[str] = None, minSplits: Optional[int] = None, batchSize: int = 0) -> pyspark.rdd.RDD[typing.Tuple[~T, ~U]]\n",
      " |      Read a Hadoop SequenceFile with arbitrary key and value Writable class from HDFS,\n",
      " |      a local file system (available on all nodes), or any Hadoop-supported file system URI.\n",
      " |      The mechanism is as follows:\n",
      " |      \n",
      " |          1. A Java RDD is created from the SequenceFile or other InputFormat, and the key\n",
      " |             and value Writable classes\n",
      " |          2. Serialization is attempted via Pickle pickling\n",
      " |          3. If this fails, the fallback is to call 'toString' on each key and value\n",
      " |          4. :class:`CPickleSerializer` is used to deserialize pickled objects on the Python side\n",
      " |      \n",
      " |      .. versionadded:: 1.3.0\n",
      " |      \n",
      " |      Parameters\n",
      " |      ----------\n",
      " |      path : str\n",
      " |          path to sequencefile\n",
      " |      keyClass: str, optional\n",
      " |          fully qualified classname of key Writable class (e.g. \"org.apache.hadoop.io.Text\")\n",
      " |      valueClass : str, optional\n",
      " |          fully qualified classname of value Writable class\n",
      " |          (e.g. \"org.apache.hadoop.io.LongWritable\")\n",
      " |      keyConverter : str, optional\n",
      " |          fully qualified name of a function returning key WritableConverter\n",
      " |      valueConverter : str, optional\n",
      " |          fully qualifiedname of a function returning value WritableConverter\n",
      " |      minSplits : int, optional\n",
      " |          minimum splits in dataset (default min(2, sc.defaultParallelism))\n",
      " |      batchSize : int, optional, default 0\n",
      " |          The number of Python objects represented as a single\n",
      " |          Java object. (default 0, choose batchSize automatically)\n",
      " |      \n",
      " |      Returns\n",
      " |      -------\n",
      " |      :class:`RDD`\n",
      " |          RDD of tuples of key and corresponding value\n",
      " |      \n",
      " |      See Also\n",
      " |      --------\n",
      " |      :meth:`RDD.saveAsSequenceFile`\n",
      " |      :meth:`RDD.saveAsNewAPIHadoopFile`\n",
      " |      :meth:`RDD.saveAsHadoopFile`\n",
      " |      :meth:`SparkContext.newAPIHadoopFile`\n",
      " |      :meth:`SparkContext.hadoopFile`\n",
      " |      \n",
      " |      Examples\n",
      " |      --------\n",
      " |      >>> import os\n",
      " |      >>> import tempfile\n",
      " |      \n",
      " |      Set the class of output format\n",
      " |      \n",
      " |      >>> output_format_class = \"org.apache.hadoop.mapreduce.lib.output.SequenceFileOutputFormat\"\n",
      " |      \n",
      " |      >>> with tempfile.TemporaryDirectory() as d:\n",
      " |      ...     path = os.path.join(d, \"hadoop_file\")\n",
      " |      ...\n",
      " |      ...     # Write a temporary Hadoop file\n",
      " |      ...     rdd = sc.parallelize([(1, {3.0: \"bb\"}), (2, {1.0: \"aa\"}), (3, {2.0: \"dd\"})])\n",
      " |      ...     rdd.saveAsNewAPIHadoopFile(path, output_format_class)\n",
      " |      ...\n",
      " |      ...     collected = sorted(sc.sequenceFile(path).collect())\n",
      " |      \n",
      " |      >>> collected\n",
      " |      [(1, {3.0: 'bb'}), (2, {1.0: 'aa'}), (3, {2.0: 'dd'})]\n",
      " |  \n",
      " |  setCheckpointDir(self, dirName: str) -> None\n",
      " |      Set the directory under which RDDs are going to be checkpointed. The\n",
      " |      directory must be an HDFS path if running on a cluster.\n",
      " |      \n",
      " |      .. versionadded:: 0.7.0\n",
      " |      \n",
      " |      Parameters\n",
      " |      ----------\n",
      " |      dirName : str\n",
      " |          path to the directory where checkpoint files will be stored\n",
      " |          (must be HDFS path if running in cluster)\n",
      " |      \n",
      " |      See Also\n",
      " |      --------\n",
      " |      :meth:`SparkContext.getCheckpointDir`\n",
      " |      :meth:`RDD.checkpoint`\n",
      " |      :meth:`RDD.getCheckpointFile`\n",
      " |  \n",
      " |  setInterruptOnCancel(self, interruptOnCancel: bool) -> None\n",
      " |      Set the behavior of job cancellation from jobs started in this thread.\n",
      " |      \n",
      " |      .. versionadded:: 3.5.0\n",
      " |      \n",
      " |      Parameters\n",
      " |      ----------\n",
      " |      interruptOnCancel : bool\n",
      " |          If true, then job cancellation will result in ``Thread.interrupt()``\n",
      " |          being called on the job's executor threads. This is useful to help ensure that\n",
      " |          the tasks are actually stopped in a timely manner, but is off by default due to\n",
      " |          HDFS-1208, where HDFS may respond to ``Thread.interrupt()`` by marking nodes as dead.\n",
      " |      \n",
      " |      See Also\n",
      " |      --------\n",
      " |      :meth:`SparkContext.addJobTag`\n",
      " |      :meth:`SparkContext.removeJobTag`\n",
      " |      :meth:`SparkContext.cancelAllJobs`\n",
      " |      :meth:`SparkContext.cancelJobGroup`\n",
      " |      :meth:`SparkContext.cancelJobsWithTag`\n",
      " |  \n",
      " |  setJobDescription(self, value: str) -> None\n",
      " |      Set a human readable description of the current job.\n",
      " |      \n",
      " |      .. versionadded:: 2.3.0\n",
      " |      \n",
      " |      Parameters\n",
      " |      ----------\n",
      " |      value : str\n",
      " |          The job description to set.\n",
      " |      \n",
      " |      Notes\n",
      " |      -----\n",
      " |      If you run jobs in parallel, use :class:`pyspark.InheritableThread` for thread\n",
      " |      local inheritance.\n",
      " |  \n",
      " |  setJobGroup(self, groupId: str, description: str, interruptOnCancel: bool = False) -> None\n",
      " |      Assigns a group ID to all the jobs started by this thread until the group ID is set to a\n",
      " |      different value or cleared.\n",
      " |      \n",
      " |      Often, a unit of execution in an application consists of multiple Spark actions or jobs.\n",
      " |      Application programmers can use this method to group all those jobs together and give a\n",
      " |      group description. Once set, the Spark web UI will associate such jobs with this group.\n",
      " |      \n",
      " |      The application can use :meth:`SparkContext.cancelJobGroup` to cancel all\n",
      " |      running jobs in this group.\n",
      " |      \n",
      " |      .. versionadded:: 1.0.0\n",
      " |      \n",
      " |      Parameters\n",
      " |      ----------\n",
      " |      groupId : str\n",
      " |          The group ID to assign.\n",
      " |      description : str\n",
      " |          The description to set for the job group.\n",
      " |      interruptOnCancel : bool, optional, default False\n",
      " |          whether to interrupt jobs on job cancellation.\n",
      " |      \n",
      " |      Notes\n",
      " |      -----\n",
      " |      If interruptOnCancel is set to true for the job group, then job cancellation will result\n",
      " |      in Thread.interrupt() being called on the job's executor threads. This is useful to help\n",
      " |      ensure that the tasks are actually stopped in a timely manner, but is off by default due\n",
      " |      to HDFS-1208, where HDFS may respond to Thread.interrupt() by marking nodes as dead.\n",
      " |      \n",
      " |      If you run jobs in parallel, use :class:`pyspark.InheritableThread` for thread\n",
      " |      local inheritance.\n",
      " |      \n",
      " |      See Also\n",
      " |      --------\n",
      " |      :meth:`SparkContext.cancelJobGroup`\n",
      " |      \n",
      " |      Examples\n",
      " |      --------\n",
      " |      >>> import threading\n",
      " |      >>> from time import sleep\n",
      " |      >>> from pyspark import InheritableThread\n",
      " |      >>> result = \"Not Set\"\n",
      " |      >>> lock = threading.Lock()\n",
      " |      >>> def map_func(x):\n",
      " |      ...     sleep(100)\n",
      " |      ...     raise RuntimeError(\"Task should have been cancelled\")\n",
      " |      ...\n",
      " |      >>> def start_job(x):\n",
      " |      ...     global result\n",
      " |      ...     try:\n",
      " |      ...         sc.setJobGroup(\"job_to_cancel\", \"some description\")\n",
      " |      ...         result = sc.parallelize(range(x)).map(map_func).collect()\n",
      " |      ...     except Exception as e:\n",
      " |      ...         result = \"Cancelled\"\n",
      " |      ...     lock.release()\n",
      " |      ...\n",
      " |      >>> def stop_job():\n",
      " |      ...     sleep(5)\n",
      " |      ...     sc.cancelJobGroup(\"job_to_cancel\")\n",
      " |      ...\n",
      " |      >>> suppress = lock.acquire()\n",
      " |      >>> suppress = InheritableThread(target=start_job, args=(10,)).start()\n",
      " |      >>> suppress = InheritableThread(target=stop_job).start()\n",
      " |      >>> suppress = lock.acquire()\n",
      " |      >>> print(result)\n",
      " |      Cancelled\n",
      " |  \n",
      " |  setLocalProperty(self, key: str, value: str) -> None\n",
      " |      Set a local property that affects jobs submitted from this thread, such as the\n",
      " |      Spark fair scheduler pool.\n",
      " |      \n",
      " |      .. versionadded:: 1.0.0\n",
      " |      \n",
      " |      Parameters\n",
      " |      ----------\n",
      " |      key : str\n",
      " |          The key of the local property to set.\n",
      " |      value : str\n",
      " |          The value of the local property to set.\n",
      " |      \n",
      " |      See Also\n",
      " |      --------\n",
      " |      :meth:`SparkContext.getLocalProperty`\n",
      " |      \n",
      " |      Notes\n",
      " |      -----\n",
      " |      If you run jobs in parallel, use :class:`pyspark.InheritableThread` for thread\n",
      " |      local inheritance.\n",
      " |  \n",
      " |  setLogLevel(self, logLevel: str) -> None\n",
      " |      Control our logLevel. This overrides any user-defined log settings.\n",
      " |      Valid log levels include: ALL, DEBUG, ERROR, FATAL, INFO, OFF, TRACE, WARN\n",
      " |      \n",
      " |      .. versionadded:: 1.4.0\n",
      " |      \n",
      " |      Parameters\n",
      " |      ----------\n",
      " |      logLevel : str\n",
      " |          The desired log level as a string.\n",
      " |      \n",
      " |      Examples\n",
      " |      --------\n",
      " |      >>> sc.setLogLevel(\"WARN\")  # doctest :+SKIP\n",
      " |  \n",
      " |  show_profiles(self) -> None\n",
      " |      Print the profile stats to stdout\n",
      " |      \n",
      " |      .. versionadded:: 1.2.0\n",
      " |      \n",
      " |      See Also\n",
      " |      --------\n",
      " |      :meth:`SparkContext.dump_profiles`\n",
      " |  \n",
      " |  sparkUser(self) -> str\n",
      " |      Get SPARK_USER for user who is running SparkContext.\n",
      " |      \n",
      " |      .. versionadded:: 1.0.0\n",
      " |  \n",
      " |  statusTracker(self) -> pyspark.status.StatusTracker\n",
      " |      Return :class:`StatusTracker` object\n",
      " |      \n",
      " |      .. versionadded:: 1.4.0\n",
      " |  \n",
      " |  stop(self) -> None\n",
      " |      Shut down the :class:`SparkContext`.\n",
      " |      \n",
      " |      .. versionadded:: 0.7.0\n",
      " |  \n",
      " |  textFile(self, name: str, minPartitions: Optional[int] = None, use_unicode: bool = True) -> pyspark.rdd.RDD[str]\n",
      " |      Read a text file from HDFS, a local file system (available on all\n",
      " |      nodes), or any Hadoop-supported file system URI, and return it as an\n",
      " |      RDD of Strings. The text files must be encoded as UTF-8.\n",
      " |      \n",
      " |      .. versionadded:: 0.7.0\n",
      " |      \n",
      " |      Parameters\n",
      " |      ----------\n",
      " |      name : str\n",
      " |          directory to the input data files, the path can be comma separated\n",
      " |          paths as a list of inputs\n",
      " |      minPartitions : int, optional\n",
      " |          suggested minimum number of partitions for the resulting RDD\n",
      " |      use_unicode : bool, default True\n",
      " |          If `use_unicode` is False, the strings will be kept as `str` (encoding\n",
      " |          as `utf-8`), which is faster and smaller than unicode.\n",
      " |      \n",
      " |          .. versionadded:: 1.2.0\n",
      " |      \n",
      " |      Returns\n",
      " |      -------\n",
      " |      :class:`RDD`\n",
      " |          RDD representing text data from the file(s).\n",
      " |      \n",
      " |      See Also\n",
      " |      --------\n",
      " |      :meth:`RDD.saveAsTextFile`\n",
      " |      :meth:`SparkContext.wholeTextFiles`\n",
      " |      \n",
      " |      Examples\n",
      " |      --------\n",
      " |      >>> import os\n",
      " |      >>> import tempfile\n",
      " |      >>> with tempfile.TemporaryDirectory() as d:\n",
      " |      ...     path1 = os.path.join(d, \"text1\")\n",
      " |      ...     path2 = os.path.join(d, \"text2\")\n",
      " |      ...\n",
      " |      ...     # Write a temporary text file\n",
      " |      ...     sc.parallelize([\"x\", \"y\", \"z\"]).saveAsTextFile(path1)\n",
      " |      ...\n",
      " |      ...     # Write another temporary text file\n",
      " |      ...     sc.parallelize([\"aa\", \"bb\", \"cc\"]).saveAsTextFile(path2)\n",
      " |      ...\n",
      " |      ...     # Load text file\n",
      " |      ...     collected1 = sorted(sc.textFile(path1, 3).collect())\n",
      " |      ...     collected2 = sorted(sc.textFile(path2, 4).collect())\n",
      " |      ...\n",
      " |      ...     # Load two text files together\n",
      " |      ...     collected3 = sorted(sc.textFile('{},{}'.format(path1, path2), 5).collect())\n",
      " |      \n",
      " |      >>> collected1\n",
      " |      ['x', 'y', 'z']\n",
      " |      >>> collected2\n",
      " |      ['aa', 'bb', 'cc']\n",
      " |      >>> collected3\n",
      " |      ['aa', 'bb', 'cc', 'x', 'y', 'z']\n",
      " |  \n",
      " |  union(self, rdds: List[pyspark.rdd.RDD[~T]]) -> pyspark.rdd.RDD[~T]\n",
      " |      Build the union of a list of RDDs.\n",
      " |      \n",
      " |      This supports unions() of RDDs with different serialized formats,\n",
      " |      although this forces them to be reserialized using the default\n",
      " |      serializer:\n",
      " |      \n",
      " |      .. versionadded:: 0.7.0\n",
      " |      \n",
      " |      See Also\n",
      " |      --------\n",
      " |      :meth:`RDD.union`\n",
      " |      \n",
      " |      Examples\n",
      " |      --------\n",
      " |      >>> import os\n",
      " |      >>> import tempfile\n",
      " |      >>> with tempfile.TemporaryDirectory() as d:\n",
      " |      ...     # generate a text RDD\n",
      " |      ...     with open(os.path.join(d, \"union-text.txt\"), \"w\") as f:\n",
      " |      ...         _ = f.write(\"Hello\")\n",
      " |      ...     text_rdd = sc.textFile(d)\n",
      " |      ...\n",
      " |      ...     # generate another RDD\n",
      " |      ...     parallelized = sc.parallelize([\"World!\"])\n",
      " |      ...\n",
      " |      ...     unioned = sorted(sc.union([text_rdd, parallelized]).collect())\n",
      " |      \n",
      " |      >>> unioned\n",
      " |      ['Hello', 'World!']\n",
      " |  \n",
      " |  wholeTextFiles(self, path: str, minPartitions: Optional[int] = None, use_unicode: bool = True) -> pyspark.rdd.RDD[typing.Tuple[str, str]]\n",
      " |      Read a directory of text files from HDFS, a local file system\n",
      " |      (available on all nodes), or any  Hadoop-supported file system\n",
      " |      URI. Each file is read as a single record and returned in a\n",
      " |      key-value pair, where the key is the path of each file, the\n",
      " |      value is the content of each file.\n",
      " |      The text files must be encoded as UTF-8.\n",
      " |      \n",
      " |      .. versionadded:: 1.0.0\n",
      " |      \n",
      " |      For example, if you have the following files:\n",
      " |      \n",
      " |      .. code-block:: text\n",
      " |      \n",
      " |          hdfs://a-hdfs-path/part-00000\n",
      " |          hdfs://a-hdfs-path/part-00001\n",
      " |          ...\n",
      " |          hdfs://a-hdfs-path/part-nnnnn\n",
      " |      \n",
      " |      Do ``rdd = sparkContext.wholeTextFiles(\"hdfs://a-hdfs-path\")``,\n",
      " |      then ``rdd`` contains:\n",
      " |      \n",
      " |      .. code-block:: text\n",
      " |      \n",
      " |          (a-hdfs-path/part-00000, its content)\n",
      " |          (a-hdfs-path/part-00001, its content)\n",
      " |          ...\n",
      " |          (a-hdfs-path/part-nnnnn, its content)\n",
      " |      \n",
      " |      Parameters\n",
      " |      ----------\n",
      " |      path : str\n",
      " |          directory to the input data files, the path can be comma separated\n",
      " |          paths as a list of inputs\n",
      " |      minPartitions : int, optional\n",
      " |          suggested minimum number of partitions for the resulting RDD\n",
      " |      use_unicode : bool, default True\n",
      " |          If `use_unicode` is False, the strings will be kept as `str` (encoding\n",
      " |          as `utf-8`), which is faster and smaller than unicode.\n",
      " |      \n",
      " |          .. versionadded:: 1.2.0\n",
      " |      \n",
      " |      Returns\n",
      " |      -------\n",
      " |      :class:`RDD`\n",
      " |          RDD representing path-content pairs from the file(s).\n",
      " |      \n",
      " |      Notes\n",
      " |      -----\n",
      " |      Small files are preferred, as each file will be loaded fully in memory.\n",
      " |      \n",
      " |      See Also\n",
      " |      --------\n",
      " |      :meth:`RDD.saveAsTextFile`\n",
      " |      :meth:`SparkContext.textFile`\n",
      " |      \n",
      " |      Examples\n",
      " |      --------\n",
      " |      >>> import os\n",
      " |      >>> import tempfile\n",
      " |      >>> with tempfile.TemporaryDirectory() as d:\n",
      " |      ...     # Write a temporary text file\n",
      " |      ...     with open(os.path.join(d, \"1.txt\"), \"w\") as f:\n",
      " |      ...         _ = f.write(\"123\")\n",
      " |      ...\n",
      " |      ...     # Write another temporary text file\n",
      " |      ...     with open(os.path.join(d, \"2.txt\"), \"w\") as f:\n",
      " |      ...         _ = f.write(\"xyz\")\n",
      " |      ...\n",
      " |      ...     collected = sorted(sc.wholeTextFiles(d).collect())\n",
      " |      >>> collected\n",
      " |      [('.../1.txt', '123'), ('.../2.txt', 'xyz')]\n",
      " |  \n",
      " |  ----------------------------------------------------------------------\n",
      " |  Class methods defined here:\n",
      " |  \n",
      " |  getOrCreate(conf: Optional[pyspark.conf.SparkConf] = None) -> 'SparkContext' from builtins.type\n",
      " |      Get or instantiate a :class:`SparkContext` and register it as a singleton object.\n",
      " |      \n",
      " |      .. versionadded:: 1.4.0\n",
      " |      \n",
      " |      Parameters\n",
      " |      ----------\n",
      " |      conf : :class:`SparkConf`, optional\n",
      " |          :class:`SparkConf` that will be used for initialization of the :class:`SparkContext`.\n",
      " |      \n",
      " |      Returns\n",
      " |      -------\n",
      " |      :class:`SparkContext`\n",
      " |          current :class:`SparkContext`, or a new one if it wasn't created before the function\n",
      " |          call.\n",
      " |      \n",
      " |      Examples\n",
      " |      --------\n",
      " |      >>> SparkContext.getOrCreate()\n",
      " |      <SparkContext ...>\n",
      " |  \n",
      " |  setSystemProperty(key: str, value: str) -> None from builtins.type\n",
      " |      Set a Java system property, such as `spark.executor.memory`. This must\n",
      " |      be invoked before instantiating :class:`SparkContext`.\n",
      " |      \n",
      " |      .. versionadded:: 0.9.0\n",
      " |      \n",
      " |      Parameters\n",
      " |      ----------\n",
      " |      key : str\n",
      " |          The key of a new Java system property.\n",
      " |      value : str\n",
      " |          The value of a new Java system property.\n",
      " |  \n",
      " |  ----------------------------------------------------------------------\n",
      " |  Readonly properties defined here:\n",
      " |  \n",
      " |  applicationId\n",
      " |      A unique identifier for the Spark application.\n",
      " |      Its format depends on the scheduler implementation.\n",
      " |      \n",
      " |      * in case of local spark app something like 'local-1433865536131'\n",
      " |      * in case of YARN something like 'application_1433865536131_34483'\n",
      " |      \n",
      " |      .. versionadded:: 1.5.0\n",
      " |      \n",
      " |      Examples\n",
      " |      --------\n",
      " |      >>> sc.applicationId  # doctest: +ELLIPSIS\n",
      " |      'local-...'\n",
      " |  \n",
      " |  defaultMinPartitions\n",
      " |      Default min number of partitions for Hadoop RDDs when not given by user\n",
      " |      \n",
      " |      .. versionadded:: 1.1.0\n",
      " |      \n",
      " |      Examples\n",
      " |      --------\n",
      " |      >>> sc.defaultMinPartitions > 0\n",
      " |      True\n",
      " |  \n",
      " |  defaultParallelism\n",
      " |      Default level of parallelism to use when not given by user (e.g. for reduce tasks)\n",
      " |      \n",
      " |      .. versionadded:: 0.7.0\n",
      " |      \n",
      " |      Examples\n",
      " |      --------\n",
      " |      >>> sc.defaultParallelism > 0\n",
      " |      True\n",
      " |  \n",
      " |  listArchives\n",
      " |      Returns a list of archive paths that are added to resources.\n",
      " |      \n",
      " |      .. versionadded:: 3.4.0\n",
      " |      \n",
      " |      See Also\n",
      " |      --------\n",
      " |      :meth:`SparkContext.addArchive`\n",
      " |  \n",
      " |  listFiles\n",
      " |      Returns a list of file paths that are added to resources.\n",
      " |      \n",
      " |      .. versionadded:: 3.4.0\n",
      " |      \n",
      " |      See Also\n",
      " |      --------\n",
      " |      :meth:`SparkContext.addFile`\n",
      " |  \n",
      " |  resources\n",
      " |      Return the resource information of this :class:`SparkContext`.\n",
      " |      A resource could be a GPU, FPGA, etc.\n",
      " |      \n",
      " |      .. versionadded:: 3.0.0\n",
      " |  \n",
      " |  startTime\n",
      " |      Return the epoch time when the :class:`SparkContext` was started.\n",
      " |      \n",
      " |      .. versionadded:: 1.5.0\n",
      " |      \n",
      " |      Examples\n",
      " |      --------\n",
      " |      >>> _ = sc.startTime\n",
      " |  \n",
      " |  uiWebUrl\n",
      " |      Return the URL of the SparkUI instance started by this :class:`SparkContext`\n",
      " |      \n",
      " |      .. versionadded:: 2.1.0\n",
      " |      \n",
      " |      Notes\n",
      " |      -----\n",
      " |      When the web ui is disabled, e.g., by ``spark.ui.enabled`` set to ``False``,\n",
      " |      it returns ``None``.\n",
      " |      \n",
      " |      Examples\n",
      " |      --------\n",
      " |      >>> sc.uiWebUrl\n",
      " |      'http://...'\n",
      " |  \n",
      " |  version\n",
      " |      The version of Spark on which this application is running.\n",
      " |      \n",
      " |      .. versionadded:: 1.1.0\n",
      " |      \n",
      " |      Examples\n",
      " |      --------\n",
      " |      >>> _ = sc.version\n",
      " |  \n",
      " |  ----------------------------------------------------------------------\n",
      " |  Data descriptors defined here:\n",
      " |  \n",
      " |  __dict__\n",
      " |      dictionary for instance variables (if defined)\n",
      " |  \n",
      " |  __weakref__\n",
      " |      list of weak references to the object (if defined)\n",
      " |  \n",
      " |  ----------------------------------------------------------------------\n",
      " |  Data and other attributes defined here:\n",
      " |  \n",
      " |  PACKAGE_EXTENSIONS = ('.zip', '.egg', '.jar')\n",
      " |  \n",
      " |  __annotations__ = {'PACKAGE_EXTENSIONS': typing.Iterable[str], '_activ...\n",
      "\n"
     ]
    }
   ],
   "source": [
    "help(SparkContext)"
   ]
  },
  {
   "cell_type": "markdown",
   "metadata": {},
   "source": [
    "### First way to create SparkContext"
   ]
  },
  {
   "cell_type": "code",
   "execution_count": 3,
   "metadata": {},
   "outputs": [],
   "source": [
    "conf = SparkConf().setAppName(\"PySpark_Example\").setMaster(\"local[4]\")\n",
    "sc = SparkContext(conf=conf)"
   ]
  },
  {
   "cell_type": "markdown",
   "metadata": {},
   "source": [
    "1. setAppName(\"PySpark_Example\")\n",
    "Ini buat kasih nama ke aplikasi Spark yang lagi dibuat.\n",
    "Nama ini nanti nongol di web UI-nya Spark, jadi kalau lagi ngejalanin banyak aplikasi sekaligus, gampang bedain yang mana.\n",
    "Di sini namanya dikasih \"PySpark_Example\", tapi bisa bebas kasih nama apa aja.\n",
    "2. setMaster(\"local[4]\")\n",
    "Ini buat ngatur di mana aplikasi Spark dijalankan sama berapa core/CPU yang dipakai.\n",
    "\"local[4]\" artinya jalanin di mode lokal (di komputer sendiri, nggak pakai cluster), dan pakai 4 core/thread buat eksekusi.\n",
    "Kalau \"local[*]\", artinya pakai semua core yang ada di mesin.\n",
    "Kalau cuma \"local[1]\", ya cuma pakai 1 core aja.\n",
    "\n",
    "**Parameter Tambahan Lainnya (kalau perlu)**\n",
    "\n",
    "- spark.executor.memory\n",
    "\n",
    "Contoh: conf.set(\"spark.executor.memory\", \"2g\")\n",
    "Buat ngatur berapa banyak RAM yang dipakai setiap executor (2 GB di contoh ini).\n",
    "\n",
    "- spark.driver.memory\n",
    "\n",
    "Contoh: conf.set(\"spark.driver.memory\", \"4g\")\n",
    "Buat ngatur RAM yang dipakai driver aplikasi (di sini 4 GB).\n",
    "\n",
    "- spark.executor.cores\n",
    "\n",
    "Contoh: conf.set(\"spark.executor.cores\", \"2\")\n",
    "Ini buat ngatur berapa core per executor di cluster (nggak relevan kalau mode lokal).\n",
    "\n",
    "- spark.default.parallelism\n",
    "\n",
    "Contoh: conf.set(\"spark.default.parallelism\", \"8\")\n",
    "Ngatur jumlah partisi default buat operasi kayak reduceByKey atau join."
   ]
  },
  {
   "attachments": {
    "image.png": {
     "image/png": "[encoded data removed]"
    }
   },
   "cell_type": "markdown",
   "metadata": {},
   "source": [
    "![image.png](attachment:image.png)"
   ]
  },
  {
   "cell_type": "code",
   "execution_count": 4,
   "metadata": {},
   "outputs": [
    {
     "data": {
      "text/plain": [
       "[('spark.driver.extraJavaOptions',\n",
       "  '-Djava.net.preferIPv6Addresses=false -XX:+IgnoreUnrecognizedVMOptions --add-opens=java.base/java.lang=ALL-UNNAMED --add-opens=java.base/java.lang.invoke=ALL-UNNAMED --add-opens=java.base/java.lang.reflect=ALL-UNNAMED --add-opens=java.base/java.io=ALL-UNNAMED --add-opens=java.base/java.net=ALL-UNNAMED --add-opens=java.base/java.nio=ALL-UNNAMED --add-opens=java.base/java.util=ALL-UNNAMED --add-opens=java.base/java.util.concurrent=ALL-UNNAMED --add-opens=java.base/java.util.concurrent.atomic=ALL-UNNAMED --add-opens=java.base/jdk.internal.ref=ALL-UNNAMED --add-opens=java.base/sun.nio.ch=ALL-UNNAMED --add-opens=java.base/sun.nio.cs=ALL-UNNAMED --add-opens=java.base/sun.security.action=ALL-UNNAMED --add-opens=java.base/sun.util.calendar=ALL-UNNAMED --add-opens=java.security.jgss/sun.security.krb5=ALL-UNNAMED -Djdk.reflect.useDirectMethodHandle=false'),\n",
       " ('spark.master', 'local[4]'),\n",
       " ('spark.app.name', 'PySpark_Example'),\n",
       " ('spark.executor.id', 'driver'),\n",
       " ('spark.app.submitTime', '1732451467616'),\n",
       " ('spark.app.id', 'local-1732451468423'),\n",
       " ('spark.driver.host', 'Mich.mshome.net'),\n",
       " ('spark.driver.port', '56382'),\n",
       " ('spark.rdd.compress', 'True'),\n",
       " ('spark.executor.extraJavaOptions',\n",
       "  '-Djava.net.preferIPv6Addresses=false -XX:+IgnoreUnrecognizedVMOptions --add-opens=java.base/java.lang=ALL-UNNAMED --add-opens=java.base/java.lang.invoke=ALL-UNNAMED --add-opens=java.base/java.lang.reflect=ALL-UNNAMED --add-opens=java.base/java.io=ALL-UNNAMED --add-opens=java.base/java.net=ALL-UNNAMED --add-opens=java.base/java.nio=ALL-UNNAMED --add-opens=java.base/java.util=ALL-UNNAMED --add-opens=java.base/java.util.concurrent=ALL-UNNAMED --add-opens=java.base/java.util.concurrent.atomic=ALL-UNNAMED --add-opens=java.base/jdk.internal.ref=ALL-UNNAMED --add-opens=java.base/sun.nio.ch=ALL-UNNAMED --add-opens=java.base/sun.nio.cs=ALL-UNNAMED --add-opens=java.base/sun.security.action=ALL-UNNAMED --add-opens=java.base/sun.util.calendar=ALL-UNNAMED --add-opens=java.security.jgss/sun.security.krb5=ALL-UNNAMED -Djdk.reflect.useDirectMethodHandle=false'),\n",
       " ('spark.app.startTime', '1732451467710'),\n",
       " ('spark.serializer.objectStreamReset', '100'),\n",
       " ('spark.submit.pyFiles', ''),\n",
       " ('spark.submit.deployMode', 'client'),\n",
       " ('spark.ui.showConsoleProgress', 'true')]"
      ]
     },
     "execution_count": 4,
     "metadata": {},
     "output_type": "execute_result"
    }
   ],
   "source": [
    "sc.getConf().getAll()"
   ]
  },
  {
   "cell_type": "code",
   "execution_count": 5,
   "metadata": {},
   "outputs": [],
   "source": [
    "sc.stop()"
   ]
  },
  {
   "cell_type": "markdown",
   "metadata": {},
   "source": [
    "### Second way, Create a SparkContext that loads settings"
   ]
  },
  {
   "cell_type": "code",
   "execution_count": 6,
   "metadata": {
    "id": "9zd5ha8W5ThJ"
   },
   "outputs": [],
   "source": [
    "sc = SparkContext()"
   ]
  },
  {
   "cell_type": "code",
   "execution_count": 7,
   "metadata": {
    "id": "LhmnLSVi5ThJ",
    "outputId": "1c661aa6-d850-40b0-e2e0-b04f4a883e13"
   },
   "outputs": [
    {
     "data": {
      "text/plain": [
       "[('spark.driver.extraJavaOptions',\n",
       "  '-Djava.net.preferIPv6Addresses=false -XX:+IgnoreUnrecognizedVMOptions --add-opens=java.base/java.lang=ALL-UNNAMED --add-opens=java.base/java.lang.invoke=ALL-UNNAMED --add-opens=java.base/java.lang.reflect=ALL-UNNAMED --add-opens=java.base/java.io=ALL-UNNAMED --add-opens=java.base/java.net=ALL-UNNAMED --add-opens=java.base/java.nio=ALL-UNNAMED --add-opens=java.base/java.util=ALL-UNNAMED --add-opens=java.base/java.util.concurrent=ALL-UNNAMED --add-opens=java.base/java.util.concurrent.atomic=ALL-UNNAMED --add-opens=java.base/jdk.internal.ref=ALL-UNNAMED --add-opens=java.base/sun.nio.ch=ALL-UNNAMED --add-opens=java.base/sun.nio.cs=ALL-UNNAMED --add-opens=java.base/sun.security.action=ALL-UNNAMED --add-opens=java.base/sun.util.calendar=ALL-UNNAMED --add-opens=java.security.jgss/sun.security.krb5=ALL-UNNAMED -Djdk.reflect.useDirectMethodHandle=false'),\n",
       " ('spark.master', 'local[4]'),\n",
       " ('spark.app.name', 'PySpark_Example'),\n",
       " ('spark.app.startTime', '1732451469136'),\n",
       " ('spark.executor.id', 'driver'),\n",
       " ('spark.app.submitTime', '1732451467616'),\n",
       " ('spark.driver.host', 'Mich.mshome.net'),\n",
       " ('spark.app.id', 'local-1732451469171'),\n",
       " ('spark.rdd.compress', 'True'),\n",
       " ('spark.executor.extraJavaOptions',\n",
       "  '-Djava.net.preferIPv6Addresses=false -XX:+IgnoreUnrecognizedVMOptions --add-opens=java.base/java.lang=ALL-UNNAMED --add-opens=java.base/java.lang.invoke=ALL-UNNAMED --add-opens=java.base/java.lang.reflect=ALL-UNNAMED --add-opens=java.base/java.io=ALL-UNNAMED --add-opens=java.base/java.net=ALL-UNNAMED --add-opens=java.base/java.nio=ALL-UNNAMED --add-opens=java.base/java.util=ALL-UNNAMED --add-opens=java.base/java.util.concurrent=ALL-UNNAMED --add-opens=java.base/java.util.concurrent.atomic=ALL-UNNAMED --add-opens=java.base/jdk.internal.ref=ALL-UNNAMED --add-opens=java.base/sun.nio.ch=ALL-UNNAMED --add-opens=java.base/sun.nio.cs=ALL-UNNAMED --add-opens=java.base/sun.security.action=ALL-UNNAMED --add-opens=java.base/sun.util.calendar=ALL-UNNAMED --add-opens=java.security.jgss/sun.security.krb5=ALL-UNNAMED -Djdk.reflect.useDirectMethodHandle=false'),\n",
       " ('spark.serializer.objectStreamReset', '100'),\n",
       " ('spark.submit.pyFiles', ''),\n",
       " ('spark.submit.deployMode', 'client'),\n",
       " ('spark.driver.port', '56446'),\n",
       " ('spark.ui.showConsoleProgress', 'true')]"
      ]
     },
     "execution_count": 7,
     "metadata": {},
     "output_type": "execute_result"
    }
   ],
   "source": [
    "sc.getConf().getAll()"
   ]
  },
  {
   "cell_type": "code",
   "execution_count": 8,
   "metadata": {
    "id": "AgMRaoQx5ThJ"
   },
   "outputs": [],
   "source": [
    "sc.stop()"
   ]
  },
  {
   "cell_type": "markdown",
   "metadata": {},
   "source": [
    "### Third way to combining both"
   ]
  },
  {
   "cell_type": "code",
   "execution_count": 9,
   "metadata": {
    "id": "iiPyr6jn5ThK"
   },
   "outputs": [],
   "source": [
    "# SparkContext(master: Optional[str] = None, appName: Optional[str] = None,......\n",
    "sc = SparkContext(\"local\", \"First App\")"
   ]
  },
  {
   "cell_type": "markdown",
   "metadata": {
    "id": "APOQkusF5ThK"
   },
   "source": [
    "Rdd - Reselient Distributed Dataset\n",
    "An RDD in Spark is simply an immutable distributed collections of objects. Each RDD IS split into multiple\n",
    "partitions, which may be computed on different nodes of the cluster.\n",
    "\n",
    "RDD can be created in two ways: by loading an external dataset, or by transforming one RDD into another."
   ]
  },
  {
   "cell_type": "code",
   "execution_count": 10,
   "metadata": {
    "id": "GTLT_4ou5ThK",
    "outputId": "5d4fed28-7961-4f0e-f0cd-66925fa2d72f"
   },
   "outputs": [
    {
     "data": {
      "image/jpeg": "[encoded data removed]",
      "text/plain": [
       "<IPython.core.display.Image object>"
      ]
     },
     "execution_count": 10,
     "metadata": {},
     "output_type": "execute_result"
    }
   ],
   "source": [
    "from IPython.display import Image\n",
    "Image(filename='RDD_Intro.jpg')"
   ]
  },
  {
   "cell_type": "code",
   "execution_count": 11,
   "metadata": {
    "id": "uw6SjXr45ThK",
    "outputId": "bad0be40-5a00-42df-c0b8-39226933ae7b"
   },
   "outputs": [
    {
     "data": {
      "image/jpeg": "[encoded data removed]",
      "text/plain": [
       "<IPython.core.display.Image object>"
      ]
     },
     "execution_count": 11,
     "metadata": {},
     "output_type": "execute_result"
    }
   ],
   "source": [
    "Image(filename='RDD_Actions_Transformations.jpg')"
   ]
  },
  {
   "cell_type": "markdown",
   "metadata": {
    "id": "UoP39zqG5ThK"
   },
   "source": [
    "## Create RDD and their Basic Actions"
   ]
  },
  {
   "cell_type": "code",
   "execution_count": 12,
   "metadata": {
    "id": "7xiRAl1e5ThK"
   },
   "outputs": [],
   "source": [
    "names = sc.parallelize(['Adam','Cray','Shaun','Brain','Mark','Christ','Shail','Satya','Mark','Norby','Frans','Mark','Bill'])"
   ]
  },
  {
   "cell_type": "code",
   "execution_count": 13,
   "metadata": {
    "id": "9CHZV1cT5ThK",
    "outputId": "a148dce5-981b-4e88-ba46-d8a186c3bea6"
   },
   "outputs": [
    {
     "data": {
      "text/plain": [
       "pyspark.rdd.RDD"
      ]
     },
     "execution_count": 13,
     "metadata": {},
     "output_type": "execute_result"
    }
   ],
   "source": [
    "type(names)"
   ]
  },
  {
   "cell_type": "code",
   "execution_count": 14,
   "metadata": {
    "id": "BtPUQsse5ThK",
    "outputId": "b356c179-06e7-4d9b-d43d-0523337bc497"
   },
   "outputs": [
    {
     "data": {
      "text/plain": [
       "['Adam',\n",
       " 'Cray',\n",
       " 'Shaun',\n",
       " 'Brain',\n",
       " 'Mark',\n",
       " 'Christ',\n",
       " 'Shail',\n",
       " 'Satya',\n",
       " 'Mark',\n",
       " 'Norby',\n",
       " 'Frans',\n",
       " 'Mark',\n",
       " 'Bill']"
      ]
     },
     "execution_count": 14,
     "metadata": {},
     "output_type": "execute_result"
    }
   ],
   "source": [
    "names.collect() # Action"
   ]
  },
  {
   "cell_type": "code",
   "execution_count": 15,
   "metadata": {
    "id": "2A5G381w5ThK",
    "outputId": "4ea67c9b-12b5-4f2f-dae6-49850abd24ec"
   },
   "outputs": [
    {
     "data": {
      "text/plain": [
       "defaultdict(int,\n",
       "            {'Adam': 1,\n",
       "             'Cray': 1,\n",
       "             'Shaun': 1,\n",
       "             'Brain': 1,\n",
       "             'Mark': 3,\n",
       "             'Christ': 1,\n",
       "             'Shail': 1,\n",
       "             'Satya': 1,\n",
       "             'Norby': 1,\n",
       "             'Frans': 1,\n",
       "             'Bill': 1})"
      ]
     },
     "execution_count": 15,
     "metadata": {},
     "output_type": "execute_result"
    }
   ],
   "source": [
    "names.countByValue()"
   ]
  },
  {
   "cell_type": "markdown",
   "metadata": {
    "id": "nfzsoB-t5ThK"
   },
   "source": [
    "Foreach is an action, it takes each element and applies a function, but it does not return a value. This is particularly useful in you have to call perform some calculation on an RDD and log the result somewhere else,\n",
    "for example a database or call a REST API with each element in the RDD."
   ]
  },
  {
   "cell_type": "code",
   "execution_count": 16,
   "metadata": {
    "id": "iuqqrEZw5ThK"
   },
   "outputs": [],
   "source": [
    "\n",
    "def f(x): print(x)\n",
    "a=sc.parallelize([1, 2, 3, 4, 5]).foreach(lambda x : print(x))"
   ]
  },
  {
   "cell_type": "code",
   "execution_count": 17,
   "metadata": {
    "id": "fdw1C_uk5ThK",
    "outputId": "3181913c-dfd2-4b55-e48e-0d992e36ad9c"
   },
   "outputs": [
    {
     "data": {
      "text/plain": [
       "NoneType"
      ]
     },
     "execution_count": 17,
     "metadata": {},
     "output_type": "execute_result"
    }
   ],
   "source": [
    "type(a)"
   ]
  },
  {
   "cell_type": "code",
   "execution_count": 18,
   "metadata": {
    "id": "nQ7p8Cv85ThL"
   },
   "outputs": [],
   "source": [
    "a=sc.parallelize([(1,2),(2,4)])"
   ]
  },
  {
   "cell_type": "code",
   "execution_count": 19,
   "metadata": {
    "id": "NRgKj1Sl5ThL"
   },
   "outputs": [
    {
     "data": {
      "text/plain": [
       "defaultdict(int, {(1, 2): 1, (2, 4): 1})"
      ]
     },
     "execution_count": 19,
     "metadata": {},
     "output_type": "execute_result"
    }
   ],
   "source": [
    "a.countByValue()"
   ]
  },
  {
   "cell_type": "code",
   "execution_count": 20,
   "metadata": {
    "id": "NyWySrFH5ThL",
    "outputId": "06a9681b-82d2-4a6e-c8ad-b7d89e5759d1"
   },
   "outputs": [
    {
     "data": {
      "text/plain": [
       "['Adam',\n",
       " 'Cray',\n",
       " 'Shaun',\n",
       " 'Brain',\n",
       " 'Mark',\n",
       " 'Christ',\n",
       " 'Shail',\n",
       " 'Satya',\n",
       " 'Mark',\n",
       " 'Norby',\n",
       " 'Frans',\n",
       " 'Mark',\n",
       " 'Bill']"
      ]
     },
     "execution_count": 20,
     "metadata": {},
     "output_type": "execute_result"
    }
   ],
   "source": [
    "names.collect()"
   ]
  },
  {
   "cell_type": "code",
   "execution_count": 21,
   "metadata": {
    "id": "vJe_31CU5ThL",
    "outputId": "e2eed2c2-2e94-4fb0-8776-b06ea3ce2621"
   },
   "outputs": [
    {
     "data": {
      "text/plain": [
       "['Adam', 'Cray', 'Shaun', 'Brain', 'Mark']"
      ]
     },
     "execution_count": 21,
     "metadata": {},
     "output_type": "execute_result"
    }
   ],
   "source": [
    "names.take(5)"
   ]
  },
  {
   "cell_type": "code",
   "execution_count": 22,
   "metadata": {
    "id": "acAGfu0c5ThL"
   },
   "outputs": [],
   "source": [
    "employees = sc.textFile(\"employees.txt\")"
   ]
  },
  {
   "cell_type": "code",
   "execution_count": 23,
   "metadata": {
    "id": "fulrn0b_5ThL",
    "outputId": "4c959d98-ddda-43d1-a2c3-4770140837f1"
   },
   "outputs": [
    {
     "data": {
      "text/plain": [
       "pyspark.rdd.RDD"
      ]
     },
     "execution_count": 23,
     "metadata": {},
     "output_type": "execute_result"
    }
   ],
   "source": [
    "type(employees)"
   ]
  },
  {
   "cell_type": "code",
   "execution_count": 24,
   "metadata": {
    "id": "A7uwOfzl5ThL",
    "outputId": "84acb47a-ffc7-4b16-c4b1-df5643c81e93"
   },
   "outputs": [
    {
     "data": {
      "text/plain": [
       "['Adam',\n",
       " 'Cray ',\n",
       " 'Shaun',\n",
       " 'Brain',\n",
       " 'Mark',\n",
       " 'Christ',\n",
       " 'Shail',\n",
       " 'Satya',\n",
       " 'Mark',\n",
       " 'Norby',\n",
       " 'Frans',\n",
       " 'Mark',\n",
       " 'Bill']"
      ]
     },
     "execution_count": 24,
     "metadata": {},
     "output_type": "execute_result"
    }
   ],
   "source": [
    "employees.collect()"
   ]
  },
  {
   "cell_type": "code",
   "execution_count": 25,
   "metadata": {
    "id": "eTpuuXrj5ThL",
    "outputId": "b0fa7ec7-95d7-4cb6-9e20-bc0ff71e1b12"
   },
   "outputs": [
    {
     "data": {
      "text/plain": [
       "'Adam'"
      ]
     },
     "execution_count": 25,
     "metadata": {},
     "output_type": "execute_result"
    }
   ],
   "source": [
    "employees.first()"
   ]
  },
  {
   "cell_type": "code",
   "execution_count": 26,
   "metadata": {
    "id": "U5rPVAHb5ThL",
    "outputId": "dfb2a7de-37e9-4a83-b44a-5440fae32b02"
   },
   "outputs": [
    {
     "data": {
      "text/plain": [
       "13"
      ]
     },
     "execution_count": 26,
     "metadata": {},
     "output_type": "execute_result"
    }
   ],
   "source": [
    "employees.count()"
   ]
  },
  {
   "cell_type": "code",
   "execution_count": null,
   "metadata": {
    "id": "aDFSVYr35ThL",
    "outputId": "88066420-8e04-4eda-fe20-d13834461782"
   },
   "outputs": [
    {
     "data": {
      "text/plain": [
       "['Shaun', 'Shail', 'Satya', 'Norby', 'Mark']"
      ]
     },
     "execution_count": 27,
     "metadata": {},
     "output_type": "execute_result"
    }
   ],
   "source": [
    "employees.top(5) # Action\n",
    "# Sorts the data in descending order and returns the top 5 records"
   ]
  },
  {
   "cell_type": "code",
   "execution_count": 28,
   "metadata": {
    "id": "dUP4Xi1A5ThL",
    "outputId": "a69aebaf-3f27-41cc-9be9-fee1ae39be68"
   },
   "outputs": [
    {
     "data": {
      "text/plain": [
       "['Shaun',\n",
       " 'Shail',\n",
       " 'Satya',\n",
       " 'Norby',\n",
       " 'Mark',\n",
       " 'Mark',\n",
       " 'Mark',\n",
       " 'Frans',\n",
       " 'Cray ',\n",
       " 'Christ',\n",
       " 'Brain',\n",
       " 'Bill',\n",
       " 'Adam']"
      ]
     },
     "execution_count": 28,
     "metadata": {},
     "output_type": "execute_result"
    }
   ],
   "source": [
    "employees.top(19)"
   ]
  },
  {
   "cell_type": "code",
   "execution_count": 29,
   "metadata": {
    "id": "2wthpRp45ThL",
    "outputId": "f8e2053a-dcc6-4ee0-9694-17ab08ebbdfe"
   },
   "outputs": [
    {
     "data": {
      "text/plain": [
       "11"
      ]
     },
     "execution_count": 29,
     "metadata": {},
     "output_type": "execute_result"
    }
   ],
   "source": [
    "employees.distinct().count()"
   ]
  },
  {
   "cell_type": "markdown",
   "metadata": {
    "id": "wRmJdrwR5ThL"
   },
   "source": [
    "## Taking number example for better clarity"
   ]
  },
  {
   "cell_type": "code",
   "execution_count": 30,
   "metadata": {},
   "outputs": [
    {
     "name": "stdout",
     "output_type": "stream",
     "text": [
      "Help on method parallelize in module pyspark.context:\n",
      "\n",
      "parallelize(c: Iterable[~T], numSlices: Optional[int] = None) -> pyspark.rdd.RDD[~T] method of pyspark.context.SparkContext instance\n",
      "    Distribute a local Python collection to form an RDD. Using range\n",
      "    is recommended if the input represents a range for performance.\n",
      "    \n",
      "    .. versionadded:: 0.7.0\n",
      "    \n",
      "    Parameters\n",
      "    ----------\n",
      "    c : :class:`collections.abc.Iterable`\n",
      "        iterable collection to distribute\n",
      "    numSlices : int, optional\n",
      "        the number of partitions of the new RDD\n",
      "    \n",
      "    Returns\n",
      "    -------\n",
      "    :class:`RDD`\n",
      "        RDD representing distributed collection.\n",
      "    \n",
      "    Examples\n",
      "    --------\n",
      "    >>> sc.parallelize([0, 2, 3, 4, 6], 5).glom().collect()\n",
      "    [[0], [2], [3], [4], [6]]\n",
      "    >>> sc.parallelize(range(0, 6, 2), 5).glom().collect()\n",
      "    [[], [0], [], [2], [4]]\n",
      "    \n",
      "    Deal with a list of strings.\n",
      "    \n",
      "    >>> strings = [\"a\", \"b\", \"c\"]\n",
      "    >>> sc.parallelize(strings, 2).glom().collect()\n",
      "    [['a'], ['b', 'c']]\n",
      "\n"
     ]
    }
   ],
   "source": [
    "help(sc.parallelize)"
   ]
  },
  {
   "cell_type": "markdown",
   "metadata": {},
   "source": [
    "    c : :class:`collections.abc.Iterable`\n",
    "        iterable collection to distribute\n",
    "    numSlices : int, optional\n",
    "        the number of partitions of the new RDD"
   ]
  },
  {
   "cell_type": "code",
   "execution_count": 31,
   "metadata": {
    "id": "__FBc5oa5ThL",
    "outputId": "34a69d23-bd15-47eb-b0e1-fa1d8a20aa5d"
   },
   "outputs": [
    {
     "data": {
      "text/plain": [
       "[5, 5, 4, 3, 2, 9, 2]"
      ]
     },
     "execution_count": 31,
     "metadata": {},
     "output_type": "execute_result"
    }
   ],
   "source": [
    "# parallelize(c: Iterable[~T], numSlices: Optional[int] = None)\n",
    "# Default numSlices is None or 1\n",
    "\n",
    "num = sc.parallelize([5,5,4,3,2,9,2], 9)\n",
    "num.collect()"
   ]
  },
  {
   "cell_type": "code",
   "execution_count": 32,
   "metadata": {},
   "outputs": [
    {
     "data": {
      "text/plain": [
       "[1, 2, 3, 4, 5, 6, 7, 8, 9, 10, 10]"
      ]
     },
     "execution_count": 32,
     "metadata": {},
     "output_type": "execute_result"
    }
   ],
   "source": [
    "sc.parallelize((1,2,3,4,5,6,7,8,9,10,10)).collect()"
   ]
  },
  {
   "cell_type": "code",
   "execution_count": 33,
   "metadata": {},
   "outputs": [
    {
     "data": {
      "text/plain": [
       "[1, 2, 3, 4, 5, 6, 7, 8, 9, 10]"
      ]
     },
     "execution_count": 33,
     "metadata": {},
     "output_type": "execute_result"
    }
   ],
   "source": [
    "sc.parallelize({1,2,3,4,5,6,7,8,9,10,10}).collect()"
   ]
  },
  {
   "cell_type": "code",
   "execution_count": 34,
   "metadata": {
    "id": "somxw-0X5ThL",
    "outputId": "64e8849a-af7c-45b5-9027-a334ecd1c457"
   },
   "outputs": [
    {
     "data": {
      "text/plain": [
       "[5, 5, 4, 3]"
      ]
     },
     "execution_count": 34,
     "metadata": {},
     "output_type": "execute_result"
    }
   ],
   "source": [
    "num.take(4)"
   ]
  },
  {
   "cell_type": "code",
   "execution_count": 35,
   "metadata": {
    "id": "R7kl_EJ25ThL",
    "outputId": "82776a1c-e95b-4d6f-c981-a27ed1cf5018"
   },
   "outputs": [
    {
     "data": {
      "text/plain": [
       "defaultdict(int, {5: 2, 4: 1, 3: 1, 2: 2, 9: 1})"
      ]
     },
     "execution_count": 35,
     "metadata": {},
     "output_type": "execute_result"
    }
   ],
   "source": [
    "num.countByValue()"
   ]
  },
  {
   "cell_type": "code",
   "execution_count": 36,
   "metadata": {
    "id": "m4gCe3pU5ThO",
    "outputId": "5329b1bb-170d-4e94-a58d-45e82b3f815c"
   },
   "outputs": [
    {
     "data": {
      "text/plain": [
       "pyspark.rdd.RDD"
      ]
     },
     "execution_count": 36,
     "metadata": {},
     "output_type": "execute_result"
    }
   ],
   "source": [
    "type(num)"
   ]
  },
  {
   "cell_type": "markdown",
   "metadata": {
    "id": "k6hvL5dY5ThO"
   },
   "source": [
    "### GLOM : RDD OF LIST (ARRAY)"
   ]
  },
  {
   "cell_type": "code",
   "execution_count": 37,
   "metadata": {
    "id": "J1H15SNN5ThP",
    "outputId": "36b0c07f-221b-4b29-c9a1-187b3a556fb8"
   },
   "outputs": [
    {
     "data": {
      "text/plain": [
       "[[], [5], [5], [4], [], [3], [2], [9], [2]]"
      ]
     },
     "execution_count": 37,
     "metadata": {},
     "output_type": "execute_result"
    }
   ],
   "source": [
    "num.glom().collect()"
   ]
  },
  {
   "cell_type": "code",
   "execution_count": 38,
   "metadata": {},
   "outputs": [
    {
     "data": {
      "text/plain": [
       "[]"
      ]
     },
     "execution_count": 38,
     "metadata": {},
     "output_type": "execute_result"
    }
   ],
   "source": [
    "num.glom().collect()[0]"
   ]
  },
  {
   "cell_type": "code",
   "execution_count": 39,
   "metadata": {},
   "outputs": [
    {
     "data": {
      "text/plain": [
       "[[5], [5], [4], [], [3], [2], [9], [2]]"
      ]
     },
     "execution_count": 39,
     "metadata": {},
     "output_type": "execute_result"
    }
   ],
   "source": [
    "num.glom().collect()[1:]"
   ]
  },
  {
   "cell_type": "code",
   "execution_count": 40,
   "metadata": {
    "id": "qMPL6eWK5ThP",
    "outputId": "5d0fe554-dbf8-4641-b964-d127a280a756"
   },
   "outputs": [
    {
     "data": {
      "text/plain": [
       "pyspark.rdd.PipelinedRDD"
      ]
     },
     "execution_count": 40,
     "metadata": {},
     "output_type": "execute_result"
    }
   ],
   "source": [
    "type(num.glom())"
   ]
  },
  {
   "cell_type": "code",
   "execution_count": 41,
   "metadata": {
    "id": "PCLZu8XE5ThP",
    "outputId": "57fd4742-c70c-40fc-ae0e-12c21fcc50c8"
   },
   "outputs": [
    {
     "data": {
      "text/plain": [
       "9"
      ]
     },
     "execution_count": 41,
     "metadata": {},
     "output_type": "execute_result"
    }
   ],
   "source": [
    "num.max()"
   ]
  },
  {
   "cell_type": "code",
   "execution_count": 42,
   "metadata": {
    "id": "V0tP13Ay5ThP",
    "outputId": "c63c4445-dfb6-42d8-cf36-3d97e6846cc3"
   },
   "outputs": [
    {
     "data": {
      "text/plain": [
       "2"
      ]
     },
     "execution_count": 42,
     "metadata": {},
     "output_type": "execute_result"
    }
   ],
   "source": [
    "num.min()"
   ]
  },
  {
   "cell_type": "code",
   "execution_count": 43,
   "metadata": {
    "id": "bdLxA29_5ThP",
    "outputId": "7fa9c547-acb6-4066-92bf-0681a7f39df2"
   },
   "outputs": [
    {
     "data": {
      "text/plain": [
       "4.285714285714286"
      ]
     },
     "execution_count": 43,
     "metadata": {},
     "output_type": "execute_result"
    }
   ],
   "source": [
    "num.mean()"
   ]
  },
  {
   "cell_type": "markdown",
   "metadata": {},
   "source": [
    "#### reduce function -> action"
   ]
  },
  {
   "cell_type": "code",
   "execution_count": 44,
   "metadata": {},
   "outputs": [
    {
     "name": "stdout",
     "output_type": "stream",
     "text": [
      "Help on method reduce in module pyspark.rdd:\n",
      "\n",
      "reduce(f: Callable[[~T, ~T], ~T]) -> ~T method of pyspark.rdd.RDD instance\n",
      "    Reduces the elements of this RDD using the specified commutative and\n",
      "    associative binary operator. Currently reduces partitions locally.\n",
      "    \n",
      "    .. versionadded:: 0.7.0\n",
      "    \n",
      "    Parameters\n",
      "    ----------\n",
      "    f : function\n",
      "        the reduce function\n",
      "    \n",
      "    Returns\n",
      "    -------\n",
      "    T\n",
      "        the aggregated result\n",
      "    \n",
      "    See Also\n",
      "    --------\n",
      "    :meth:`RDD.treeReduce`\n",
      "    :meth:`RDD.aggregate`\n",
      "    :meth:`RDD.treeAggregate`\n",
      "    \n",
      "    Examples\n",
      "    --------\n",
      "    >>> from operator import add\n",
      "    >>> sc.parallelize([1, 2, 3, 4, 5]).reduce(add)\n",
      "    15\n",
      "    >>> sc.parallelize((2 for _ in range(10))).map(lambda x: 1).cache().reduce(add)\n",
      "    10\n",
      "    >>> sc.parallelize([]).reduce(add)\n",
      "    Traceback (most recent call last):\n",
      "        ...\n",
      "    ValueError: Can not reduce() empty RDD\n",
      "\n"
     ]
    }
   ],
   "source": [
    "help(num.reduce)"
   ]
  },
  {
   "cell_type": "code",
   "execution_count": 45,
   "metadata": {
    "id": "8XsE2NKq5ThP",
    "outputId": "2538e6fa-0eac-4d56-b500-a114459b8887"
   },
   "outputs": [
    {
     "data": {
      "image/jpeg": "[encoded data removed]",
      "text/plain": [
       "<IPython.core.display.Image object>"
      ]
     },
     "execution_count": 45,
     "metadata": {},
     "output_type": "execute_result"
    }
   ],
   "source": [
    "Image(filename='Action_Reduce.jpg')"
   ]
  },
  {
   "cell_type": "code",
   "execution_count": 46,
   "metadata": {
    "id": "A6OfjH1A5ThP",
    "outputId": "d82535ab-626d-4fc2-f0d2-987e3004dd18"
   },
   "outputs": [
    {
     "data": {
      "text/plain": [
       "[5, 5, 4, 3, 2, 9, 2]"
      ]
     },
     "execution_count": 46,
     "metadata": {},
     "output_type": "execute_result"
    }
   ],
   "source": [
    "num.collect()"
   ]
  },
  {
   "cell_type": "code",
   "execution_count": 47,
   "metadata": {},
   "outputs": [],
   "source": [
    "num2 = sc.parallelize([1,2,3,4,5,6,7,8,9])"
   ]
  },
  {
   "cell_type": "code",
   "execution_count": 48,
   "metadata": {
    "id": "mZiEcA8k5ThP",
    "outputId": "02a2a110-8f1f-4ef9-bb56-d475be09b89d"
   },
   "outputs": [
    {
     "data": {
      "text/plain": [
       "30"
      ]
     },
     "execution_count": 48,
     "metadata": {},
     "output_type": "execute_result"
    }
   ],
   "source": [
    "num.reduce(lambda a,b: a+b)"
   ]
  },
  {
   "cell_type": "markdown",
   "metadata": {},
   "source": [
    "num2.reduce(lambda a,b,c: a+b+c)\n",
    "\n",
    "error, reduce only takes 2 arguments"
   ]
  },
  {
   "cell_type": "code",
   "execution_count": 49,
   "metadata": {
    "id": "rnyJzlHm5ThP",
    "outputId": "6a00f43a-5b14-48e2-8739-dfb378143f30"
   },
   "outputs": [
    {
     "data": {
      "text/plain": [
       "10800"
      ]
     },
     "execution_count": 49,
     "metadata": {},
     "output_type": "execute_result"
    }
   ],
   "source": [
    "num.reduce(lambda a,b: a*b)"
   ]
  },
  {
   "cell_type": "code",
   "execution_count": 50,
   "metadata": {
    "id": "M7x_9zoq5ThP",
    "outputId": "35bc1d11-b3a7-474b-c0d0-6f434c7c29b1"
   },
   "outputs": [
    {
     "data": {
      "text/plain": [
       "9"
      ]
     },
     "execution_count": 50,
     "metadata": {},
     "output_type": "execute_result"
    }
   ],
   "source": [
    "num.reduce(lambda x,y: x if x > y else y)"
   ]
  },
  {
   "cell_type": "code",
   "execution_count": 51,
   "metadata": {
    "id": "N-0mMhet5ThP"
   },
   "outputs": [],
   "source": [
    "def myfun(a,b):\n",
    "    return a*2 + b*2"
   ]
  },
  {
   "cell_type": "code",
   "execution_count": 52,
   "metadata": {
    "id": "r7lPR95z5ThP",
    "outputId": "c191c40f-6205-491e-a6f3-5d3cb2aabca0"
   },
   "outputs": [
    {
     "data": {
      "text/plain": [
       "872"
      ]
     },
     "execution_count": 52,
     "metadata": {},
     "output_type": "execute_result"
    }
   ],
   "source": [
    "num.reduce(myfun)"
   ]
  },
  {
   "cell_type": "code",
   "execution_count": 53,
   "metadata": {
    "id": "BnjEC25U5ThP",
    "outputId": "c6add8ab-14cd-45bd-89b6-e4220ba91c28"
   },
   "outputs": [
    {
     "data": {
      "text/plain": [
       "[5, 5, 4, 3, 2, 9, 2]"
      ]
     },
     "execution_count": 53,
     "metadata": {},
     "output_type": "execute_result"
    }
   ],
   "source": [
    "num.collect()"
   ]
  },
  {
   "cell_type": "code",
   "execution_count": 54,
   "metadata": {
    "id": "ZynSW8pJ5ThP",
    "outputId": "31c0cb56-76b9-41c1-b3b2-74728d6d4de3"
   },
   "outputs": [
    {
     "data": {
      "text/plain": [
       "[2, 2, 3]"
      ]
     },
     "execution_count": 54,
     "metadata": {},
     "output_type": "execute_result"
    }
   ],
   "source": [
    "num.takeOrdered(3)"
   ]
  },
  {
   "cell_type": "markdown",
   "metadata": {},
   "source": [
    "#### fold function -> action"
   ]
  },
  {
   "cell_type": "markdown",
   "metadata": {
    "id": "6yUTevgR5ThP"
   },
   "source": [
    "fold: the initial value for the accumulated result of each partition for the op operator,\n",
    "and also the initial value for the combine results from different partitions"
   ]
  },
  {
   "cell_type": "code",
   "execution_count": 55,
   "metadata": {
    "id": "wRSLIau_5ThP",
    "outputId": "ec490632-161c-4dd0-a3bb-c84fa6884074"
   },
   "outputs": [
    {
     "data": {
      "text/plain": [
       "[5, 5, 4, 3, 2, 9, 2]"
      ]
     },
     "execution_count": 55,
     "metadata": {},
     "output_type": "execute_result"
    }
   ],
   "source": [
    "num = sc.parallelize([5,5,4,3,2,9,2],2)\n",
    "num.collect()"
   ]
  },
  {
   "cell_type": "code",
   "execution_count": 56,
   "metadata": {
    "id": "ge7_Zuiq5ThP",
    "outputId": "c6553f7a-af18-4b60-879d-ed6891c8e528"
   },
   "outputs": [
    {
     "data": {
      "text/plain": [
       "[[5, 5, 4], [3, 2, 9, 2]]"
      ]
     },
     "execution_count": 56,
     "metadata": {},
     "output_type": "execute_result"
    }
   ],
   "source": [
    "num.glom().collect()"
   ]
  },
  {
   "cell_type": "code",
   "execution_count": 57,
   "metadata": {
    "id": "KBHfUARp5ThQ",
    "outputId": "9fe67507-672e-460a-eb41-3d94c07dacf5"
   },
   "outputs": [
    {
     "data": {
      "text/plain": [
       "30"
      ]
     },
     "execution_count": 57,
     "metadata": {},
     "output_type": "execute_result"
    }
   ],
   "source": [
    "num.reduce(lambda a,b: a+b)"
   ]
  },
  {
   "cell_type": "code",
   "execution_count": 58,
   "metadata": {
    "id": "1YevXOnr5ThQ",
    "outputId": "cd780c27-9673-4abd-c1f5-f930ad0ce0fd"
   },
   "outputs": [
    {
     "data": {
      "text/plain": [
       "10800"
      ]
     },
     "execution_count": 58,
     "metadata": {},
     "output_type": "execute_result"
    }
   ],
   "source": [
    "num.reduce(lambda a,b: a*b)"
   ]
  },
  {
   "cell_type": "code",
   "execution_count": 59,
   "metadata": {},
   "outputs": [
    {
     "name": "stdout",
     "output_type": "stream",
     "text": [
      "Help on method fold in module pyspark.rdd:\n",
      "\n",
      "fold(zeroValue: ~T, op: Callable[[~T, ~T], ~T]) -> ~T method of pyspark.rdd.RDD instance\n",
      "    Aggregate the elements of each partition, and then the results for all\n",
      "    the partitions, using a given associative function and a neutral \"zero value.\"\n",
      "    \n",
      "    The function ``op(t1, t2)`` is allowed to modify ``t1`` and return it\n",
      "    as its result value to avoid object allocation; however, it should not\n",
      "    modify ``t2``.\n",
      "    \n",
      "    This behaves somewhat differently from fold operations implemented\n",
      "    for non-distributed collections in functional languages like Scala.\n",
      "    This fold operation may be applied to partitions individually, and then\n",
      "    fold those results into the final result, rather than apply the fold\n",
      "    to each element sequentially in some defined ordering. For functions\n",
      "    that are not commutative, the result may differ from that of a fold\n",
      "    applied to a non-distributed collection.\n",
      "    \n",
      "    .. versionadded:: 0.7.0\n",
      "    \n",
      "    Parameters\n",
      "    ----------\n",
      "    zeroValue : T\n",
      "        the initial value for the accumulated result of each partition\n",
      "    op : function\n",
      "        a function used to both accumulate results within a partition and combine\n",
      "        results from different partitions\n",
      "    \n",
      "    Returns\n",
      "    -------\n",
      "    T\n",
      "        the aggregated result\n",
      "    \n",
      "    See Also\n",
      "    --------\n",
      "    :meth:`RDD.reduce`\n",
      "    :meth:`RDD.aggregate`\n",
      "    \n",
      "    Examples\n",
      "    --------\n",
      "    >>> from operator import add\n",
      "    >>> sc.parallelize([1, 2, 3, 4, 5]).fold(0, add)\n",
      "    15\n",
      "\n"
     ]
    }
   ],
   "source": [
    "help(num.fold)"
   ]
  },
  {
   "cell_type": "markdown",
   "metadata": {},
   "source": [
    "    zeroValue : T\n",
    "            the initial value for the accumulated result of each partition\n",
    "        op : function"
   ]
  },
  {
   "cell_type": "code",
   "execution_count": 60,
   "metadata": {
    "id": "aLY6PF5y5ThQ",
    "outputId": "af1f1c32-fd6f-4121-d0c5-6fc12e28aa3e"
   },
   "outputs": [
    {
     "data": {
      "text/plain": [
       "36"
      ]
     },
     "execution_count": 60,
     "metadata": {},
     "output_type": "execute_result"
    }
   ],
   "source": [
    "num.fold(2,lambda a,b:a+b) # ... + 2 * numSlices + 1"
   ]
  },
  {
   "attachments": {
    "image.png": {
     "image/png": "[encoded data removed]"
    }
   },
   "cell_type": "markdown",
   "metadata": {},
   "source": [
    "![image.png](attachment:image.png)"
   ]
  },
  {
   "cell_type": "code",
   "execution_count": 61,
   "metadata": {
    "id": "M_L9FEh55ThQ",
    "outputId": "0b8dfe4f-b6bc-46f1-d5d5-c3373da4a55e"
   },
   "outputs": [
    {
     "data": {
      "text/plain": [
       "86400"
      ]
     },
     "execution_count": 61,
     "metadata": {},
     "output_type": "execute_result"
    }
   ],
   "source": [
    "num.fold(2,lambda a,b : a*b) # ... * 2 ** numSlices + 1"
   ]
  },
  {
   "cell_type": "code",
   "execution_count": 62,
   "metadata": {},
   "outputs": [
    {
     "name": "stdout",
     "output_type": "stream",
     "text": [
      "Help on built-in function add in module _operator:\n",
      "\n",
      "add(a, b, /)\n",
      "    Same as a + b.\n",
      "\n"
     ]
    }
   ],
   "source": [
    "from operator import add\n",
    "help(add)"
   ]
  },
  {
   "cell_type": "code",
   "execution_count": 63,
   "metadata": {
    "id": "XVr60gAI5ThQ",
    "outputId": "f9d7f8c5-344a-4ddf-bd8f-eaa8e8abe1aa"
   },
   "outputs": [
    {
     "data": {
      "text/plain": [
       "17"
      ]
     },
     "execution_count": 63,
     "metadata": {},
     "output_type": "execute_result"
    }
   ],
   "source": [
    "from operator import add\n",
    "b=sc.parallelize([1, 2, 3, 4, 5])\n",
    "b.fold(1, add)"
   ]
  },
  {
   "cell_type": "code",
   "execution_count": 64,
   "metadata": {
    "id": "AJXkJVsJ5ThQ",
    "outputId": "922d6e73-c6f5-430c-c13d-0b711320cb12"
   },
   "outputs": [
    {
     "data": {
      "text/plain": [
       "1080000"
      ]
     },
     "execution_count": 64,
     "metadata": {},
     "output_type": "execute_result"
    }
   ],
   "source": [
    "from operator import add,mul\n",
    "num3 = sc.parallelize([5,5,4,3,2,9,2]).fold(10,mul) # ... * 10 ** numSlices + 1\n",
    "num3"
   ]
  },
  {
   "cell_type": "code",
   "execution_count": 65,
   "metadata": {
    "id": "cmpf2FAd5ThR"
   },
   "outputs": [],
   "source": [
    "b = sc.parallelize(range(1,10))"
   ]
  },
  {
   "cell_type": "code",
   "execution_count": 66,
   "metadata": {
    "id": "Ii9PCFOL5ThR",
    "outputId": "3dc68490-c803-4b2e-df9a-6d2586211dd9"
   },
   "outputs": [
    {
     "data": {
      "text/plain": [
       "[1, 2, 3, 4, 5, 6, 7, 8, 9]"
      ]
     },
     "execution_count": 66,
     "metadata": {},
     "output_type": "execute_result"
    }
   ],
   "source": [
    "b.collect()"
   ]
  },
  {
   "cell_type": "code",
   "execution_count": null,
   "metadata": {
    "id": "1KuO86W85ThR"
   },
   "outputs": [],
   "source": []
  }
 ],
 "metadata": {
  "colab": {
   "provenance": []
  },
  "kernelspec": {
   "display_name": "PySparkEnv",
   "language": "python",
   "name": "python3"
  },
  "language_info": {
   "codemirror_mode": {
    "name": "ipython",
    "version": 3
   },
   "file_extension": ".py",
   "mimetype": "text/x-python",
   "name": "python",
   "nbconvert_exporter": "python",
   "pygments_lexer": "ipython3",
   "version": "3.10.15"
  }
 },
 "nbformat": 4,
 "nbformat_minor": 0
}
